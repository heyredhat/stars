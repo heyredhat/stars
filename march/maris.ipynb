{
 "cells": [
  {
   "cell_type": "code",
   "execution_count": null,
   "metadata": {
    "scrolled": false
   },
   "outputs": [
    {
     "data": {
      "application/javascript": [
       "require.undef(\"nbextensions/vpython_libraries/glow.min\");"
      ],
      "text/plain": [
       "<IPython.core.display.Javascript object>"
      ]
     },
     "metadata": {},
     "output_type": "display_data"
    },
    {
     "data": {
      "application/javascript": [
       "require.undef(\"nbextensions/vpython_libraries/glowcomm\");"
      ],
      "text/plain": [
       "<IPython.core.display.Javascript object>"
      ]
     },
     "metadata": {},
     "output_type": "display_data"
    },
    {
     "data": {
      "application/javascript": [
       "require.undef(\"nbextensions/vpython_libraries/jquery-ui.custom.min\");"
      ],
      "text/plain": [
       "<IPython.core.display.Javascript object>"
      ]
     },
     "metadata": {},
     "output_type": "display_data"
    },
    {
     "data": {
      "application/javascript": [
       "require([\"nbextensions/vpython_libraries/glow.min\"], function(){console.log(\"GLOW LOADED\");})"
      ],
      "text/plain": [
       "<IPython.core.display.Javascript object>"
      ]
     },
     "metadata": {},
     "output_type": "display_data"
    },
    {
     "data": {
      "application/javascript": [
       "require([\"nbextensions/vpython_libraries/glowcomm\"], function(){console.log(\"GLOWCOMM LOADED\");})"
      ],
      "text/plain": [
       "<IPython.core.display.Javascript object>"
      ]
     },
     "metadata": {},
     "output_type": "display_data"
    },
    {
     "data": {
      "application/javascript": [
       "require([\"nbextensions/vpython_libraries/jquery-ui.custom.min\"], function(){console.log(\"JQUERY LOADED\");})"
      ],
      "text/plain": [
       "<IPython.core.display.Javascript object>"
      ]
     },
     "metadata": {},
     "output_type": "display_data"
    },
    {
     "data": {
      "text/html": [
       "<div id=\"glowscript\" class=\"glowscript\"></div>"
      ],
      "text/plain": [
       "<IPython.core.display.HTML object>"
      ]
     },
     "metadata": {},
     "output_type": "display_data"
    },
    {
     "data": {
      "application/javascript": [
       "window.__context = { glowscript_container: $(\"#glowscript\").removeAttr(\"id\")}"
      ],
      "text/plain": [
       "<IPython.core.display.Javascript object>"
      ]
     },
     "metadata": {},
     "output_type": "display_data"
    }
   ],
   "source": [
    "import math\n",
    "import cmath\n",
    "import vpython\n",
    "import numpy as np\n",
    "import random\n",
    "\n",
    "##################################################################################################################\n",
    "\n",
    "im = complex(0,1)\n",
    "X = np.array([[0,1],\\\n",
    "              [1,0]])\n",
    "Y = np.array([[0,-1*im],\\\n",
    "               [im,0]])\n",
    "Z = np.array([[1,0],\\\n",
    "              [0,-1]])\n",
    "\n",
    "##################################################################################################################\n",
    "\n",
    "# 0 <= latitude <= math.pi \n",
    "# 0 <= longitude <= 2*math.pi \n",
    "def TwoAngles_to_PureQubit(latitude, longitude):\n",
    "    return np.array([[math.cos(latitude/2.)],\\\n",
    "                     [cmath.exp(complex(0,1)*longitude)*math.sin(latitude/2.)]])\n",
    "\n",
    "def TwoAngles_to_R3(latitude, longitude):\n",
    "    x = math.sin(latitude)*math.cos(longitude)\n",
    "    y = math.sin(latitude)*math.sin(longitude)\n",
    "    z = math.cos(latitude)\n",
    "    return np.array([[x],\\\n",
    "                     [y],\\\n",
    "                     [z]])\n",
    "\n",
    "def PureQubit_to_QubitDM(pureQubit):\n",
    "    return np.outer(pureQubit, np.conjugate(pureQubit).T)\n",
    "\n",
    "def TwoAngles_to_QubitDM(latitude, longitude):\n",
    "    return (1./2.)*np.array([[1+math.cos(latitude), cmath.exp(-1*im*longitude)*math.sin(latitude)],\\\n",
    "                             [cmath.exp(im*longitude)*math.sin(latitude), 1-math.cos(latitude)]])\n",
    "\n",
    "def R3_to_QubitDM(r3):\n",
    "    x, y, z = r3.T[0]\n",
    "    return (1./2)*(np.eye(2) + x*X + y*Y + z*Z)\n",
    "\n",
    "def PureQubits_to_InnerSquared(pureQubitA, pureQubitB):\n",
    "    amplitude = np.inner(pureQubitA, np.conjugate(pureQubitB))\n",
    "    return amplitude*np.conjugate(amplitude)\n",
    "\n",
    "def QubitDMs_to_InnerSquared(qubitDMA, qubitDMB):\n",
    "    return np.trace(np.dot(qubitDMA, qubitDMB))\n",
    "\n",
    "def R3s_to_InnerSquared(r3A, r3B):\n",
    "    return (1./2.)*(1 + np.inner(r3A, r3B.T))\n",
    "\n",
    "def rotation(around_axis, angle):\n",
    "    return R3_to_QubitDM(around_axis) + cmath.exp(im*angle)*R3_to_QubitDM(-1*around_axis)\n",
    "\n",
    "def PureQubit_to_C(pureQubit):\n",
    "    alpha = pureQubit[0][0]\n",
    "    beta = pureQubit[0][1]\n",
    "    if beta == 0:\n",
    "        return float('Inf')\n",
    "    else:\n",
    "        return alpha/beta\n",
    "    \n",
    "def TwoAngles_to_C(latitude, longitude):\n",
    "    if math.sin(latitude) == 0:\n",
    "        return float('Inf')\n",
    "    else:\n",
    "        cotangent = math.cos(latitude/2.)/math.sin(latitude/2.)\n",
    "        return cmath.exp(-1*im*longitude)*cotangent\n",
    "\n",
    "def R3_to_C(r3):\n",
    "    x, y, z = r3.T[0]\n",
    "    if z == 1:\n",
    "        return float(\"Inf\")\n",
    "    return (x-im*y[1])/(1-z[2])\n",
    "\n",
    "def R4_to_C2(r4):\n",
    "    x, y, z, w = r4.T[0]\n",
    "    return np.array([[complex(x, y)],\\\n",
    "                     [complex(z, w)]])\n",
    "\n",
    "# 0 <= first_latitude/second_latitude <= math.pi\n",
    "# 0 <= longitude <= 2*math.pi\n",
    "def ThreeAngles_to_R4(first_latitude, second_latitude, longitude):\n",
    "    x = math.sin(first_latitude)*math.sin(second_latitude)*math.sin(longitude)\n",
    "    y = math.sin(first_latitude)*math.sin(second_latitude)*math.cos(longitude)\n",
    "    z = math.sin(first_latitude)*math.cos(second_latitude)\n",
    "    w = math.cos(first_latitude)\n",
    "    return np.array([[x],\\\n",
    "                     [y],\\\n",
    "                     [z],\\\n",
    "                     [w]])\n",
    "\n",
    "def C2_to_hopfCircle(c2, angle):\n",
    "    return cmath.exp(im*angle)*c2\n",
    "\n",
    "def R4_to_hopfCircle(r4, angle):\n",
    "    transformation = np.array([[math.cos(angle), -1*math.sin(angle), 0, 0],\\\n",
    "                               [math.sin(angle), math.cos(angle), 0, 0],\\\n",
    "                               [0, 0, math.cos(angle), -1*math.sin(angle)],\\\n",
    "                               [0, 0, math.sin(angle), math.cos(angle)]])\n",
    "    return transformation*r4\n",
    "\n",
    "def R4_to_R3(r4):\n",
    "    x, y, z, w = r4.T[0]\n",
    "    if w == 1:\n",
    "        return float(\"Inf\")\n",
    "    else:\n",
    "        xyz = np.array([[x],\\\n",
    "                        [y],\\\n",
    "                        [z]])\n",
    "        return (1/(1-w))*xyz\n",
    "\n",
    "def C2_to_C(c2):\n",
    "    alpha, beta = c2.T[0]\n",
    "    if beta == 0:\n",
    "        return float(\"Inf\")\n",
    "    return alpha/beta\n",
    "\n",
    "def C_to_R3(c):\n",
    "    if c == float(\"Inf\"):\n",
    "        return np.array([[0],\\\n",
    "                         [0],\\\n",
    "                         [1]])\n",
    "    x = (c+np.conjugate(c))/(c*np.conjugate(c)+1)\n",
    "    y = im*(c-np.conjugate(c))/(c*np.conjugate(c)+1)\n",
    "    z = (c*np.conjugate(c)-1)/(c*np.conjugate(c)+1)\n",
    "    return np.array([[x],\\\n",
    "                     [y],\\\n",
    "                     [z]])\n",
    "\n",
    "def C2_to_R3(c2):\n",
    "    alpha, beta = c2.T[0]\n",
    "    x = 2*(np.conjugate(alpha)*beta).real\n",
    "    y = 2*(np.conjugate(alpha)*beta).imag\n",
    "    z = (alpha*np.conjugate(alpha)-beta*np.conjugate(beta))\n",
    "    return np.array([[x],\\\n",
    "                     [y],\\\n",
    "                     [z]])\n",
    "\n",
    "##################################################################################################################\n",
    "\n",
    "dt = 0.1\n",
    "n_points = 100\n",
    "touched = True\n",
    "first_latitude = random.uniform(0, math.pi)\n",
    "second_latitude = random.uniform(0, math.pi)\n",
    "longitude = random.uniform(0, 2*math.pi)\n",
    "\n",
    "vpython.scene.width = 600\n",
    "vpython.scene.height = 800\n",
    "\n",
    "vsphere = vpython.sphere(pos=vpython.vector(0,0,0),\\\n",
    "                         radius=1.0,\\\n",
    "                         color=vpython.color.blue,\\\n",
    "                         opacity=0.6)\n",
    "vbase = vpython.sphere(radius=0.1,\\\n",
    "                       color=vpython.color.white,\\\n",
    "                       opacity=0.7,\\\n",
    "                       emissive=True)\n",
    "vfiber = vpython.curve(pos=[vpython.vector(0,0,0) for i in range(n_points)],\\\n",
    "                       color=vpython.color.white)\n",
    "\n",
    "# 0 <= first_latitude/second_latitude <= math.pi\n",
    "# 0 <= longitude <= 2*math.pi\n",
    "\n",
    "def keyboard(event):\n",
    "    global first_latitude\n",
    "    global second_latitude\n",
    "    global longitude\n",
    "    global touched\n",
    "    key = event.key\n",
    "    if key == \"a\":\n",
    "        first_latitude -= dt\n",
    "    elif key == \"d\":\n",
    "        first_latitude += dt\n",
    "    elif key == \"s\":\n",
    "        longitude -= dt\n",
    "    elif key == \"w\":\n",
    "        longitude += dt\n",
    "    elif key == \"z\":\n",
    "        second_latitude -= dt\n",
    "    elif key == \"x\":\n",
    "        second_latitude +=dt\n",
    "    while first_latitude < 0:\n",
    "        first_latitude += math.pi\n",
    "    while first_latitude > math.pi:\n",
    "        first_latitude -= math.pi\n",
    "    while second_latitude < 0:\n",
    "        second_latitude += math.pi\n",
    "    while first_latitude > math.pi:\n",
    "        second_latitude -= math.pi\n",
    "    while longitude < 0:\n",
    "        longitude += 2*math.pi\n",
    "    while longitude > 2*math.pi:\n",
    "        longitude -= 2*math.pi\n",
    "    touched = True\n",
    "        \n",
    "vpython.scene.bind('keydown', keyboard)\n",
    "\n",
    "vpython.rate(500)\n",
    "r4 = ThreeAngles_to_R4(first_latitude, second_latitude, longitude)\n",
    "circle = np.linspace(0, 2*math.pi, num=n_points)\n",
    "hopf_points = [R4_to_hopfCircle(r4, angle) for angle in circle]\n",
    "for i in range(n_points):\n",
    "    hopf_point = hopf_points[i]\n",
    "    proj = R4_to_R3(hopf_point)\n",
    "    if not isinstance(proj, float):\n",
    "        x, y, z = proj.T[0]\n",
    "    vfiber.modify(i, pos=vpython.vector(x.real, y.real, z.real))\n",
    "x, y, z = C2_to_R3(R4_to_C2(r4)).T[0]\n",
    "#x, y, z = C_to_R3(C2_to_C(R4_to_C2(r4))).T[0]\n",
    "vbase.pos = vpython.vector(x.real, y.real, z.real)\n",
    "        \n",
    "while True:\n",
    "    vpython.rate(500)\n",
    "    if touched:\n",
    "        r4 = ThreeAngles_to_R4(first_latitude, second_latitude, longitude)\n",
    "        circle = np.linspace(0, 2*math.pi, num=n_points)\n",
    "        hopf_points = [R4_to_hopfCircle(r4, angle) for angle in circle]\n",
    "        for i in range(n_points):\n",
    "            hopf_point = hopf_points[i]\n",
    "            proj = R4_to_R3(hopf_point)\n",
    "            if not isinstance(proj, float):\n",
    "                x, y, z = proj.T[0]\n",
    "            vfiber.modify(i, pos=vpython.vector(x.real, y.real, z.real))\n",
    "        x, y, z = C2_to_R3(R4_to_C2(r4)).T[0]\n",
    "        #x, y, z = C_to_R3(C2_to_C(R4_to_C2(r4))).T[0]\n",
    "        vbase.pos = vpython.vector(x.real, y.real, z.real)\n",
    "        touched = False"
   ]
  },
  {
   "cell_type": "code",
   "execution_count": null,
   "metadata": {
    "collapsed": true
   },
   "outputs": [],
   "source": []
  }
 ],
 "metadata": {
  "kernelspec": {
   "display_name": "VPython",
   "language": "python",
   "name": "vpython"
  },
  "language_info": {
   "codemirror_mode": {
    "name": "ipython",
    "version": 3
   },
   "file_extension": ".py",
   "mimetype": "text/x-python",
   "name": "python",
   "nbconvert_exporter": "python",
   "pygments_lexer": "ipython3",
   "version": "3.6.3"
  }
 },
 "nbformat": 4,
 "nbformat_minor": 2
}
