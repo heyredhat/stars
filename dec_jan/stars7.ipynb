{
 "cells": [
  {
   "cell_type": "code",
   "execution_count": null,
   "metadata": {
    "scrolled": true
   },
   "outputs": [
    {
     "data": {
      "application/javascript": [
       "require.undef(\"nbextensions/vpython_libraries/glow.min\");"
      ],
      "text/plain": [
       "<IPython.core.display.Javascript object>"
      ]
     },
     "metadata": {},
     "output_type": "display_data"
    },
    {
     "data": {
      "application/javascript": [
       "require.undef(\"nbextensions/vpython_libraries/glowcomm\");"
      ],
      "text/plain": [
       "<IPython.core.display.Javascript object>"
      ]
     },
     "metadata": {},
     "output_type": "display_data"
    },
    {
     "data": {
      "application/javascript": [
       "require.undef(\"nbextensions/vpython_libraries/jquery-ui.custom.min\");"
      ],
      "text/plain": [
       "<IPython.core.display.Javascript object>"
      ]
     },
     "metadata": {},
     "output_type": "display_data"
    },
    {
     "data": {
      "application/javascript": [
       "require([\"nbextensions/vpython_libraries/glow.min\"], function(){console.log(\"GLOW LOADED\");})"
      ],
      "text/plain": [
       "<IPython.core.display.Javascript object>"
      ]
     },
     "metadata": {},
     "output_type": "display_data"
    },
    {
     "data": {
      "application/javascript": [
       "require([\"nbextensions/vpython_libraries/glowcomm\"], function(){console.log(\"GLOWCOMM LOADED\");})"
      ],
      "text/plain": [
       "<IPython.core.display.Javascript object>"
      ]
     },
     "metadata": {},
     "output_type": "display_data"
    },
    {
     "data": {
      "application/javascript": [
       "require([\"nbextensions/vpython_libraries/jquery-ui.custom.min\"], function(){console.log(\"JQUERY LOADED\");})"
      ],
      "text/plain": [
       "<IPython.core.display.Javascript object>"
      ]
     },
     "metadata": {},
     "output_type": "display_data"
    },
    {
     "data": {
      "text/html": [
       "<div id=\"glowscript\" class=\"glowscript\"></div>"
      ],
      "text/plain": [
       "<IPython.core.display.HTML object>"
      ]
     },
     "metadata": {},
     "output_type": "display_data"
    },
    {
     "data": {
      "application/javascript": [
       "window.__context = { glowscript_container: $(\"#glowscript\").removeAttr(\"id\")}"
      ],
      "text/plain": [
       "<IPython.core.display.Javascript object>"
      ]
     },
     "metadata": {},
     "output_type": "display_data"
    }
   ],
   "source": [
    "import vpython\n",
    "import numpy as np\n",
    "import scipy.linalg\n",
    "import math\n",
    "import mpmath\n",
    "import qutip\n",
    "import random\n",
    "\n",
    "class Sphere:\n",
    "    def __init__(self, n):\n",
    "        self.n = n\n",
    "        self.state = qutip.rand_ket(self.n)\n",
    "        self.energy = qutip.rand_herm(self.n)\n",
    "        \n",
    "\n",
    "\n",
    "def scalar_to_vector(z):\n",
    "    x = z.real\n",
    "    y = z.imag\n",
    "    return [(2*x)/(1.+(x**2)+(y**2)),\\\n",
    "           (2*y)/(1.+(x**2)+(y**2)),\\\n",
    "           (-1.+(x**2)+(y**2))/(1.+(x**2)+(y**2))]\n",
    "\n",
    "def vector_to_scalar(x, y, z):\n",
    "    if z == 1:\n",
    "        return Inf \n",
    "    else:\n",
    "        return complex(x/(1-z), y/(1-z))\n",
    "\n",
    "# Dimensionality\n",
    "n = 4\n",
    "# Total pure state vector of the sphere\n",
    "state = qutip.rand_ket(n)\n",
    "# Total energy function\n",
    "energy = qutip.rand_herm(n)\n",
    "# Graphics init\n",
    "vpython.scene.range = 1\n",
    "vpython.scene.forward = vpython.vector(random.random(), random.random(), random.random())\n",
    "sphere = vpython.sphere(pos=vpython.vector(0,0,0), radius=1,\\\n",
    "                     color=vpython.color.blue, opacity=0.5)\n",
    "\n",
    "# Emanations...\n",
    "polynomial = None\n",
    "pure_scalars = None\n",
    "pure_vectors = None\n",
    "pure_matrices = None\n",
    "m = None\n",
    "impure_matrices = None\n",
    "impure_vectors = None\n",
    "pure_stars = None\n",
    "impure_stars = None\n",
    "\n",
    "def emanate(state):\n",
    "    global polynomial\n",
    "    global pure_scalars\n",
    "    global pure_vectors\n",
    "    global pure_matrices\n",
    "    global m\n",
    "    global impure_matrices\n",
    "    global impure_vectors\n",
    "    global pure_stars\n",
    "    global impure_stars\n",
    "    polynomial = state.full().T.tolist()[0]\n",
    "    # Roots of corresponding polynomial on equatorial plane\n",
    "    pure_scalars = mpmath.polyroots(polynomial)\n",
    "    # Spacetime vectors to surface stars on sphere\n",
    "    pure_vectors = [scalar_to_vector(scalar) for scalar in pure_scalars]\n",
    "    # Hermitian matrices of surface stars\n",
    "    pure_matrices = [vector[0]*qutip.sigmax().full()+\\\n",
    "                         vector[1]*qutip.sigmay().full()+\\\n",
    "                         vector[2]*qutip.sigmaz().full() for vector in pure_vectors]\n",
    "    # Hermitian matrices of interior stars\n",
    "    m = int(math.log(n,2))\n",
    "    state.dims = [[2]*m,[1]*m]\n",
    "    impure_matrices = [state.ptrace(i) for i in range(m)]\n",
    "    # Spacetime vectors of interior stars\n",
    "    impure_vectors = [[qutip.expect(qutip.sigmax(), matrix),\\\n",
    "                       qutip.expect(qutip.sigmay(), matrix),\\\n",
    "                       qutip.expect(qutip.sigmaz(), matrix)] \n",
    "                            for matrix in impure_matrices]\n",
    "    if pure_stars == None:\n",
    "        pure_stars = [vpython.sphere(pos=vpython.vector(*vector),\\\n",
    "                             radius=0.1, color=vpython.color.white,\\\n",
    "                             opacity=1.0, emissive=False) for vector in pure_vectors]\n",
    "    else:\n",
    "        for i in range(len(pure_stars)):\n",
    "            pure_stars[i].pos = vpython.vector(*pure_vectors[i])\n",
    "    if impure_stars == None:\n",
    "        impure_stars = [vpython.sphere(pos=vpython.vector(*vector),\\\n",
    "                               radius=0.1, color=vpython.color.red,\\\n",
    "                               opacity=1.0, emissive=False) for vector in impure_vectors]\n",
    "    else:\n",
    "        for i in range(len(impure_stars)):\n",
    "            impure_stars[i].pos = vpython.vector(*impure_vectors[i])\n",
    "\n",
    "t = 0\n",
    "dt = 0.0002\n",
    "emanate(state)\n",
    "while True:\n",
    "    vpython.rate(10)\n",
    "    propagator = scipy.linalg.expm(-2*math.pi*complex(0,1)*energy.full()*t)\n",
    "    state = qutip.Qobj(propagator.dot(state.full()))\n",
    "    emanate(state)\n",
    "    t += dt"
   ]
  },
  {
   "cell_type": "code",
   "execution_count": null,
   "metadata": {},
   "outputs": [],
   "source": []
  }
 ],
 "metadata": {
  "kernelspec": {
   "display_name": "VPython",
   "language": "python",
   "name": "vpython"
  },
  "language_info": {
   "codemirror_mode": {
    "name": "ipython",
    "version": 2
   },
   "file_extension": ".py",
   "mimetype": "text/x-python",
   "name": "python",
   "nbconvert_exporter": "python",
   "pygments_lexer": "ipython2",
   "version": "2.7.12"
  }
 },
 "nbformat": 4,
 "nbformat_minor": 2
}
