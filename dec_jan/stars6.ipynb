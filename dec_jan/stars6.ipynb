{
 "cells": [
  {
   "cell_type": "code",
   "execution_count": null,
   "metadata": {
    "scrolled": false
   },
   "outputs": [
    {
     "data": {
      "application/javascript": [
       "require.undef(\"nbextensions/vpython_libraries/glow.min\");"
      ],
      "text/plain": [
       "<IPython.core.display.Javascript object>"
      ]
     },
     "metadata": {},
     "output_type": "display_data"
    },
    {
     "data": {
      "application/javascript": [
       "require.undef(\"nbextensions/vpython_libraries/glowcomm\");"
      ],
      "text/plain": [
       "<IPython.core.display.Javascript object>"
      ]
     },
     "metadata": {},
     "output_type": "display_data"
    },
    {
     "data": {
      "application/javascript": [
       "require.undef(\"nbextensions/vpython_libraries/jquery-ui.custom.min\");"
      ],
      "text/plain": [
       "<IPython.core.display.Javascript object>"
      ]
     },
     "metadata": {},
     "output_type": "display_data"
    },
    {
     "data": {
      "application/javascript": [
       "require([\"nbextensions/vpython_libraries/glow.min\"], function(){console.log(\"GLOW LOADED\");})"
      ],
      "text/plain": [
       "<IPython.core.display.Javascript object>"
      ]
     },
     "metadata": {},
     "output_type": "display_data"
    },
    {
     "data": {
      "application/javascript": [
       "require([\"nbextensions/vpython_libraries/glowcomm\"], function(){console.log(\"GLOWCOMM LOADED\");})"
      ],
      "text/plain": [
       "<IPython.core.display.Javascript object>"
      ]
     },
     "metadata": {},
     "output_type": "display_data"
    },
    {
     "data": {
      "application/javascript": [
       "require([\"nbextensions/vpython_libraries/jquery-ui.custom.min\"], function(){console.log(\"JQUERY LOADED\");})"
      ],
      "text/plain": [
       "<IPython.core.display.Javascript object>"
      ]
     },
     "metadata": {},
     "output_type": "display_data"
    },
    {
     "data": {
      "text/html": [
       "<div id=\"glowscript\" class=\"glowscript\"></div>"
      ],
      "text/plain": [
       "<IPython.core.display.HTML object>"
      ]
     },
     "metadata": {},
     "output_type": "display_data"
    },
    {
     "data": {
      "application/javascript": [
       "window.__context = { glowscript_container: $(\"#glowscript\").removeAttr(\"id\")}"
      ],
      "text/plain": [
       "<IPython.core.display.Javascript object>"
      ]
     },
     "metadata": {},
     "output_type": "display_data"
    }
   ],
   "source": [
    "# THE STELLAR INTERPRETATION OF QUANTUM MECHANICS\n",
    "# THANKS TO ETTORE MAJORANA. VERSION 3.0\n",
    "#\n",
    "# Now with density matrices. See settings below.\n",
    "#\n",
    "# Choose:\n",
    "n=4\n",
    "# Choose n where n is the dimensionality of the randomly \n",
    "# generated quantum system, leading to n constellations of\n",
    "# n-1 stars in the sky, each constellation\n",
    "# corresponding to an eigenvector of the density matrix.\n",
    "# The \"height\" or \"size\" of the stars in each constellation\n",
    "# is determined by the eigenvalue squared, and the color \n",
    "# of the stars within a constellation are all the same,\n",
    "# randomly chosen.\n",
    "\n",
    "import vpython\n",
    "import numpy as np\n",
    "import scipy.linalg\n",
    "import math\n",
    "import mpmath\n",
    "import qutip\n",
    "import random\n",
    "\n",
    "# Stereographically projects an XYZ cartesian coordinate on \n",
    "# the Riemann sphere to a point on the complex plane.\n",
    "def flatten(x, y, z):\n",
    "    if z == 1:\n",
    "        return Inf \n",
    "    else:\n",
    "        return complex(x/(1-z), y/(1-z))\n",
    "\n",
    "# Reverse stereographically projects a point on the complex plane\n",
    "# to an XYZ cartesian coordinate on the Riemann sphere.\n",
    "def rollup(z):\n",
    "    x = z.real\n",
    "    y = z.imag\n",
    "    return (2*x)/(1+(x**2)+(y**2)), \\\n",
    "            (2*y)/(1+(x**2)+(y**2)), \\\n",
    "            (-1+(x**2)+(y**2))/(1+(x**2)+(y**2))\n",
    "        \n",
    "# Takes a complex vector, interprets its ordered components as\n",
    "# the coefficients of a polynomial in one variable, and solves for\n",
    "# the roots, giving an unordered set of complex numbers. \n",
    "# These complex points are reverse stereographically projected onto \n",
    "# the Riemann sphere, and the XYZ cartesian coordinates of these points \n",
    "# are returned. When there's a ZeroDivisionError aka we're at infinity,\n",
    "# we map to the point (0,0,1) aka the North Pole.\n",
    "def constellate(v):\n",
    "    try:\n",
    "        roots = mpmath.polyroots(v)\n",
    "    except:\n",
    "         return [[0,0,1] for i in range(len(v))]\n",
    "    return [[float(a) for a in rollup(root)] for root in roots]\n",
    "\n",
    "# Takes a matrix, in this case, a density matrix, and finds its spectrum.\n",
    "# Two lists are returned: of eigenvalues and the corresponding constellations of each eigenvector,\n",
    "# signifying the constellations at what \"height\" or \"scale\" between heaven and earth.\n",
    "def emanate(m):\n",
    "    l, v = np.linalg.eig(m)\n",
    "    return l, [constellate(v[i]) for i in range(len(v))]\n",
    "\n",
    "# Returns a randomly generated quantum system:\n",
    "# a random density matrix for the state,\n",
    "# a random hermitian matrix for the hamiltonian,\n",
    "# aka the energy operator aka the time evolver.\n",
    "def bang(n):\n",
    "    return qutip.rand_dm(n).full(), \\\n",
    "        qutip.rand_herm(n).full()\n",
    "\n",
    "# Initialize quantum simulation\n",
    "state, hamiltonian = bang(n)\n",
    "\n",
    "# Initialize video settings\n",
    "vpython.scene.range = 2\n",
    "# Set our initial vantage point at random.\n",
    "vpython.scene.forward = vpython.vector(random.random(), random.random(), random.random())\n",
    "\n",
    "# Create the celestial sphere, and the starting constellations at each level of heaven.\n",
    "god = vpython.sphere(pos=vpython.vector(0,0,0), radius=2, color=vpython.color.blue, opacity=0.2)\n",
    "heights, heavens = emanate(state)\n",
    "levels = []\n",
    "hue = random.random()\n",
    "for i in range(len(heavens)):\n",
    "    height = heights[i]\n",
    "    constellation = heavens[i]\n",
    "    # Each level of heaven (each eigenspace of the density matrix)\n",
    "    # gets randomly assigned a color for its stars.\n",
    "    color = vpython.vector(random.random(), 1, 1)\n",
    "    # Stars in any constellation have radii no smaller than 0.1, but otherwise\n",
    "    # their radius is proportional to the eigenvalue squared corresponding\n",
    "    # to the constellated eigenvector.\n",
    "    # Note a duality:\n",
    "    #  We could place the levels of heaven one atop the other at distances \n",
    "    #  given by the eigenvalues squared, and have all stars across all heavens\n",
    "    #  be the same size. Or we could have all stars in all constellations\n",
    "    #  hang on the unit sphere, but rather make the sizes of the individual stars \n",
    "    #  within a constellation vary with the eigenvalue squared. You'll notice,\n",
    "    #  in a profound way, it comes to the same thing. Here the latter representation\n",
    "    #  is more perspicacious. \n",
    "    stars = [vpython.sphere(pos=2*vpython.vector(*star)*abs(height), radius=abs(height)/2.,\\\n",
    "                color=vpython.color.hsv_to_rgb(color), opacity=0.4, emissive=True )\\\n",
    "                    for star in constellation]\n",
    "    levels.append(stars)\n",
    "\n",
    "# Time evolution:\n",
    "# Exponentiates the hamiltonian, integrating up to the current\n",
    "# time step, giving a unitary transformation implementing\n",
    "# continuous time evolution up to now. The present density\n",
    "# matrix is wedged between this unitary time evolution operator\n",
    "# and its conjugate transpose to obtain the future density matrix. \n",
    "# The resulting matrix is constellated,\n",
    "# and the locations of the stars at each level of heaven are updated.\n",
    "# NB: In a sense, the stars are constantly swapping places.\n",
    "# Adjust: \n",
    "#  dt gives the width of a timestep in the simulation\n",
    "#  rate(f) sets the frequency of updates in real time\n",
    "#    to increase the effect of verisimilitude.\n",
    "t = 0\n",
    "dt = 0.002\n",
    "while True:\n",
    "    vpython.rate(10000)\n",
    "    time_step = scipy.linalg.expm(-2*math.pi*complex(0,1)*hamiltonian*t)\n",
    "    tomorrows_heights, tomorrows_heavens = emanate(time_step.dot(state).dot(time_step.conj().T))\n",
    "    for i in range(len(tomorrows_heavens)):\n",
    "        tomorrows_height = tomorrows_heights[i]\n",
    "        tomorrows_constellation = tomorrows_heavens[i]\n",
    "        stars = levels[i]\n",
    "        for j in range(len(stars)):\n",
    "            stars[j].pos = 2*abs(tomorrows_height)*vpython.vector(*tomorrows_constellation[j])\n",
    "            stars[j].radius = float(abs(tomorrows_height))/2.\n",
    "    t += dt"
   ]
  },
  {
   "cell_type": "code",
   "execution_count": null,
   "metadata": {
    "collapsed": true
   },
   "outputs": [],
   "source": []
  }
 ],
 "metadata": {
  "kernelspec": {
   "display_name": "VPython",
   "language": "python",
   "name": "vpython"
  },
  "language_info": {
   "codemirror_mode": {
    "name": "ipython",
    "version": 3
   },
   "file_extension": ".py",
   "mimetype": "text/x-python",
   "name": "python",
   "nbconvert_exporter": "python",
   "pygments_lexer": "ipython3",
   "version": "3.6.3"
  }
 },
 "nbformat": 4,
 "nbformat_minor": 2
}
