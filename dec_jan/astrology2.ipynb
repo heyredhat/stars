{
 "cells": [
  {
   "cell_type": "code",
   "execution_count": null,
   "metadata": {
    "scrolled": false
   },
   "outputs": [
    {
     "data": {
      "application/javascript": [
       "require.undef(\"nbextensions/vpython_libraries/glow.min\");"
      ],
      "text/plain": [
       "<IPython.core.display.Javascript object>"
      ]
     },
     "metadata": {},
     "output_type": "display_data"
    },
    {
     "data": {
      "application/javascript": [
       "require.undef(\"nbextensions/vpython_libraries/glowcomm\");"
      ],
      "text/plain": [
       "<IPython.core.display.Javascript object>"
      ]
     },
     "metadata": {},
     "output_type": "display_data"
    },
    {
     "data": {
      "application/javascript": [
       "require.undef(\"nbextensions/vpython_libraries/jquery-ui.custom.min\");"
      ],
      "text/plain": [
       "<IPython.core.display.Javascript object>"
      ]
     },
     "metadata": {},
     "output_type": "display_data"
    },
    {
     "data": {
      "application/javascript": [
       "require([\"nbextensions/vpython_libraries/glow.min\"], function(){console.log(\"GLOW LOADED\");})"
      ],
      "text/plain": [
       "<IPython.core.display.Javascript object>"
      ]
     },
     "metadata": {},
     "output_type": "display_data"
    },
    {
     "data": {
      "application/javascript": [
       "require([\"nbextensions/vpython_libraries/glowcomm\"], function(){console.log(\"GLOWCOMM LOADED\");})"
      ],
      "text/plain": [
       "<IPython.core.display.Javascript object>"
      ]
     },
     "metadata": {},
     "output_type": "display_data"
    },
    {
     "data": {
      "application/javascript": [
       "require([\"nbextensions/vpython_libraries/jquery-ui.custom.min\"], function(){console.log(\"JQUERY LOADED\");})"
      ],
      "text/plain": [
       "<IPython.core.display.Javascript object>"
      ]
     },
     "metadata": {},
     "output_type": "display_data"
    },
    {
     "data": {
      "text/html": [
       "<div id=\"glowscript\" class=\"glowscript\"></div>"
      ],
      "text/plain": [
       "<IPython.core.display.HTML object>"
      ]
     },
     "metadata": {},
     "output_type": "display_data"
    },
    {
     "data": {
      "application/javascript": [
       "window.__context = { glowscript_container: $(\"#glowscript\").removeAttr(\"id\")}"
      ],
      "text/plain": [
       "<IPython.core.display.Javascript object>"
      ]
     },
     "metadata": {},
     "output_type": "display_data"
    }
   ],
   "source": [
    "import geocoder\n",
    "import ephem\n",
    "import ephem.stars\n",
    "import datetime\n",
    "import math\n",
    "import cmath\n",
    "import sympy\n",
    "import functools\n",
    "import numpy as np\n",
    "import qutip\n",
    "import random\n",
    "import vpython\n",
    "import mpmath\n",
    "\n",
    "# Stereographically projects from complex plane + infinity to XYZ on sphere\n",
    "def scalar_to_vector(z):\n",
    "    if z == float('inf'):\n",
    "        return [0,0,1]\n",
    "    x = z.real\n",
    "    y = z.imag\n",
    "    return [(2*x)/(1.+(x**2)+(y**2)), \\\n",
    "           (2*y)/(1.+(x**2)+(y**2)), \\\n",
    "           (-1.+(x**2)+(y**2))/(1.+(x**2)+(y**2))]\n",
    "\n",
    "# Stereographically projects from XYZ on sphere to complex plane + infinity\n",
    "def vector_to_scalar(x, y, z):\n",
    "    if z == 1:\n",
    "        return float('inf') \n",
    "    else:\n",
    "        return complex(x/(1-z), y/(1-z))\n",
    "\n",
    "# Gets XYZ of Majorana stars for given vector\n",
    "def constellate(v):\n",
    "    polynomial = v.T.tolist()\n",
    "    polynomial = [(((-1)**i) * math.sqrt(combos(len(polynomial)-1,i))) * polynomial[i] for i in range(len(polynomial))]\n",
    "    try:\n",
    "        roots = [complex(root) for root in mpmath.polyroots(polynomial)]\n",
    "    except:\n",
    "        print(polynomial)\n",
    "    return [scalar_to_vector(root) for root in roots] \n",
    "\n",
    "# Normalize vector\n",
    "def normalize(v):\n",
    "    norm = np.linalg.norm(v)\n",
    "    if norm == 0: \n",
    "       return v\n",
    "    return v / norm\n",
    "\n",
    "# Scalar product between two matrices\n",
    "def scalar_product(m, n):\n",
    "    return 0.5*np.trace(np.dot(np.conjugate(m).T, n))\n",
    "\n",
    "# Decompose 2x2 matrix into tI + xX + yY + zZ, \n",
    "# returning [t,x,y,z] :|\n",
    "def pauli_decompose(m):\n",
    "    t = scalar_product(np.eye(2), m).real\n",
    "    x = scalar_product(qutip.sigmax().full(), m).real\n",
    "    y = scalar_product(qutip.sigmay().full(), m).real\n",
    "    z = scalar_product(qutip.sigmaz().full(), m).real\n",
    "    return [t/math.sqrt(t**2+x**2+y**2+z**2), x/t, y/t, z/t]\n",
    "\n",
    "# (a b)\n",
    "def combos(a,b):\n",
    "    f = math.factorial\n",
    "    return f(a) / f(b) / f(a-b)\n",
    "\n",
    "star_names = [star.split(\",\")[0] for star in ephem.stars.db.split(\"\\n\")][:-1]\n",
    "# Get current location and time on earth\n",
    "location = geocoder.google('476 Jefferson Street, Brooklyn')\n",
    "latitude, longitude = location.latlng\n",
    "\n",
    "# Given current location and date, \n",
    "# returns XYZ coordinates of the 7 planets\n",
    "# and TXYZ coordinates of the 3 sublunary stars\n",
    "# and the current time and the eigenstars\n",
    "def cycle(t):\n",
    "\tglobal latitude\n",
    "\tglobal longitude\n",
    "\tglobal star_names\n",
    "\tnow = datetime.datetime.now() + datetime.timedelta(minutes=t)\n",
    "\t#now = datetime.datetime.strptime('Jan 21 2018  7:13AM', '%b %d %Y %I:%M%p') + datetime.timedelta(minutes=t)\n",
    "\t# Get empheres for the 7 planets\n",
    "\tobserver = ephem.Observer()\n",
    "\tobserver.lat = latitude\n",
    "\tobserver.lon = longitude\n",
    "\tobserver.date = now\n",
    "\tplanets = [ephem.Sun(observer), ephem.Moon(observer), ephem.Mercury(observer),\\\n",
    "\t\t\tephem.Venus(observer), ephem.Mars(observer), ephem.Jupiter(observer),\\\n",
    "\t\t\tephem.Saturn(observer)]\n",
    "\tfixed_stars = [ephem.star(star_name, observer) for star_name in star_names]\n",
    "\tfixed_stars_XYZ = []\n",
    "\tfor fixed_star in fixed_stars:\n",
    "\t\taltitude = fixed_star.alt\n",
    "\t\tazimuth = fixed_star.az\n",
    "\t\tx = math.sin(azimuth)*math.cos(altitude)\n",
    "\t\ty = math.cos(altitude)*math.cos(azimuth)\n",
    "\t\tz = math.sin(altitude)\n",
    "\t\tfixed_stars_XYZ.append([x,y,z])\n",
    "\t# Convert alt/azi -> xyz -> X+Yi\n",
    "\troots = []\n",
    "\tpermutation_symmetric_XYZ = []\n",
    "\tfor planet in planets:\n",
    "\t\taltitude = planet.alt\n",
    "\t\tazimuth = planet.az\n",
    "\t\tx = math.sin(azimuth)*math.cos(altitude)\n",
    "\t\ty = math.cos(altitude)*math.cos(azimuth)\n",
    "\t\tz = math.sin(altitude)\n",
    "\t\t#right_ascension = planet.ra\n",
    "\t\t#declination = planet.dec\n",
    "\t\t#x = math.cos(right_ascension)*math.cos(declination)\n",
    "\t\t#y = math.cos(right_ascension)*math.sin(declination)\n",
    "\t\t#z = math.sin(right_ascension)\n",
    "\t\tpermutation_symmetric_XYZ.append([x,y,z])\n",
    "\t\tX = float('inf') \n",
    "\t\tY = float('inf') \n",
    "\t\tif z != 1:\n",
    "\t\t\tX = x/(1-z)\n",
    "\t\t\tY = y/(1-z)\n",
    "\t\troot = complex(X, Y)\n",
    "\t\tr, theta = cmath.polar(root)\n",
    "\t\troots.append(root)\n",
    "\t# Construct polynomial given roots\n",
    "\ts = sympy.symbols(\"s\")\n",
    "\tpolynomial = sympy.Poly(functools.reduce(lambda a, b: a*b, [s+root for root in roots]), domain=\"CC\")\n",
    "\t# Extract coefficients\n",
    "\tcoefficients = polynomial.coeffs()\n",
    "\tcoordinates = [coefficients[i]/(((-1)**i) * math.sqrt(combos(len(coefficients)-1,i))) for i in range(len(coefficients))]\n",
    "\t# Convert to quantum state of proper dimensionality (3 distinguishable qubits)\n",
    "\tstate = qutip.Qobj(np.array(coordinates).T)\n",
    "\tstate.dims = [[2,2,2],[1,1,1]]\n",
    "\t# Decompose the total pure state by partial tracing over the complements of each 2x2 subsystem in turn\n",
    "\tdistinguishable_qubits = [state.ptrace(i) for i in range(3)]\n",
    "\t# Decompose the resulting density matrices in the Pauli basis, giving TXYZ coordinates\n",
    "\tdistinguishable_TXYZ = [pauli_decompose(qubit.full()) for qubit in distinguishable_qubits]\n",
    "    # Get eigenstars of the density matrices\n",
    "\teig_TXYZ = []\n",
    "\tfor qubit in distinguishable_qubits:\n",
    "\t\tL, V = np.linalg.eig(qubit.full())\n",
    "\t\tfor i in range(len(V)):\n",
    "\t\t\teig_TXYZ.append(constellate(np.conjugate(V[i]))[0])\n",
    "\treturn permutation_symmetric_XYZ, distinguishable_TXYZ, now, eig_TXYZ, fixed_stars_XYZ\n",
    "\n",
    "# Vpython init\n",
    "vpython.scene.width = 1000\n",
    "vpython.scene.height = 1000\n",
    "vpython.scene.range = 1.5\n",
    "vpython.scene.forward = vpython.vector(0, 1, 0)\n",
    "vpython.scene.up = vpython.vector(-1, 0, 0)\n",
    "\n",
    "# Reference sphere\n",
    "vsphere = vpython.sphere(pos=vpython.vector(0,0,0), radius=1, color=vpython.color.blue, opacity=0.5)\n",
    "\n",
    "# Reference points\n",
    "cardinal_rose = [vpython.text(text=\"W\", pos=vpython.vector(0,0,1), align=\"center\", height=0.1, twosided=False),\\\n",
    "                 vpython.text(text=\"E\", pos=vpython.vector(0,0,-1), align=\"center\", height=0.1, twosided=False),\\\n",
    "                 vpython.text(text=\"S\", pos=vpython.vector(0,-1,0), align=\"center\", height=0.1, twosided=False),\\\n",
    "                 vpython.text(text=\"N\", pos=vpython.vector(0,1,0), align=\"center\", height=0.1, twosided=False),\\\n",
    "                 vpython.text(text=\"0\", pos=vpython.vector(1,0,0), align=\"center\", height=0.1, twosided=False),\\\n",
    "                 vpython.text(text=\"1\", pos=vpython.vector(-1,0,0), align=\"center\", height=0.1, twosided=False)]\n",
    "\n",
    "# Create 3d objects with initial state\n",
    "t = 0\n",
    "above, below, now, eigs, fixed_stars = cycle(t)\n",
    "stamp = vpython.label(pos=vpython.vector(0,0,0), text=str(now), height=10)\n",
    "vabove = [vpython.sphere(pos=vpython.vector(*above[0]), color=vpython.color.yellow, radius=0.1, emissive=True, make_trail=False),\\\n",
    "\t\t  vpython.sphere(pos=vpython.vector(*above[1]), color=vpython.color.white, radius=0.1, emissive=True, make_trail=False),\\\n",
    "\t\t  vpython.sphere(pos=vpython.vector(*above[2]), color=vpython.color.blue, radius=0.1, emissive=True, make_trail=False),\\\n",
    "\t\t  vpython.sphere(pos=vpython.vector(*above[3]), color=vpython.color.green, radius=0.1, emissive=True, make_trail=False),\\\n",
    "\t\t  vpython.sphere(pos=vpython.vector(*above[4]), color=vpython.color.red, radius=0.1, emissive=True, make_trail=False),\\\n",
    "\t\t  vpython.sphere(pos=vpython.vector(*above[5]), color=vpython.color.orange, radius=0.1, emissive=True, make_trail=False),\\\n",
    "\t\t  vpython.sphere(pos=vpython.vector(*above[6]), color=vpython.color.gray(0.5), radius=0.1, emissive=True, make_trail=False)]\n",
    "vbelow = [vpython.sphere(pos=vpython.vector(*star[1:]),\\\n",
    "\t\t\tcolor=vpython.color.hsv_to_rgb(vpython.vector(float(star[0]),1,1)), radius=0.1, emissive=True,\\\n",
    "\t\t\t\t\tmake_trail=True)\\\n",
    "\t\t\t\tfor star in below]\n",
    "vbelow[0].trail_color = vpython.color.red\n",
    "vbelow[1].trail_color = vpython.color.green\n",
    "vbelow[2].trail_color = vpython.color.blue\n",
    "\n",
    "veigs = [vpython.sphere(pos=vpython.vector(*star), color=vpython.color.black, radius=0.05, emissive=True, make_trail=False)\\\n",
    "\t\t\t\tfor star in eigs]\n",
    "vlines = [vpython.curve(pos=[vpython.vector(*eigs[i]), vpython.vector(*eigs[i+1])]) for i in range(0, len(eigs), 2)]\n",
    "vfixed_stars = [vpython.sphere(pos=vpython.vector(*star), color=vpython.color.white, radius=0.01, emissive=True, make_trail=False)\\\n",
    "\t\t\t\tfor star in fixed_stars]\n",
    "vfixed_stars[star_names.index(\"Sirius\")].color = vpython.color.red\n",
    "vfixed_stars[star_names.index(\"Betelgeuse\")].color = vpython.color.yellow\n",
    "vfixed_stars[star_names.index(\"Rigel\")].color = vpython.color.yellow\n",
    "vfixed_stars[star_names.index(\"Bellatrix\")].color = vpython.color.yellow\n",
    "vfixed_stars[star_names.index(\"Mintaka\")].color = vpython.color.yellow\n",
    "vfixed_stars[star_names.index(\"Alnilam\")].color = vpython.color.yellow\n",
    "vfixed_stars[star_names.index(\"Alnitak\")].color = vpython.color.yellow\n",
    "vfixed_stars[star_names.index(\"Saiph\")].color = vpython.color.yellow\n",
    "vfixed_stars[star_names.index(\"Polaris\")].color = vpython.color.blue\n",
    "\n",
    "t += 1\n",
    "\n",
    "# Cycle -> Redraw\n",
    "while True:\n",
    "\tvpython.rate(300)\n",
    "\tabove, below, now, eigs, fixed_stars = cycle(t)\n",
    "\tfor i in range(len(above)):\n",
    "\t\tvabove[i].pos = vpython.vector(*above[i])\n",
    "\tfor i in range(len(below)):\n",
    "\t\tvbelow[i].color = vpython.color.hsv_to_rgb(vpython.vector(float(below[i][0]),1,1))\n",
    "\t\tvbelow[i].pos = vpython.vector(*below[i][1:])\n",
    "\tfor i in range(len(eigs)):\n",
    "\t\tveigs[i].pos = vpython.vector(*eigs[i])\n",
    "\tfor i in range(len(vlines)):\n",
    "\t\tvlines[i].modify(0, pos=vpython.vector(*eigs[2*i]))\n",
    "\t\tvlines[i].modify(1, pos=vpython.vector(*eigs[2*i+1]))\n",
    "\tfor i in range(len(fixed_stars)):\n",
    "\t\tvfixed_stars[i].pos = vpython.vector(*fixed_stars[i])\n",
    "\tstamp.text = str(now)\n",
    "\tt += 15"
   ]
  },
  {
   "cell_type": "code",
   "execution_count": null,
   "metadata": {
    "collapsed": true
   },
   "outputs": [],
   "source": []
  }
 ],
 "metadata": {
  "kernelspec": {
   "display_name": "VPython",
   "language": "python",
   "name": "vpython"
  },
  "language_info": {
   "codemirror_mode": {
    "name": "ipython",
    "version": 3
   },
   "file_extension": ".py",
   "mimetype": "text/x-python",
   "name": "python",
   "nbconvert_exporter": "python",
   "pygments_lexer": "ipython3",
   "version": "3.6.3"
  }
 },
 "nbformat": 4,
 "nbformat_minor": 2
}
