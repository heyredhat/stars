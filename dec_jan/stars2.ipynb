{
 "cells": [
  {
   "cell_type": "code",
   "execution_count": null,
   "metadata": {
    "scrolled": true
   },
   "outputs": [
    {
     "data": {
      "application/javascript": [
       "require.undef(\"nbextensions/vpython_libraries/glow.min\");"
      ],
      "text/plain": [
       "<IPython.core.display.Javascript object>"
      ]
     },
     "metadata": {},
     "output_type": "display_data"
    },
    {
     "data": {
      "application/javascript": [
       "require.undef(\"nbextensions/vpython_libraries/glowcomm\");"
      ],
      "text/plain": [
       "<IPython.core.display.Javascript object>"
      ]
     },
     "metadata": {},
     "output_type": "display_data"
    },
    {
     "data": {
      "application/javascript": [
       "require.undef(\"nbextensions/vpython_libraries/jquery-ui.custom.min\");"
      ],
      "text/plain": [
       "<IPython.core.display.Javascript object>"
      ]
     },
     "metadata": {},
     "output_type": "display_data"
    },
    {
     "data": {
      "application/javascript": [
       "require([\"nbextensions/vpython_libraries/glow.min\"], function(){console.log(\"GLOW LOADED\");})"
      ],
      "text/plain": [
       "<IPython.core.display.Javascript object>"
      ]
     },
     "metadata": {},
     "output_type": "display_data"
    },
    {
     "data": {
      "application/javascript": [
       "require([\"nbextensions/vpython_libraries/glowcomm\"], function(){console.log(\"GLOWCOMM LOADED\");})"
      ],
      "text/plain": [
       "<IPython.core.display.Javascript object>"
      ]
     },
     "metadata": {},
     "output_type": "display_data"
    },
    {
     "data": {
      "application/javascript": [
       "require([\"nbextensions/vpython_libraries/jquery-ui.custom.min\"], function(){console.log(\"JQUERY LOADED\");})"
      ],
      "text/plain": [
       "<IPython.core.display.Javascript object>"
      ]
     },
     "metadata": {},
     "output_type": "display_data"
    },
    {
     "data": {
      "text/html": [
       "<div id=\"glowscript\" class=\"glowscript\"></div>"
      ],
      "text/plain": [
       "<IPython.core.display.HTML object>"
      ]
     },
     "metadata": {},
     "output_type": "display_data"
    },
    {
     "data": {
      "application/javascript": [
       "window.__context = { glowscript_container: $(\"#glowscript\").removeAttr(\"id\")}"
      ],
      "text/plain": [
       "<IPython.core.display.Javascript object>"
      ]
     },
     "metadata": {},
     "output_type": "display_data"
    }
   ],
   "source": [
    "# THE STELLAR INTERPRETATION OF QUANTUM MECHANICS\n",
    "# THANKS TO ETTORE MAJORANA. VERSION 2.0\n",
    "#\n",
    "# Choose:\n",
    "n=4\n",
    "# Choose n where n is the dimensionality of the randomly \n",
    "# generated quantum system, leading to n-1 stars\n",
    "# in the sky. When n=2, we have a qubit in the familiar\n",
    "# Bloch sphere representation.\n",
    "\n",
    "import vpython\n",
    "import numpy as np\n",
    "import scipy.linalg\n",
    "import math\n",
    "import mpmath\n",
    "import qutip\n",
    "import random\n",
    "\n",
    "# Stereographically projects an XYZ cartesian coordinate on \n",
    "# the Riemann sphere to a point on the complex plane.\n",
    "def flatten(x, y, z):\n",
    "\tif z == 1:\n",
    "\t\treturn Inf \n",
    "\telse:\n",
    "\t\treturn complex(x/(1-z), y/(1-z))\n",
    "\n",
    "# Reverse stereographically projects a point on the complex plane\n",
    "# to an XYZ cartesian coordinate on the Riemann sphere.\n",
    "def rollup(z):\n",
    "\tx = z.real\n",
    "\ty = z.imag\n",
    "\treturn (2*x)/(1+(x**2)+(y**2)),\\\n",
    "\t\t   (2*y)/(1+(x**2)+(y**2)),\\\n",
    "\t\t   (-1+(x**2)+(y**2))/(1+(x**2)+(y**2))\n",
    "\n",
    "# Takes a complex vector, interprets its ordered components as\n",
    "# the coefficients of a polynomial in one variable, and solves for\n",
    "# the roots, giving an unordered set of complex numbers. \n",
    "# These complex points are reverse stereographically projected onto \n",
    "# the Riemann sphere, and the XYZ cartesian coordinates of these points \n",
    "# are returned.\n",
    "def constellate(v):\n",
    "\treturn [[float(a) for a in rollup(root)] for root in mpmath.polyroots(v)]\n",
    "\n",
    "# Returns a randomly generated quantum system:\n",
    "# a random unit complex vector for the state,\n",
    "# a random hermitian matrix for the hamiltonian,\n",
    "# aka the energy operator aka the time evolver.\n",
    "def bang(n):\n",
    "\treturn qutip.rand_ket(n).full().T[0], \\\n",
    "\t \t   qutip.rand_herm(n).full().T\n",
    "\n",
    "# Initialize quantum simulation\n",
    "state, hamiltonian = bang(n)\n",
    "\n",
    "# Initialize video settings\n",
    "vpython.scene.range = 1.3\n",
    "\n",
    "# Create the celestial sphere, and the starting constellation.\n",
    "sphere = vpython.sphere(pos=vpython.vector(0,0,0), radius=1,\\\n",
    "                        color=vpython.color.blue, opacity=0.4)\n",
    "# Consider adjusting:\n",
    "#    make_trail=True/False, trail_type=\"points\"/\"curve\", \n",
    "#    retain=max # of points remembered, interval=every t updates\n",
    "stars = [vpython.sphere(pos=vpython.vector(*star), radius=0.1,\\\n",
    "                        color=vpython.vector(random.random(),random.random(),random.random()), emissive=True,\\\n",
    "                        make_trail=True, trail_type=\"points\",\\\n",
    "                        retain=100, interval=7)\\\n",
    "                            for star in constellate(state)]\n",
    "\n",
    "# Time evolution:\n",
    "# Exponentiates the hamiltonian, integrating up to the current\n",
    "# time step, giving a unitary transformation implementing\n",
    "# continuous time evolution up to now, which is applied\n",
    "# to the initial state. The resulting present state is constellated,\n",
    "# and the locations of the stars are updated. \n",
    "# NB: In a sense, the stars are constantly swapping places.\n",
    "# Adjust: \n",
    "#  dt gives the width of a timestep in the simulation\n",
    "#  rate(f) sets the frequency of updates in real time\n",
    "#    to increase the effect of verisimilitude.\n",
    "t = 0\n",
    "dt = 0.002\n",
    "while True:\n",
    "    vpython.rate(10000)\n",
    "    time_step = scipy.linalg.expm(-2*math.pi*complex(0,1)*hamiltonian*t)\n",
    "    for i, star in enumerate(constellate(time_step.dot(state))):\n",
    "        stars[i].pos = vpython.vector(*star)\n",
    "    # Swing camera around in a big circle.\n",
    "    vpython.scene.forward = vpython.vector(math.sin(t)*math.cos(t), math.sin(t)*math.sin(t), math.cos(t))\n",
    "    t += dt"
   ]
  }
 ],
 "metadata": {
  "kernelspec": {
   "display_name": "VPython",
   "language": "python",
   "name": "vpython"
  },
  "language_info": {
   "codemirror_mode": {
    "name": "ipython",
    "version": 3
   },
   "file_extension": ".py",
   "mimetype": "text/x-python",
   "name": "python",
   "nbconvert_exporter": "python",
   "pygments_lexer": "ipython3",
   "version": "3.6.3"
  }
 },
 "nbformat": 4,
 "nbformat_minor": 2
}
