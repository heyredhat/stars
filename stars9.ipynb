{
 "cells": [
  {
   "cell_type": "code",
   "execution_count": 1,
   "metadata": {
    "scrolled": true
   },
   "outputs": [
    {
     "data": {
      "application/javascript": [
       "require.undef(\"nbextensions/vpython_libraries/glow.min\");"
      ],
      "text/plain": [
       "<IPython.core.display.Javascript object>"
      ]
     },
     "metadata": {},
     "output_type": "display_data"
    },
    {
     "data": {
      "application/javascript": [
       "require.undef(\"nbextensions/vpython_libraries/glowcomm\");"
      ],
      "text/plain": [
       "<IPython.core.display.Javascript object>"
      ]
     },
     "metadata": {},
     "output_type": "display_data"
    },
    {
     "data": {
      "application/javascript": [
       "require.undef(\"nbextensions/vpython_libraries/jquery-ui.custom.min\");"
      ],
      "text/plain": [
       "<IPython.core.display.Javascript object>"
      ]
     },
     "metadata": {},
     "output_type": "display_data"
    },
    {
     "data": {
      "application/javascript": [
       "require([\"nbextensions/vpython_libraries/glow.min\"], function(){console.log(\"GLOW LOADED\");})"
      ],
      "text/plain": [
       "<IPython.core.display.Javascript object>"
      ]
     },
     "metadata": {},
     "output_type": "display_data"
    },
    {
     "data": {
      "application/javascript": [
       "require([\"nbextensions/vpython_libraries/glowcomm\"], function(){console.log(\"GLOWCOMM LOADED\");})"
      ],
      "text/plain": [
       "<IPython.core.display.Javascript object>"
      ]
     },
     "metadata": {},
     "output_type": "display_data"
    },
    {
     "data": {
      "application/javascript": [
       "require([\"nbextensions/vpython_libraries/jquery-ui.custom.min\"], function(){console.log(\"JQUERY LOADED\");})"
      ],
      "text/plain": [
       "<IPython.core.display.Javascript object>"
      ]
     },
     "metadata": {},
     "output_type": "display_data"
    },
    {
     "data": {
      "text/html": [
       "<div id=\"glowscript\" class=\"glowscript\"></div>"
      ],
      "text/plain": [
       "<IPython.core.display.HTML object>"
      ]
     },
     "metadata": {},
     "output_type": "display_data"
    },
    {
     "data": {
      "application/javascript": [
       "window.__context = { glowscript_container: $(\"#glowscript\").removeAttr(\"id\")}"
      ],
      "text/plain": [
       "<IPython.core.display.Javascript object>"
      ]
     },
     "metadata": {},
     "output_type": "display_data"
    },
    {
     "name": "stdout",
     "output_type": "stream",
     "text": [
      "pure_matrices\n",
      "[array([[mpc(real='0.41774864109905607', imag='0.0'),\n",
      "        mpc(real='-0.9084389828625018', imag='0.014989572229890303')],\n",
      "       [mpc(real='-0.9084389828625018', imag='-0.014989572229890303'),\n",
      "        mpc(real='-0.41774864109905607', imag='0.0')]], dtype=object), array([[mpc(real='-0.7707204174101101', imag='0.0'),\n",
      "        mpc(real='-0.045904547124928009', imag='0.63551775013798062')],\n",
      "       [mpc(real='-0.045904547124928009', imag='-0.63551775013798062'),\n",
      "        mpc(real='0.7707204174101101', imag='0.0')]], dtype=object), array([[mpc(real='0.44543774794477414', imag='0.0'),\n",
      "        mpc(real='0.85092059029808786', imag='-0.27842299063231368')],\n",
      "       [mpc(real='0.85092059029808786', imag='0.27842299063231368'),\n",
      "        mpc(real='-0.44543774794477414', imag='0.0')]], dtype=object), array([[mpc(real='-0.078593436164296482', imag='0.0'),\n",
      "        mpc(real='-0.71004478997923526', imag='-0.699756720593116')],\n",
      "       [mpc(real='-0.71004478997923526', imag='0.699756720593116'),\n",
      "        mpc(real='0.078593436164296482', imag='0.0')]], dtype=object), array([[mpc(real='0.02648260613336717', imag='0.0'),\n",
      "        mpc(real='0.5972523223816476', imag='0.80161607704817972')],\n",
      "       [mpc(real='0.5972523223816476', imag='-0.80161607704817972'),\n",
      "        mpc(real='-0.02648260613336717', imag='0.0')]], dtype=object), array([[mpc(real='0.036866144187640608', imag='0.0'),\n",
      "        mpc(real='-0.49083908231437096', imag='0.87046992060927764')],\n",
      "       [mpc(real='-0.49083908231437096', imag='-0.87046992060927764'),\n",
      "        mpc(real='-0.036866144187640608', imag='0.0')]], dtype=object), array([[mpc(real='-0.060331627648074836', imag='0.0'),\n",
      "        mpc(real='0.038532915091744439', imag='-0.99743436333418267')],\n",
      "       [mpc(real='0.038532915091744439', imag='0.99743436333418267'),\n",
      "        mpc(real='0.060331627648074836', imag='0.0')]], dtype=object)]\n",
      "pure matrices after\n",
      "[array([[mpc(real='0.41774864109905607', imag='4.9030373035000868e-33'),\n",
      "        mpc(real='0.0', imag='0.0')],\n",
      "       [mpc(real='0.0', imag='0.0'),\n",
      "        mpc(real='-0.41774864109905607', imag='-4.9030373035000868e-33')]], dtype=object), array([[mpc(real='-0.7707204174101101', imag='1.2302003486762764e-32'),\n",
      "        mpc(real='0.0', imag='0.0')],\n",
      "       [mpc(real='0.0', imag='0.0'),\n",
      "        mpc(real='0.7707204174101101', imag='-1.2302003486762764e-32')]], dtype=object), array([[mpc(real='0.44543774794477414', imag='-2.977908487913384e-33'),\n",
      "        mpc(real='0.0', imag='0.0')],\n",
      "       [mpc(real='0.0', imag='0.0'),\n",
      "        mpc(real='-0.44543774794477414', imag='2.977908487913384e-33')]], dtype=object), array([[mpc(real='-0.078593436164296482', imag='-3.528277635761172e-34'),\n",
      "        mpc(real='0.0', imag='0.0')],\n",
      "       [mpc(real='0.0', imag='0.0'),\n",
      "        mpc(real='0.078593436164296482', imag='3.528277635761172e-34')]], dtype=object), array([[mpc(real='0.02648260613336717', imag='-2.8356353662442323e-34'),\n",
      "        mpc(real='0.0', imag='0.0')],\n",
      "       [mpc(real='0.0', imag='0.0'),\n",
      "        mpc(real='-0.02648260613336717', imag='2.8356353662442323e-34')]], dtype=object), array([[mpc(real='0.036866144187640608', imag='7.3416428891930923e-34'),\n",
      "        mpc(real='0.0', imag='0.0')],\n",
      "       [mpc(real='0.0', imag='0.0'),\n",
      "        mpc(real='-0.036866144187640608', imag='-7.3416428891930923e-34')]], dtype=object), array([[mpc(real='-0.060331627648074836', imag='1.8559007676452517e-34'),\n",
      "        mpc(real='0.0', imag='0.0')],\n",
      "       [mpc(real='0.0', imag='0.0'),\n",
      "        mpc(real='0.060331627648074836', imag='-1.8559007676452517e-34')]], dtype=object)]\n",
      "pure vectors\n",
      "[[0.0, 0.0, 0.8354972821981121], [0.0, 0.0, -1.5414408348202202], [0.0, 0.0, 0.8908754958895483], [0.0, 0.0, -0.15718687232859296], [0.0, 0.0, 0.05296521226673434], [0.0, 0.0, 0.07373228837528122], [0.0, 0.0, -0.12066325529614967]]\n",
      "pure scalars\n",
      "[0j, 0j, 0j, 0j, 0j, 0j, 0j]\n",
      "polynomial\n",
      "[1]\n",
      "state\n",
      "Quantum object: dims = [[1], [1]], shape = [1, 1], type = oper, isherm = True\n",
      "Qobj data =\n",
      "[[ 1.]]\n"
     ]
    },
    {
     "ename": "Exception",
     "evalue": "Operator and state do not have same tensor structure: [8] and [1]",
     "output_type": "error",
     "traceback": [
      "\u001b[0;31m---------------------------------------------------------------------------\u001b[0m",
      "\u001b[0;31mException\u001b[0m                                 Traceback (most recent call last)",
      "\u001b[0;32m<ipython-input-1-9944f38283ec>\u001b[0m in \u001b[0;36m<module>\u001b[0;34m()\u001b[0m\n\u001b[1;32m    139\u001b[0m \u001b[0;32mwhile\u001b[0m \u001b[0mTrue\u001b[0m\u001b[0;34m:\u001b[0m\u001b[0;34m\u001b[0m\u001b[0m\n\u001b[1;32m    140\u001b[0m     \u001b[0mdraw_stars\u001b[0m\u001b[0;34m(\u001b[0m\u001b[0;34m)\u001b[0m\u001b[0;34m\u001b[0m\u001b[0m\n\u001b[0;32m--> 141\u001b[0;31m     \u001b[0msphere\u001b[0m\u001b[0;34m.\u001b[0m\u001b[0mevolve\u001b[0m\u001b[0;34m(\u001b[0m\u001b[0;34m)\u001b[0m\u001b[0;34m\u001b[0m\u001b[0m\n\u001b[0m",
      "\u001b[0;32m<ipython-input-1-9944f38283ec>\u001b[0m in \u001b[0;36mevolve\u001b[0;34m(self)\u001b[0m\n\u001b[1;32m     93\u001b[0m     \u001b[0;32mdef\u001b[0m \u001b[0mevolve\u001b[0m\u001b[0;34m(\u001b[0m\u001b[0mself\u001b[0m\u001b[0;34m)\u001b[0m\u001b[0;34m:\u001b[0m\u001b[0;34m\u001b[0m\u001b[0m\n\u001b[1;32m     94\u001b[0m         \u001b[0mself\u001b[0m\u001b[0;34m.\u001b[0m\u001b[0mmobius_transform\u001b[0m\u001b[0;34m(\u001b[0m\u001b[0;34m)\u001b[0m\u001b[0;34m\u001b[0m\u001b[0m\n\u001b[0;32m---> 95\u001b[0;31m         \u001b[0mself\u001b[0m\u001b[0;34m.\u001b[0m\u001b[0mshatter\u001b[0m\u001b[0;34m(\u001b[0m\u001b[0;34m)\u001b[0m\u001b[0;34m\u001b[0m\u001b[0m\n\u001b[0m\u001b[1;32m     96\u001b[0m         \u001b[0mself\u001b[0m\u001b[0;34m.\u001b[0m\u001b[0mt\u001b[0m \u001b[0;34m+=\u001b[0m \u001b[0mself\u001b[0m\u001b[0;34m.\u001b[0m\u001b[0mdt\u001b[0m\u001b[0;34m\u001b[0m\u001b[0m\n\u001b[1;32m     97\u001b[0m \u001b[0;34m\u001b[0m\u001b[0m\n",
      "\u001b[0;32m<ipython-input-1-9944f38283ec>\u001b[0m in \u001b[0;36mshatter\u001b[0;34m(self)\u001b[0m\n\u001b[1;32m     45\u001b[0m         self.pure_matrices = [vector[0]*qutip.sigmax().full() +                               vector[1]*qutip.sigmay().full() +                               vector[2]*qutip.sigmaz().full() \n\u001b[1;32m     46\u001b[0m                                 for vector in self.pure_vectors]\n\u001b[0;32m---> 47\u001b[0;31m         \u001b[0mself\u001b[0m\u001b[0;34m.\u001b[0m\u001b[0mpure_energy\u001b[0m \u001b[0;34m=\u001b[0m \u001b[0mqutip\u001b[0m\u001b[0;34m.\u001b[0m\u001b[0mexpect\u001b[0m\u001b[0;34m(\u001b[0m\u001b[0mself\u001b[0m\u001b[0;34m.\u001b[0m\u001b[0menergy\u001b[0m\u001b[0;34m,\u001b[0m \u001b[0mself\u001b[0m\u001b[0;34m.\u001b[0m\u001b[0mstate\u001b[0m\u001b[0;34m)\u001b[0m\u001b[0;34m\u001b[0m\u001b[0m\n\u001b[0m\u001b[1;32m     48\u001b[0m         \u001b[0mpfacs\u001b[0m \u001b[0;34m=\u001b[0m \u001b[0mlist\u001b[0m\u001b[0;34m(\u001b[0m\u001b[0mprimefac\u001b[0m\u001b[0;34m.\u001b[0m\u001b[0mprimefac\u001b[0m\u001b[0;34m(\u001b[0m\u001b[0mself\u001b[0m\u001b[0;34m.\u001b[0m\u001b[0mn\u001b[0m\u001b[0;34m)\u001b[0m\u001b[0;34m)\u001b[0m\u001b[0;34m\u001b[0m\u001b[0m\n\u001b[1;32m     49\u001b[0m         \u001b[0mtwos\u001b[0m \u001b[0;34m=\u001b[0m \u001b[0mpfacs\u001b[0m\u001b[0;34m.\u001b[0m\u001b[0mcount\u001b[0m\u001b[0;34m(\u001b[0m\u001b[0;36m2\u001b[0m\u001b[0;34m)\u001b[0m\u001b[0;34m\u001b[0m\u001b[0m\n",
      "\u001b[0;32m/opt/local/Library/Frameworks/Python.framework/Versions/2.7/lib/python2.7/site-packages/qutip/expect.pyc\u001b[0m in \u001b[0;36mexpect\u001b[0;34m(oper, state)\u001b[0m\n\u001b[1;32m     71\u001b[0m     '''\n\u001b[1;32m     72\u001b[0m     \u001b[0;32mif\u001b[0m \u001b[0misinstance\u001b[0m\u001b[0;34m(\u001b[0m\u001b[0mstate\u001b[0m\u001b[0;34m,\u001b[0m \u001b[0mQobj\u001b[0m\u001b[0;34m)\u001b[0m \u001b[0;32mand\u001b[0m \u001b[0misinstance\u001b[0m\u001b[0;34m(\u001b[0m\u001b[0moper\u001b[0m\u001b[0;34m,\u001b[0m \u001b[0mQobj\u001b[0m\u001b[0;34m)\u001b[0m\u001b[0;34m:\u001b[0m\u001b[0;34m\u001b[0m\u001b[0m\n\u001b[0;32m---> 73\u001b[0;31m         \u001b[0;32mreturn\u001b[0m \u001b[0m_single_qobj_expect\u001b[0m\u001b[0;34m(\u001b[0m\u001b[0moper\u001b[0m\u001b[0;34m,\u001b[0m \u001b[0mstate\u001b[0m\u001b[0;34m)\u001b[0m\u001b[0;34m\u001b[0m\u001b[0m\n\u001b[0m\u001b[1;32m     74\u001b[0m \u001b[0;34m\u001b[0m\u001b[0m\n\u001b[1;32m     75\u001b[0m     \u001b[0;32melif\u001b[0m \u001b[0misinstance\u001b[0m\u001b[0;34m(\u001b[0m\u001b[0moper\u001b[0m\u001b[0;34m,\u001b[0m \u001b[0mQobj\u001b[0m\u001b[0;34m)\u001b[0m \u001b[0;32mand\u001b[0m \u001b[0misinstance\u001b[0m\u001b[0;34m(\u001b[0m\u001b[0mstate\u001b[0m\u001b[0;34m,\u001b[0m \u001b[0meseries\u001b[0m\u001b[0;34m)\u001b[0m\u001b[0;34m:\u001b[0m\u001b[0;34m\u001b[0m\u001b[0m\n",
      "\u001b[0;32m/opt/local/Library/Frameworks/Python.framework/Versions/2.7/lib/python2.7/site-packages/qutip/expect.pyc\u001b[0m in \u001b[0;36m_single_qobj_expect\u001b[0;34m(oper, state)\u001b[0m\n\u001b[1;32m    106\u001b[0m             raise Exception('Operator and state do not have same tensor ' +\n\u001b[1;32m    107\u001b[0m                             \u001b[0;34m'structure: %s and %s'\u001b[0m \u001b[0;34m%\u001b[0m\u001b[0;34m\u001b[0m\u001b[0m\n\u001b[0;32m--> 108\u001b[0;31m                             (oper.dims[1], state.dims[0]))\n\u001b[0m\u001b[1;32m    109\u001b[0m \u001b[0;34m\u001b[0m\u001b[0m\n\u001b[1;32m    110\u001b[0m         \u001b[0;32mif\u001b[0m \u001b[0mstate\u001b[0m\u001b[0;34m.\u001b[0m\u001b[0mtype\u001b[0m \u001b[0;34m==\u001b[0m \u001b[0;34m'oper'\u001b[0m\u001b[0;34m:\u001b[0m\u001b[0;34m\u001b[0m\u001b[0m\n",
      "\u001b[0;31mException\u001b[0m: Operator and state do not have same tensor structure: [8] and [1]"
     ]
    }
   ],
   "source": [
    "import math\n",
    "import sympy\n",
    "import mpmath\n",
    "import random\n",
    "import primefac\n",
    "import numpy as np\n",
    "import scipy.linalg\n",
    "import qutip\n",
    "import vpython\n",
    "\n",
    "def scalar_to_vector(z):\n",
    "    x = z.real\n",
    "    y = z.imag\n",
    "    return [(2*x)/(1.+(x**2)+(y**2)), \\\n",
    "           (2*y)/(1.+(x**2)+(y**2)), \\\n",
    "           (-1.+(x**2)+(y**2))/(1.+(x**2)+(y**2))]\n",
    "\n",
    "def vector_to_scalar(x, y, z):\n",
    "    if z == 1:\n",
    "        return Inf \n",
    "    else:\n",
    "        return complex(x/(1-z), y/(1-z))\n",
    "\n",
    "class Sphere:\n",
    "    def __init__(self, n, dt=0.005):\n",
    "        self.t = 0\n",
    "        self.n = n\n",
    "        self.dt = dt\n",
    "        self.state = qutip.rand_ket(self.n)\n",
    "        self.energy = qutip.rand_herm(self.n)\n",
    "        self.mobius = np.eye(2)\n",
    "        self.dims = None\n",
    "        self.polynomial = None\n",
    "        self.pure_scalars = None\n",
    "        self.pure_vectors = None\n",
    "        self.pure_matrices = None\n",
    "        self.pure_energy = None\n",
    "        self.impure_vectors = None\n",
    "        self.impure_matrices = None\n",
    "        self.impure_energies = None\n",
    "        self.shatter()\n",
    "\n",
    "    def shatter(self):\n",
    "        self.polynomial = self.state.full().T.tolist()[0]\n",
    "        self.pure_scalars = mpmath.polyroots(self.polynomial)\n",
    "        self.pure_vectors = [scalar_to_vector(scalar) for scalar in self.pure_scalars]\n",
    "        self.pure_matrices = [vector[0]*qutip.sigmax().full() + \\\n",
    "                              vector[1]*qutip.sigmay().full() + \\\n",
    "                              vector[2]*qutip.sigmaz().full() \n",
    "                                for vector in self.pure_vectors]\n",
    "        self.pure_energy = qutip.expect(self.energy, self.state)\n",
    "        pfacs = list(primefac.primefac(self.n))\n",
    "        twos = pfacs.count(2)\n",
    "        remainder = int(self.n/2**twos)\n",
    "        splitting = [2]*twos\n",
    "        if remainder != 1:\n",
    "            self.state.dims = [splitting+[remainder],[1]*(len(splitting)+1)]\n",
    "        else:\n",
    "            self.state.dims = [splitting,[1]*(len(splitting))]\n",
    "        self.dims = self.state.dims[0]\n",
    "        self.impure_matrices = [self.state.ptrace(i) for i in range(len(splitting))]\n",
    "        self.energy.dims = [self.dims, self.dims]\n",
    "        self.impure_energies = [self.energy.ptrace(i) for i in range(len(splitting))]\n",
    "        self.energy.dims = [[self.n], [self.n]]\n",
    "        self.impure_energies = [qutip.expect(self.impure_energies[i], self.impure_matrices[i]) for i in range(len(self.impure_matrices))]\n",
    "        self.impure_vectors = [[qutip.expect(qutip.sigmax(), matrix), \\\n",
    "                                qutip.expect(qutip.sigmay(), matrix), \\\n",
    "                                qutip.expect(qutip.sigmaz(), matrix)] \n",
    "                                    for matrix in self.impure_matrices]\n",
    "    \n",
    "    def mobius_transform(self):\n",
    "        print('pure_matrices')\n",
    "        print(self.pure_matrices)\n",
    "        propagator = scipy.linalg.expm(-2*math.pi*complex(0,1)*self.mobius)\n",
    "        for i in range(len(self.pure_matrices)):\n",
    "            self.pure_matrices[i] = np.conjugate(propagator).T*self.pure_matrices[i]*propagator\n",
    "        print('pure matrices after')\n",
    "        print(self.pure_matrices)\n",
    "        print(\"pure vectors\")\n",
    "        self.pure_vectors = [[qutip.expect(qutip.sigmax(), qutip.Qobj(matrix)), \\\n",
    "                                qutip.expect(qutip.sigmay(), qutip.Qobj(matrix)), \\\n",
    "                                qutip.expect(qutip.sigmaz(), qutip.Qobj(matrix))] \n",
    "                                    for matrix in self.pure_matrices]\n",
    "        print(self.pure_vectors)\n",
    "        print(\"pure scalars\")\n",
    "        self.pure_scalars = [vector_to_scalar(*vector) for vector in self.pure_vectors]\n",
    "        print(self.pure_scalars)\n",
    "        print(\"polynomial\")\n",
    "        x = sympy.symbols(\"x\")\n",
    "        polynomial = sympy.Poly(reduce(lambda a, b: a*b, [x+root for root in self.pure_scalars]))\n",
    "        self.polynomial = polynomial.coeffs()\n",
    "        print(self.polynomial)\n",
    "        print(\"state\")\n",
    "        self.state = qutip.Qobj(np.array(self.polynomial).T)\n",
    "        print(self.state)\n",
    "    \n",
    "    def hamiltonian_transform(self):\n",
    "        propagator = scipy.linalg.expm(-2*math.pi*complex(0,1)*self.energy.full()*self.dt)\n",
    "        self.state = qutip.Qobj(propagator.dot(self.state.full()))\n",
    "        \n",
    "    def evolve(self):\n",
    "        self.mobius_transform()\n",
    "        self.shatter()\n",
    "        self.t += self.dt\n",
    "        \n",
    "################\n",
    "sphere = Sphere(8)\n",
    "################\n",
    "\n",
    "vpython.scene.range = 1\n",
    "vpython.scene.forward = vpython.vector(random.random(), random.random(), random.random())\n",
    "vpython.scene.lights = []\n",
    "#vsphere = vpython.sphere(pos=vpython.vector(0,0,0), radius=1, color=vpython.color.blue, opacity=0.5)\n",
    "vpure_stars = [vpython.sphere(pos=vpython.vector(*vector),\\\n",
    "                              radius=0.1, color=vpython.color.white,\\\n",
    "                              opacity=1.0, emissive=True) \n",
    "                                     for vector in sphere.pure_vectors]\n",
    "vimpure_stars = [vpython.sphere(pos=vpython.vector(*vector),\\\n",
    "                                radius=0.1, color=vpython.color.red,\\\n",
    "                                opacity=1.0, emissive=True) \n",
    "                                     for vector in sphere.impure_vectors]\n",
    "\n",
    "def draw_stars():\n",
    "    vpython.rate(15)\n",
    "    for i in range(len(vpure_stars)):\n",
    "        vpure_stars[i].pos = vpython.vector(*sphere.pure_vectors[i])\n",
    "        vpure_stars[i].color = vpython.color.hsv_to_rgb(vpython.vector(sphere.pure_energy**2,1,1))\n",
    "        #vsphere.color = vpython.color.hsv_to_rgb(vpython.vector(sphere.pure_energy**2,1,1))\n",
    "    for i in range(len(vimpure_stars)):\n",
    "         vimpure_stars[i].pos = vpython.vector(*sphere.impure_vectors[i])\n",
    "         vimpure_stars[i].color = vpython.color.hsv_to_rgb(vpython.vector(sphere.impure_energies[i]**2,1,1))\n",
    "\n",
    "def click(event):\n",
    "    global sphere\n",
    "    global vpure_stars\n",
    "    global vimpure_stars\n",
    "    star = vpython.scene.mouse.pick\n",
    "    matrix = None\n",
    "    if star in vpure_stars:\n",
    "        i = vpure_stars.index(star)\n",
    "        matrix = sphere.pure_matrices[i]\n",
    "    elif star in vimpure_stars:\n",
    "        i = vimpure_stars.index(star)\n",
    "        matrix = sphere.impure_matrices[i]\n",
    "    else:\n",
    "        return\n",
    "    sphere.mobius = matrix\n",
    "    \n",
    "vpython.scene.bind('click', click)\n",
    " \n",
    "while True:\n",
    "    draw_stars()\n",
    "    sphere.evolve()"
   ]
  },
  {
   "cell_type": "code",
   "execution_count": null,
   "metadata": {},
   "outputs": [],
   "source": []
  }
 ],
 "metadata": {
  "kernelspec": {
   "display_name": "VPython",
   "language": "python",
   "name": "vpython"
  },
  "language_info": {
   "codemirror_mode": {
    "name": "ipython",
    "version": 2
   },
   "file_extension": ".py",
   "mimetype": "text/x-python",
   "name": "python",
   "nbconvert_exporter": "python",
   "pygments_lexer": "ipython2",
   "version": "2.7.12"
  }
 },
 "nbformat": 4,
 "nbformat_minor": 2
}
