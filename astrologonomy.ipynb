{
 "cells": [
  {
   "cell_type": "code",
   "execution_count": 1,
   "metadata": {
    "collapsed": true
   },
   "outputs": [],
   "source": [
    "# QUANTUM ASTROLOGONOMY -- MAJORANA STARS\n",
    "# (C) 2018 MATTHEW BENJAMIN WEISS"
   ]
  },
  {
   "cell_type": "code",
   "execution_count": 2,
   "metadata": {},
   "outputs": [
    {
     "data": {
      "application/javascript": [
       "require.undef(\"nbextensions/vpython_libraries/glow.min\");"
      ],
      "text/plain": [
       "<IPython.core.display.Javascript object>"
      ]
     },
     "metadata": {},
     "output_type": "display_data"
    },
    {
     "data": {
      "application/javascript": [
       "require.undef(\"nbextensions/vpython_libraries/glowcomm\");"
      ],
      "text/plain": [
       "<IPython.core.display.Javascript object>"
      ]
     },
     "metadata": {},
     "output_type": "display_data"
    },
    {
     "data": {
      "application/javascript": [
       "require.undef(\"nbextensions/vpython_libraries/jquery-ui.custom.min\");"
      ],
      "text/plain": [
       "<IPython.core.display.Javascript object>"
      ]
     },
     "metadata": {},
     "output_type": "display_data"
    },
    {
     "data": {
      "application/javascript": [
       "require([\"nbextensions/vpython_libraries/glow.min\"], function(){console.log(\"GLOW LOADED\");})"
      ],
      "text/plain": [
       "<IPython.core.display.Javascript object>"
      ]
     },
     "metadata": {},
     "output_type": "display_data"
    },
    {
     "data": {
      "application/javascript": [
       "require([\"nbextensions/vpython_libraries/glowcomm\"], function(){console.log(\"GLOWCOMM LOADED\");})"
      ],
      "text/plain": [
       "<IPython.core.display.Javascript object>"
      ]
     },
     "metadata": {},
     "output_type": "display_data"
    },
    {
     "data": {
      "application/javascript": [
       "require([\"nbextensions/vpython_libraries/jquery-ui.custom.min\"], function(){console.log(\"JQUERY LOADED\");})"
      ],
      "text/plain": [
       "<IPython.core.display.Javascript object>"
      ]
     },
     "metadata": {},
     "output_type": "display_data"
    },
    {
     "data": {
      "text/html": [
       "<div id=\"glowscript\" class=\"glowscript\"></div>"
      ],
      "text/plain": [
       "<IPython.core.display.HTML object>"
      ]
     },
     "metadata": {},
     "output_type": "display_data"
    },
    {
     "data": {
      "application/javascript": [
       "window.__context = { glowscript_container: $(\"#glowscript\").removeAttr(\"id\")}"
      ],
      "text/plain": [
       "<IPython.core.display.Javascript object>"
      ]
     },
     "metadata": {},
     "output_type": "display_data"
    }
   ],
   "source": [
    "import math\n",
    "import cmath\n",
    "import functools\n",
    "import numpy as np\n",
    "import sympy\n",
    "import mpmath\n",
    "import scipy\n",
    "import qutip \n",
    "import random\n",
    "import datetime\n",
    "import geocoder\n",
    "import vpython\n",
    "\n",
    "import ephem\n",
    "import ephem.stars\n",
    "\n",
    "STAR_NAMES = [star.split(\",\")[0] for star in ephem.stars.db.split(\"\\n\")][:-1]"
   ]
  },
  {
   "cell_type": "code",
   "execution_count": 3,
   "metadata": {
    "collapsed": true
   },
   "outputs": [],
   "source": [
    "def I():\n",
    "    return complex(0,1)\n",
    "\n",
    "def dag(matrix):\n",
    "    return np.conjugate(matrix.T)"
   ]
  },
  {
   "cell_type": "code",
   "execution_count": 4,
   "metadata": {},
   "outputs": [],
   "source": [
    "def c_xyz(c):\n",
    "    if c == float('inf'):\n",
    "        return [0,0,1]\n",
    "    x = c.real\n",
    "    y = c.imag\n",
    "    return [(2*x)/(1.+(x**2)+(y**2)),\\\n",
    "            (2*y)/(1.+(x**2)+(y**2)),\\\n",
    "            (-1.+(x**2)+(y**2))/(1.+(x**2)+(y**2))]\n",
    "\n",
    "def xyz_c(xyz):\n",
    "    x, y, z = xyz[0], xyz[1], xyz[2]\n",
    "    if z == 1:\n",
    "        return float('inf') \n",
    "    else:\n",
    "        return complex(x/(1-z), y/(1-z))"
   ]
  },
  {
   "cell_type": "code",
   "execution_count": 5,
   "metadata": {},
   "outputs": [
    {
     "name": "stdout",
     "output_type": "stream",
     "text": [
      "c: (0.6106303643100608+0.023400342648777106j)\n",
      "xyz: [0.8892133363315987, 0.03407609246803854, -0.4562219442465876]\n",
      "c2: (0.6106303643100607+0.023400342648777106j)\n"
     ]
    }
   ],
   "source": [
    "c = complex(random.random(), random.random())\n",
    "xyz = c_xyz(c)\n",
    "c2 = xyz_c(xyz)\n",
    "print(\"c: %s\\nxyz: %s\\nc2: %s\" % (c, xyz, c2))"
   ]
  },
  {
   "cell_type": "code",
   "execution_count": 6,
   "metadata": {
    "collapsed": true
   },
   "outputs": [],
   "source": [
    "def xyz_txyz(xyz):\n",
    "    return np.array([1]+xyz)\n",
    "\n",
    "def txyz_xyz(txyz):\n",
    "    return txyz_unitSphere(txyz)[1:].tolist()\n",
    "\n",
    "def txyz_unitSphere(txyz):\n",
    "    t, x, y, z = txyz[0], txyz[1], txyz[2], txyz[3]\n",
    "    return np.array([t/math.sqrt(x**2+y**2+z**2), x/t, y/t, z/t])"
   ]
  },
  {
   "cell_type": "code",
   "execution_count": 7,
   "metadata": {},
   "outputs": [
    {
     "name": "stdout",
     "output_type": "stream",
     "text": [
      "xyz: [0.1588144597994491, 0.9240947379242065, -0.34760161492634245]\n",
      "txyz: [ 1.          0.15881446  0.92409474 -0.34760161]\n",
      "xyz2: [0.1588144597994491, 0.9240947379242065, -0.34760161492634245]\n"
     ]
    }
   ],
   "source": [
    "xyz = c_xyz(complex(random.random(), random.random()))\n",
    "txyz = xyz_txyz(xyz)\n",
    "xyz2 = txyz_xyz(txyz)\n",
    "print(\"xyz: %s\\ntxyz: %s\\nxyz2: %s\" % (xyz, txyz, xyz2))"
   ]
  },
  {
   "cell_type": "code",
   "execution_count": 8,
   "metadata": {
    "collapsed": true
   },
   "outputs": [],
   "source": [
    "def c_txyz(c):\n",
    "    if c == float('inf'):\n",
    "        return np.array([1,0,0,1])\n",
    "    c = np.conjugate(c)\n",
    "    u = c.real\n",
    "    v = c.imag\n",
    "    return np.array([u**2 + v**2 + 1, 2*u, -2*v, u**2 + v**2 - 1])\n",
    "\n",
    "def txyz_c(txyz):\n",
    "    return xyz_c(txyz_xyz(txyz))"
   ]
  },
  {
   "cell_type": "code",
   "execution_count": 9,
   "metadata": {},
   "outputs": [
    {
     "name": "stdout",
     "output_type": "stream",
     "text": [
      "c: (0.6106303643100608+0.023400342648777106j)\n",
      "txyz: [ 1.37341702  1.22126073  0.04680069 -0.62658298]\n",
      "c2: (0.6106303643100608+0.023400342648777103j)\n"
     ]
    }
   ],
   "source": [
    "txyz = c_txyz(c)\n",
    "c2 = txyz_c(txyz)\n",
    "print(\"c: %s\\ntxyz: %s\\nc2: %s\" % (c, txyz, c2))"
   ]
  },
  {
   "cell_type": "code",
   "execution_count": 10,
   "metadata": {
    "collapsed": true
   },
   "outputs": [],
   "source": [
    "def xyz_hermitian(xyz):\n",
    "    return txyz_hermitian(xyz_txyz(xyz))    \n",
    "\n",
    "def txyz_hermitian(txyz):\n",
    "    t, x, y, z = txyz[0], txyz[1], txyz[2], txyz[3]\n",
    "    return np.array([[t+z, x-I()*y],[x+I()*y, t-z]])\n",
    "\n",
    "def hermitian_xyz(hermitian):\n",
    "    return txyz_xyz(hermitian_txyz(hermitian))\n",
    "\n",
    "def hermitian_txyz(hermitian):\n",
    "    def scalarProduct(m, n):\n",
    "        return 0.5*np.trace(np.dot(np.conjugate(m).T, n))\n",
    "    t = scalarProduct(hermitian, np.eye(2)).real\n",
    "    x = scalarProduct(hermitian, qutip.sigmax().full()).real\n",
    "    y = scalarProduct(hermitian, qutip.sigmay().full()).real\n",
    "    z = scalarProduct(hermitian, qutip.sigmaz().full(), ).real\n",
    "    return np.array([t, x, y, z])\n",
    "\n",
    "def txyz_spacetimeInterval(txyz):\n",
    "    t, x, y, z = txyz[0], txyz[1], txyz[2], txyz[3]\n",
    "    return t**2 - x**2 - y**2 - z**2\n",
    "\n",
    "def hermitian_spacetimeInterval(hermitian):\n",
    "    return np.linalg.det(hermitian)"
   ]
  },
  {
   "cell_type": "code",
   "execution_count": 11,
   "metadata": {
    "collapsed": true
   },
   "outputs": [],
   "source": [
    "def c_hermitian(c):\n",
    "    if c == float('inf'):\n",
    "        return txyz_hermitian(np.array([1,0,0,1]))\n",
    "    u = c.real\n",
    "    v = c.imag\n",
    "    return np.conjugate(np.array([[u**2 + v**2, u+I()*v],[u-I()*v, 1]]))\n",
    "\n",
    "def hermitian_c(hermitian):\n",
    "    return txyz_c(hermitian_txyz(hermitian))"
   ]
  },
  {
   "cell_type": "code",
   "execution_count": 12,
   "metadata": {},
   "outputs": [
    {
     "name": "stdout",
     "output_type": "stream",
     "text": [
      "xyz: [0.8149362001811099, 0.5519027310931993, 0.17686821378145282]\n",
      "hermitian: [[ 1.17686821+0.j          0.81493620-0.55190273j]\n",
      " [ 0.81493620+0.55190273j  0.82313179+0.j        ]]\n",
      "xyz2: [0.8149362001811099, 0.5519027310931993, 0.1768682137814528]\n",
      "\n",
      "[ 1.          0.8149362   0.55190273  0.17686821]\n",
      "[0.8149362001811099, 0.5519027310931993, 0.1768682137814528]\n",
      "\n",
      "txyz: [ 2.42974458  1.98008682  1.34098267  0.42974458]\n",
      "hermitian: [[ 2.85948917+0.j          1.98008682-1.34098267j]\n",
      " [ 1.98008682+1.34098267j  2.00000000+0.j        ]]\n",
      "txyz2: [ 2.42974458  1.98008682  1.34098267  0.42974458]\n",
      "\n",
      "[0.8149362001811099, 0.5519027310931993, 0.1768682137814528]\n",
      "[0.8149362001811099, 0.5519027310931993, 0.1768682137814528]\n"
     ]
    }
   ],
   "source": [
    "c = complex(random.random(), random.random())\n",
    "xyz = c_xyz(c)\n",
    "hermitian = xyz_hermitian(xyz)\n",
    "xyz2 = hermitian_xyz(hermitian)\n",
    "print(\"xyz: %s\\nhermitian: %s\\nxyz2: %s\" % (xyz, hermitian, xyz2))\n",
    "\n",
    "print()\n",
    "\n",
    "print(hermitian_txyz(hermitian))\n",
    "print(txyz_xyz(hermitian_txyz(hermitian)))\n",
    "\n",
    "print()\n",
    "\n",
    "txyz = c_txyz(c)\n",
    "hermitian = txyz_hermitian(txyz)\n",
    "txyz2 = hermitian_txyz(hermitian)\n",
    "print(\"txyz: %s\\nhermitian: %s\\ntxyz2: %s\" % (txyz, hermitian, txyz2))\n",
    "\n",
    "print()\n",
    "\n",
    "print(hermitian_xyz(hermitian))\n",
    "print(txyz_xyz(txyz2))\n",
    "\n",
    "print()\n",
    "\n",
    "c = complex(random.random(), random.random())\n",
    "hermitian = c_hermitian(c)\n",
    "c2 = hermitian_c(hermitian)\n",
    "print(\"c: %s\\nhermitian: %s\\nc2: %s\" % (c, hermitian, c2))"
   ]
  },
  {
   "cell_type": "code",
   "execution_count": 14,
   "metadata": {
    "collapsed": true
   },
   "outputs": [],
   "source": [
    "def c_altitudeAzimuth(c):\n",
    "    r, th = cmath.polar(c)\n",
    "    if r == 0:\n",
    "        return [(math.pi/2.) - math.pi, th]\n",
    "    return [(math.pi/2.) - 2*math.atan2(1,r), th]\n",
    "\n",
    "def altitudeAzimuth_c(altitude, azimuth):\n",
    "    zenith = (math.pi/2.) - altitude\n",
    "    if zenith == 0:\n",
    "        return float('inf')\n",
    "    return cmath.rect(math.sin(zenith)/(1-math.cos(zenith)), azimuth)"
   ]
  },
  {
   "cell_type": "code",
   "execution_count": 15,
   "metadata": {
    "collapsed": true
   },
   "outputs": [],
   "source": [
    "def hermitian_altitudeAzimuth(hermitian):\n",
    "    return c_altitudeAzimuth(hermitian_c(hermitian))\n",
    "\n",
    "def altitudeAzimuth_hermitian(altitude, azimuth):\n",
    "    return c_hermitian(altitudeAzimuth_c(altitude, azimuth))"
   ]
  },
  {
   "cell_type": "code",
   "execution_count": 16,
   "metadata": {},
   "outputs": [
    {
     "name": "stdout",
     "output_type": "stream",
     "text": [
      "c: (0.6159661472784611+0.6469041982978705j)\n",
      "alt_az: [-0.11264741981763482, 0.8098914647695399]\n",
      "c2: (0.6159661472784611+0.6469041982978705j)\n",
      "\n",
      "alt_az: (-0.7989302359791601, -4.302365094931364)\n",
      "c: (-0.16196733485126003+0.3726302926526738j)\n",
      "alt_az1: (-0.7989302359791601, 1.9808202122482224)\n",
      "alt_az: (2.699853793897748, 4.728755686931998)\n",
      "hermitian: [[ 2.49352335-0.j         -0.02584334-1.57887792j]\n",
      " [-0.02584334+1.57887792j  1.00000000-0.j        ]]\n",
      "alt_az2: (0.44173885969204507, 1.5871630333422047)\n"
     ]
    }
   ],
   "source": [
    "c = complex(random.random(), random.random())\n",
    "alt_az = c_altitudeAzimuth(c)\n",
    "c2 = altitudeAzimuth_c(*alt_az)\n",
    "print(\"c: %s\\nalt_az: %s\\nc2: %s\" % (c, alt_az, c2))\n",
    "\n",
    "print()\n",
    "\n",
    "alt, az = random.uniform(-1*math.pi, math.pi), random.uniform(-2*math.pi, 2*math.pi)\n",
    "c = altitudeAzimuth_c(alt, az)\n",
    "alt2, az2 = c_altitudeAzimuth(c)\n",
    "print(\"alt_az: %s\\nc: %s\\nalt_az1: %s\" % ((alt,az), c, (alt2,az2)))\n",
    "\n",
    "print()\n",
    "\n",
    "alt, az = random.uniform(0, math.pi), random.uniform(0, 2*math.pi)\n",
    "hermitian = altitudeAzimuth_hermitian(alt, az)\n",
    "alt2, az2 = hermitian_altitudeAzimuth(hermitian)\n",
    "print(\"alt_az: %s\\nhermitian: %s\\nalt_az2: %s\" % ((alt,az), hermitian, (alt2,az2)))"
   ]
  },
  {
   "cell_type": "code",
   "execution_count": 17,
   "metadata": {
    "collapsed": true
   },
   "outputs": [],
   "source": [
    "def altitudeAzimuth_xyz(altitude, azimuth):\n",
    "    return c_xyz(altitudeAzimuth_c(altitude, azimuth))\n",
    "\n",
    "def xyz_altitudeAzimuth(xyz):\n",
    "    return c_altitudeAzimuth(xyz_c(xyz))"
   ]
  },
  {
   "cell_type": "code",
   "execution_count": 18,
   "metadata": {
    "collapsed": true
   },
   "outputs": [],
   "source": [
    "def latitudeLongitude_xyz(latitude, longitude):\n",
    "    latitude = math.radians(latitude)\n",
    "    longitude = math.radians(longitude)\n",
    "    x = math.cos(latitude)*math.cos(longitude)\n",
    "    y = math.cos(latitude)*math.sin(longitude)\n",
    "    z = math.sin(latitude)\n",
    "    return [x, y, z]\n",
    "\n",
    "def xyz_latitudeLongitude(xyz):\n",
    "    x, y, z = xyz[0], xyz[1], xyz[2]\n",
    "    r = 1\n",
    "    latitude = math.asin(z/r)*(180/math.pi)\n",
    "    longitude = None\n",
    "    if x > 0:\n",
    "        longitude = math.atan(y/x)*(180/math.pi)\n",
    "    elif y > 0:\n",
    "        longitude = math.atan(y/x)*(180/math.pi) + 180\n",
    "    else:\n",
    "        longitude = math.atan(y/x)*(180/math.pi) - 180\n",
    "    return (latitude, longitude)"
   ]
  },
  {
   "cell_type": "code",
   "execution_count": 19,
   "metadata": {},
   "outputs": [
    {
     "name": "stdout",
     "output_type": "stream",
     "text": [
      "lat_long: (-15.478856216829854, -99.39951374694712)\n",
      "xyz: [-0.15739389820256988, -0.9507895446459642, -0.266882750661258]\n",
      "lat_long2: (-15.478856216829854, -99.39951374694712)\n",
      "\n",
      "xyz: [0.174427270291895, 0.6105651486526703, -0.7725188195955234]\n",
      "lat_long: (-50.580618610388676, 74.05633190795362)\n",
      "xyz2: [0.1744272702918951, 0.6105651486526703, -0.7725188195955234]\n"
     ]
    }
   ],
   "source": [
    "lat, long = random.uniform(-90., 90), random.uniform(-180, 180)\n",
    "xyz = latitudeLongitude_xyz(lat, long)\n",
    "lat2, long2 = xyz_latitudeLongitude(xyz)\n",
    "print(\"lat_long: %s\\nxyz: %s\\nlat_long2: %s\" % ((lat,long), xyz, (lat2,long2)))\n",
    "\n",
    "print()\n",
    "\n",
    "xyz = c_xyz(complex(random.random(), random.random()))\n",
    "lat, long = xyz_latitudeLongitude(xyz)\n",
    "xyz2 = latitudeLongitude_xyz(lat, long)\n",
    "print(\"xyz: %s\\nlat_long: %s\\nxyz2: %s\" % (xyz, (lat,long), xyz2))"
   ]
  },
  {
   "cell_type": "code",
   "execution_count": 20,
   "metadata": {
    "collapsed": true
   },
   "outputs": [],
   "source": [
    "def C_polynomial(roots):\n",
    "    s = sympy.symbols(\"s\")\n",
    "    polynomial = sympy.Poly(functools.reduce(lambda a, b: a*b, [s-np.conjugate(root) for root in roots]), domain=\"CC\")\n",
    "    return [complex(c) for c in polynomial.coeffs()]\n",
    "\n",
    "def polynomial_C(polynomial):\n",
    "    try:\n",
    "        roots = [np.conjugate(complex(root)) for root in mpmath.polyroots(polynomial)]\n",
    "    except:\n",
    "        return [complex(0,0) for i in range(len(polynomial)-1)]\n",
    "    return roots"
   ]
  },
  {
   "cell_type": "code",
   "execution_count": 21,
   "metadata": {
    "collapsed": true
   },
   "outputs": [],
   "source": [
    "def polynomial_v(polynomial):\n",
    "    coordinates = [polynomial[i]/(((-1)**i) * math.sqrt(combos(len(polynomial)-1,i))) for i in range(len(polynomial))]\n",
    "    return np.array(coordinates)\n",
    "\n",
    "def combos(a,b):\n",
    "        f = math.factorial\n",
    "        return f(a) / f(b) / f(a-b)\n",
    "\n",
    "def v_polynomial(v):\n",
    "    polynomial = v.tolist()\n",
    "    return [(((-1)**i) * math.sqrt(combos(len(polynomial)-1,i))) * polynomial[i] for i in range(len(polynomial))]"
   ]
  },
  {
   "cell_type": "code",
   "execution_count": 22,
   "metadata": {},
   "outputs": [],
   "source": [
    "def C_v(roots):\n",
    "    return polynomial_v(C_polynomial(roots))\n",
    "\n",
    "def v_C(v):\n",
    "    return polynomial_C(v_polynomial(v))"
   ]
  },
  {
   "cell_type": "code",
   "execution_count": 28,
   "metadata": {},
   "outputs": [
    {
     "name": "stdout",
     "output_type": "stream",
     "text": [
      "v:\n",
      "[ 0.65288921-0.33987624j  0.35267291-0.41181541j -0.00394408-0.08943452j\n",
      " -0.33103009+0.21599698j]\n",
      "p:\n",
      "[(0.6528892136035855-0.3398762386237209j), (-0.6108474039524739+0.7132852080244777j), (-0.00683133853172564-0.15490514109060224j), (0.3310300887203399-0.21599697821823532j)]\n",
      "v2:\n",
      "[ 0.65288921-0.33987624j  0.35267291-0.41181541j -0.00394408-0.08943452j\n",
      " -0.33103009+0.21599698j]\n",
      "\n",
      "p:\n",
      "[(1+0j), (1.279330392783304-0.8419249124731633j), (1.237555711460345-1.2975741508985845j), (-0.138288058697685-0.773706620373366j)]\n",
      "C:\n",
      "[(-0.17736811459448168-0.54863835145014506j), (-0.79315620335803005+0.84309597454428353j), (-0.30880607483079225-1.1363825355673016j)]\n",
      "p2:\n",
      "[(1+0j), (1.279330392783304-0.8419249124731631j), (1.237555711460345-1.2975741508985843j), (-0.13828805869768498-0.773706620373366j)]\n",
      "\n",
      "v: [ 0.24820758-0.55505996j -0.37952862-0.3491652j   0.25467102-0.05006567j\n",
      "  0.46424222+0.28540915j]\n",
      "C: [(0.56659437297561388-0.16375505238128535j), (-0.68954305844006103-0.33538917848237876j), (0.58960510687423529+1.8921297908622967j)]\n",
      "v2: [ 1.00000000+0.j          0.26942421-0.80424059j  0.24614844+0.34874631j\n",
      " -0.11682696+0.88862391j]\n",
      "v/v[0]: [(0.99999999999999989-0j), (0.26942421052000853-0.80424058804247223j), (0.24614844156463286+0.34874630529894107j), (-0.11682695720762078+0.88862391387430328j)]\n"
     ]
    }
   ],
   "source": [
    "def random_v(n):\n",
    "    return qutip.rand_ket(n).full().T[0]\n",
    "\n",
    "v = random_v(4)\n",
    "p = v_polynomial(v)\n",
    "v2 = polynomial_v(p)\n",
    "print(\"v:\\n%s\\np:\\n%s\\nv2:\\n%s\" % (v, p, v2))\n",
    "\n",
    "print()\n",
    "v = random_v(4)\n",
    "v = np.array([x/v[0] for x in v])\n",
    "p = v_polynomial(v)\n",
    "C = polynomial_C(p)\n",
    "p2 = C_polynomial(C)\n",
    "print(\"p:\\n%s\\nC:\\n%s\\np2:\\n%s\" % (p, C, p2))\n",
    "\n",
    "print()\n",
    "\n",
    "v = random_v(4)\n",
    "C = v_C(v)\n",
    "v2 = C_v(C)\n",
    "u = [x/v[0] for x in v]\n",
    "print(\"v: %s\\nC: %s\\nv2: %s\\nv/v[0]: %s\" % (v, C, v2, u))"
   ]
  },
  {
   "cell_type": "code",
   "execution_count": 24,
   "metadata": {
    "collapsed": true
   },
   "outputs": [],
   "source": [
    "def v_SurfaceXYZ(v):\n",
    "    return [c_xyz(c) for c in v_C(v)]\n",
    "\n",
    "def SurfaceXYZ_v(XYZ):\n",
    "    return C_v([xyz_c(xyz) for xyz in XYZ])"
   ]
  },
  {
   "cell_type": "code",
   "execution_count": 25,
   "metadata": {
    "collapsed": true
   },
   "outputs": [],
   "source": [
    "def v_ALTITUDEaZIMUTH(v):\n",
    "    return [c_altitudeAzimuth(c) for c in v_C(v)]\n",
    "\n",
    "def ALTITUDEaZIMUTH_v(ALTITUDEaZIMUTH):\n",
    "    return C_v([altitudeAzimuth_c(*altitudeAzimuth) for altitudeAzimuth in ALTITUDEaZIMUTH])"
   ]
  },
  {
   "cell_type": "code",
   "execution_count": 26,
   "metadata": {
    "collapsed": true
   },
   "outputs": [],
   "source": [
    "def v_SurfaceHERMITIAN(v):\n",
    "    return [c_hermitian(c) for c in v_C(v)]\n",
    "\n",
    "def SurfaceHERMITIAN_v(HERMITIAN):\n",
    "    return C_v([hermitian_c(hermitian) for hermitian in HERMITIAN])"
   ]
  },
  {
   "cell_type": "code",
   "execution_count": 27,
   "metadata": {},
   "outputs": [
    {
     "ename": "AttributeError",
     "evalue": "'list' object has no attribute 'tolist'",
     "output_type": "error",
     "traceback": [
      "\u001b[0;31m---------------------------------------------------------------------------\u001b[0m",
      "\u001b[0;31mAttributeError\u001b[0m                            Traceback (most recent call last)",
      "\u001b[0;32m<ipython-input-27-c6222eaafd77>\u001b[0m in \u001b[0;36m<module>\u001b[0;34m()\u001b[0m\n\u001b[1;32m      4\u001b[0m \u001b[0mv\u001b[0m \u001b[0;34m=\u001b[0m \u001b[0mrandom_v\u001b[0m\u001b[0;34m(\u001b[0m\u001b[0;36m4\u001b[0m\u001b[0;34m)\u001b[0m\u001b[0;34m\u001b[0m\u001b[0m\n\u001b[1;32m      5\u001b[0m \u001b[0mv\u001b[0m \u001b[0;34m=\u001b[0m \u001b[0;34m[\u001b[0m\u001b[0mx\u001b[0m\u001b[0;34m/\u001b[0m\u001b[0mv\u001b[0m\u001b[0;34m[\u001b[0m\u001b[0;36m0\u001b[0m\u001b[0;34m]\u001b[0m \u001b[0;32mfor\u001b[0m \u001b[0mx\u001b[0m \u001b[0;32min\u001b[0m \u001b[0mv\u001b[0m\u001b[0;34m]\u001b[0m\u001b[0;34m\u001b[0m\u001b[0m\n\u001b[0;32m----> 6\u001b[0;31m \u001b[0mH\u001b[0m \u001b[0;34m=\u001b[0m \u001b[0mv_SurfaceHERMITIAN\u001b[0m\u001b[0;34m(\u001b[0m\u001b[0mv\u001b[0m\u001b[0;34m)\u001b[0m\u001b[0;34m\u001b[0m\u001b[0m\n\u001b[0m\u001b[1;32m      7\u001b[0m \u001b[0mv2\u001b[0m \u001b[0;34m=\u001b[0m \u001b[0mSurfaceHERMITIAN_v\u001b[0m\u001b[0;34m(\u001b[0m\u001b[0mH\u001b[0m\u001b[0;34m)\u001b[0m\u001b[0;34m\u001b[0m\u001b[0m\n\u001b[1;32m      8\u001b[0m \u001b[0mprint\u001b[0m\u001b[0;34m(\u001b[0m\u001b[0;34m\"v:\\n%s\\nH:\\n%s\\nv2:%s\"\u001b[0m \u001b[0;34m%\u001b[0m \u001b[0;34m(\u001b[0m\u001b[0mv\u001b[0m\u001b[0;34m,\u001b[0m \u001b[0mH\u001b[0m\u001b[0;34m,\u001b[0m \u001b[0mv2\u001b[0m\u001b[0;34m)\u001b[0m\u001b[0;34m)\u001b[0m\u001b[0;34m\u001b[0m\u001b[0m\n",
      "\u001b[0;32m<ipython-input-26-418e46a1b57c>\u001b[0m in \u001b[0;36mv_SurfaceHERMITIAN\u001b[0;34m(v)\u001b[0m\n\u001b[1;32m      1\u001b[0m \u001b[0;32mdef\u001b[0m \u001b[0mv_SurfaceHERMITIAN\u001b[0m\u001b[0;34m(\u001b[0m\u001b[0mv\u001b[0m\u001b[0;34m)\u001b[0m\u001b[0;34m:\u001b[0m\u001b[0;34m\u001b[0m\u001b[0m\n\u001b[0;32m----> 2\u001b[0;31m     \u001b[0;32mreturn\u001b[0m \u001b[0;34m[\u001b[0m\u001b[0mc_hermitian\u001b[0m\u001b[0;34m(\u001b[0m\u001b[0mc\u001b[0m\u001b[0;34m)\u001b[0m \u001b[0;32mfor\u001b[0m \u001b[0mc\u001b[0m \u001b[0;32min\u001b[0m \u001b[0mv_C\u001b[0m\u001b[0;34m(\u001b[0m\u001b[0mv\u001b[0m\u001b[0;34m)\u001b[0m\u001b[0;34m]\u001b[0m\u001b[0;34m\u001b[0m\u001b[0m\n\u001b[0m\u001b[1;32m      3\u001b[0m \u001b[0;34m\u001b[0m\u001b[0m\n\u001b[1;32m      4\u001b[0m \u001b[0;32mdef\u001b[0m \u001b[0mSurfaceHERMITIAN_v\u001b[0m\u001b[0;34m(\u001b[0m\u001b[0mHERMITIAN\u001b[0m\u001b[0;34m)\u001b[0m\u001b[0;34m:\u001b[0m\u001b[0;34m\u001b[0m\u001b[0m\n\u001b[1;32m      5\u001b[0m     \u001b[0;32mreturn\u001b[0m \u001b[0mC_v\u001b[0m\u001b[0;34m(\u001b[0m\u001b[0;34m[\u001b[0m\u001b[0mhermitian_c\u001b[0m\u001b[0;34m(\u001b[0m\u001b[0mhermitian\u001b[0m\u001b[0;34m)\u001b[0m \u001b[0;32mfor\u001b[0m \u001b[0mhermitian\u001b[0m \u001b[0;32min\u001b[0m \u001b[0mHERMITIAN\u001b[0m\u001b[0;34m]\u001b[0m\u001b[0;34m)\u001b[0m\u001b[0;34m\u001b[0m\u001b[0m\n",
      "\u001b[0;32m<ipython-input-22-6c1b2a373cb3>\u001b[0m in \u001b[0;36mv_C\u001b[0;34m(v)\u001b[0m\n\u001b[1;32m      3\u001b[0m \u001b[0;34m\u001b[0m\u001b[0m\n\u001b[1;32m      4\u001b[0m \u001b[0;32mdef\u001b[0m \u001b[0mv_C\u001b[0m\u001b[0;34m(\u001b[0m\u001b[0mv\u001b[0m\u001b[0;34m)\u001b[0m\u001b[0;34m:\u001b[0m\u001b[0;34m\u001b[0m\u001b[0m\n\u001b[0;32m----> 5\u001b[0;31m     \u001b[0;32mreturn\u001b[0m \u001b[0mpolynomial_C\u001b[0m\u001b[0;34m(\u001b[0m\u001b[0mv_polynomial\u001b[0m\u001b[0;34m(\u001b[0m\u001b[0mv\u001b[0m\u001b[0;34m)\u001b[0m\u001b[0;34m)\u001b[0m\u001b[0;34m\u001b[0m\u001b[0m\n\u001b[0m",
      "\u001b[0;32m<ipython-input-21-6b0afd9d875d>\u001b[0m in \u001b[0;36mv_polynomial\u001b[0;34m(v)\u001b[0m\n\u001b[1;32m      8\u001b[0m \u001b[0;34m\u001b[0m\u001b[0m\n\u001b[1;32m      9\u001b[0m \u001b[0;32mdef\u001b[0m \u001b[0mv_polynomial\u001b[0m\u001b[0;34m(\u001b[0m\u001b[0mv\u001b[0m\u001b[0;34m)\u001b[0m\u001b[0;34m:\u001b[0m\u001b[0;34m\u001b[0m\u001b[0m\n\u001b[0;32m---> 10\u001b[0;31m     \u001b[0mpolynomial\u001b[0m \u001b[0;34m=\u001b[0m \u001b[0mv\u001b[0m\u001b[0;34m.\u001b[0m\u001b[0mtolist\u001b[0m\u001b[0;34m(\u001b[0m\u001b[0;34m)\u001b[0m\u001b[0;34m\u001b[0m\u001b[0m\n\u001b[0m\u001b[1;32m     11\u001b[0m     \u001b[0;32mreturn\u001b[0m \u001b[0;34m[\u001b[0m\u001b[0;34m(\u001b[0m\u001b[0;34m(\u001b[0m\u001b[0;34m(\u001b[0m\u001b[0;34m-\u001b[0m\u001b[0;36m1\u001b[0m\u001b[0;34m)\u001b[0m\u001b[0;34m**\u001b[0m\u001b[0mi\u001b[0m\u001b[0;34m)\u001b[0m \u001b[0;34m*\u001b[0m \u001b[0mmath\u001b[0m\u001b[0;34m.\u001b[0m\u001b[0msqrt\u001b[0m\u001b[0;34m(\u001b[0m\u001b[0mcombos\u001b[0m\u001b[0;34m(\u001b[0m\u001b[0mlen\u001b[0m\u001b[0;34m(\u001b[0m\u001b[0mpolynomial\u001b[0m\u001b[0;34m)\u001b[0m\u001b[0;34m-\u001b[0m\u001b[0;36m1\u001b[0m\u001b[0;34m,\u001b[0m\u001b[0mi\u001b[0m\u001b[0;34m)\u001b[0m\u001b[0;34m)\u001b[0m\u001b[0;34m)\u001b[0m \u001b[0;34m*\u001b[0m \u001b[0mpolynomial\u001b[0m\u001b[0;34m[\u001b[0m\u001b[0mi\u001b[0m\u001b[0;34m]\u001b[0m \u001b[0;32mfor\u001b[0m \u001b[0mi\u001b[0m \u001b[0;32min\u001b[0m \u001b[0mrange\u001b[0m\u001b[0;34m(\u001b[0m\u001b[0mlen\u001b[0m\u001b[0;34m(\u001b[0m\u001b[0mpolynomial\u001b[0m\u001b[0;34m)\u001b[0m\u001b[0;34m)\u001b[0m\u001b[0;34m]\u001b[0m\u001b[0;34m\u001b[0m\u001b[0m\n",
      "\u001b[0;31mAttributeError\u001b[0m: 'list' object has no attribute 'tolist'"
     ]
    }
   ],
   "source": [
    "def random_v(n):\n",
    "    return qutip.rand_ket(n).full().T[0]\n",
    "\n",
    "v = random_v(4)\n",
    "v = [x/v[0] for x in v]\n",
    "H = v_SurfaceHERMITIAN(v)\n",
    "v2 = SurfaceHERMITIAN_v(H)\n",
    "print(\"v:\\n%s\\nH:\\n%s\\nv2:%s\" % (v, H, v2))"
   ]
  },
  {
   "cell_type": "code",
   "execution_count": null,
   "metadata": {
    "collapsed": true
   },
   "outputs": [],
   "source": [
    "def hermitianMobiusEvolution(hermitian, mobius):\n",
    "    return np.dot(mobius, np.dot(hermitian, dag(mobius)))\n",
    "\n",
    "def txyzLorentzEvolution(txyz, lorentz):\n",
    "    return np.dot(lorentz, txyz)"
   ]
  },
  {
   "cell_type": "code",
   "execution_count": null,
   "metadata": {
    "collapsed": true
   },
   "outputs": [],
   "source": [
    "def v_hermitianMobiusEvolution_v(v, mobius):\n",
    "    return SurfaceHERMITIAN_v([hermitianMobiusEvolution(hermitian, mobius) for hermitian in v_SurfaceHERMITIAN(v)])"
   ]
  },
  {
   "cell_type": "code",
   "execution_count": null,
   "metadata": {
    "collapsed": true
   },
   "outputs": [],
   "source": [
    "def oneParameter_mobius(kind, parameter, acts_on):\n",
    "    if kind == \"parabolic_a\":\n",
    "        a = parameter\n",
    "        if acts_on == \"hermitian\":\n",
    "            return np.array([[1, a],\\\n",
    "                             [0, 1]])\n",
    "        elif acts_on == \"txyz\":\n",
    "            return np.array([[1 + (a**2)/2., a, 0, -1*(a**2)/2.],\\\n",
    "                             [a, 1, 0, -1*a],\\\n",
    "                             [0, 0, 1, 0],\\\n",
    "                             [(a**2)/2., a, 0, 1-(a**2)/2.]])\n",
    "    elif kind == \"parabolic_b\":\n",
    "        a = parameter\n",
    "        if acts_on == \"hermitian\":\n",
    "            return np.array([[1, I()*a],\\\n",
    "                             [0, 1]])\n",
    "        elif acts_on == \"txyz\":\n",
    "            return np.array([[1 + (a**2)/2., 0, a, -1*(a**2)/2.],\\\n",
    "                             [0, 1, 0, 0],\\\n",
    "                             [a, 0, 1, -1*a],\\\n",
    "                             [(a**2)/2., 0, a, 1-(a**2)/2.]])\n",
    "    elif kind == \"hyperbolic_z\":\n",
    "        b = parameter\n",
    "        if acts_on == \"hermitian\":\n",
    "            return np.array([[np.exp(b/2.), 0],\\\n",
    "                             [0, np.exp(-1*b/2.)]])\n",
    "        elif acts_on == \"txyz\":\n",
    "            return np.array([[np.cosh(b), 0, 0, np.sinh(b)],\\\n",
    "                             [0, 1, 0, 0],\\\n",
    "                             [0, 0, 1, 0],\\\n",
    "                             [np.sinh(b), 0, a, np.cosh(b)]])\n",
    "    elif kind == \"elliptic_x\":\n",
    "        theta = parameter\n",
    "        if acts_on == \"hermitian\":\n",
    "            return np.array([[np.exp(I()*theta/2.), 0],\\\n",
    "                             [0, np.exp(-1*I()*theta/2.)]])\n",
    "        elif acts_on == \"txyz\":\n",
    "            return np.array([[1, 0, 0, 0],\\\n",
    "                             [0, np.cos(theta), -1*np.sin(theta), 0],\\\n",
    "                             [0, np.sin(theta), np.cos(theta), 0],\\\n",
    "                             [0, 0, 0, 1]])\n",
    "    elif kind == \"elliptic_y\":\n",
    "        theta = parameter\n",
    "        if acts_on == \"hermitian\":\n",
    "            return np.array([[np.cos(theta/2.), -1*np.sin(theta/2.)],\\\n",
    "                             [np.sin(theta/2.), np.cos(theta/2)]])\n",
    "        elif acts_on == \"txyz\":\n",
    "            return np.array([[1, 0, 0, 0],\\\n",
    "                             [0, np.cos(theta), 0, np.sin(theta)],\\\n",
    "                             [0, 0, 1, 0],\\\n",
    "                             [0, -1*np.sin(theta), 0, np.cos(theta)]])\n",
    "    elif kind == \"elliptic_z\":\n",
    "        theta = parameter\n",
    "        if acts_on == \"hermitian\":\n",
    "            return np.array([[np.cos(theta/2.), I()*np.sin(theta/2.)],\\\n",
    "                             [I()*np.sin(theta/2.), np.cos(theta/2)]])\n",
    "        elif acts_on == \"txyz\":\n",
    "            return np.array([[1, 0, 0, 0],\\\n",
    "                             [0, 1, 0, 0],\\\n",
    "                             [0, 0, np.cos(theta), -1*np.sin(theta)],\\\n",
    "                             [0, 0, np.sin(theta), np.cos(theta)]])"
   ]
  },
  {
   "cell_type": "code",
   "execution_count": null,
   "metadata": {
    "collapsed": true
   },
   "outputs": [],
   "source": [
    "def v_InteriorHERMITIAN(v):\n",
    "    q = qutip.Qobj(v)\n",
    "    q.dims = [[2,2,2],[1,1,1]]\n",
    "    traces = [q.ptrace(i).full() for i in range(3)]\n",
    "    return traces\n",
    "\n",
    "def upgradeOperator(operator, i):\n",
    "    operator = qutip.Qobj(operator)\n",
    "    total_operator = None\n",
    "    if i == 0:\n",
    "        total_operator = qutip.tensor(operator, qutip.identity(2), qutip.identity(2))\n",
    "    elif i == 1:\n",
    "        total_operator = qutip.tensor(qutip.identity(2), operator, qutip.identity(2))\n",
    "    elif i == 2:\n",
    "        total_operator = qutip.tensor(qutip.identity(2), qutip.identity(2), operator)\n",
    "    return total_operator.full()"
   ]
  },
  {
   "cell_type": "code",
   "execution_count": null,
   "metadata": {
    "collapsed": true
   },
   "outputs": [],
   "source": [
    "def hermitian_unitary(hermitian, dt):\n",
    "    return scipy.linalg.expm(-2*math.pi*I()*hermitian*dt)\n",
    "\n",
    "def evolvev(v, energy, delta, sign):\n",
    "    state = qutip.Qobj(v)\n",
    "    unitary = qutip.Qobj(hermitian_unitary(energy, delta))\n",
    "    if sign == -1:\n",
    "        unitary = unitary.dag()\n",
    "    u = unitary*state\n",
    "    return u.full().T[0]"
   ]
  },
  {
   "cell_type": "code",
   "execution_count": null,
   "metadata": {
    "collapsed": true
   },
   "outputs": [],
   "source": [
    "def random_v(n):\n",
    "    return qutip.rand_ket(n).full().T[0]\n",
    "\n",
    "def random_hermitian(n):\n",
    "    return qutip.rand_herm(n).full()\n",
    "\n",
    "def random_SurfaceHERMITIAN(n):\n",
    "    return [c_hermitian(v_C(random_v(2))[0]) for i in range(n)]"
   ]
  },
  {
   "cell_type": "code",
   "execution_count": null,
   "metadata": {
    "collapsed": true
   },
   "outputs": [],
   "source": [
    "class Sphere:\n",
    "    def __init__(self):\n",
    "        self.state = random_v(8)\n",
    "        self.energy = random_hermitian(8)\n",
    "        self.fixed_stars = random_SurfaceHERMITIAN(len(STAR_NAMES))\n",
    "        \n",
    "        self.time = None\n",
    "        self.latitude = 0\n",
    "        self.longitude = 0\n",
    "        self.address = \"476 Jefferson St, Brooklyn\"\n",
    "        \n",
    "        self.delta = 0.005\n",
    "        self.time_delta = datetime.timedelta(minutes=1)\n",
    "        \n",
    "        self.astronomy_on = False\n",
    "        self.astronomical_evolution_on = False\n",
    "        \n",
    "        self.hamiltonian_on = False\n",
    "        self.hamiltonian_sign = 1\n",
    "        \n",
    "        self.pole = (0, \"interior\")\n",
    "        self.touched = True\n",
    "        self.virgin = True\n",
    "        \n",
    "        self.vinit()\n",
    "        \n",
    "    def vinit(self):\n",
    "        vpython.scene.width = 1000\n",
    "        vpython.scene.height = 1000\n",
    "        vpython.scene.range = 1.5\n",
    "        vpython.scene.forward = vpython.vector(1, 0, 0)\n",
    "        vpython.scene.up = vpython.vector(0, 0, 1)\n",
    "        \n",
    "        self.vsphere = vpython.sphere(pos=vpython.vector(0,0,0), radius=1, color=vpython.color.blue, opacity=0.5)\n",
    "        self.vearth = vpython.sphere(pos=vpython.vector(0,0,0), radius=0.1, color=vpython.color.cyan, opacity=0.5, emissive=True)\n",
    "        self.vobserver = vpython.sphere(pos=vpython.vector(0,0,0), radius=0.01, color=vpython.color.yellow, opacity=0.5, emissive=True, make_trail=True)\n",
    "\n",
    "        self.vstamp = vpython.label(pos=vpython.vector(0,0,0), text=\"\", height=10, opacity=0.6, visible=False)\n",
    "        self.vfixed_stars = [vpython.sphere(radius=0.01, emissive=True, color=vpython.color.white, make_trail=True) for i in range(len(STAR_NAMES))]\n",
    "\n",
    "        self.vplanets = [vpython.sphere(radius=0.1, emissive=True, make_trail=False) for i in range(7)]\n",
    "        self.vplanets[0].color = vpython.color.yellow\n",
    "        self.vplanets[1].color = vpython.color.white\n",
    "        self.vplanets[2].color = vpython.color.blue\n",
    "        self.vplanets[3].color = vpython.color.green\n",
    "        self.vplanets[4].color = vpython.color.red\n",
    "        self.vplanets[5].color = vpython.color.orange\n",
    "        self.vplanets[6].color = vpython.color.gray(0.5)\n",
    "        \n",
    "        self.vqubits = [vpython.sphere(radius=0.1, emissive=True, make_trail=False) for i in range(3)]\n",
    "        self.veigs = [vpython.sphere(color=vpython.color.black, radius=0.05, emissive=True, make_trail=False) for i in range(6)]\n",
    "        self.vlines = [vpython.curve(pos=[vpython.vector(0,0,0), vpython.vector(0,0,0)]) for i in range(3)]\n",
    "        self.vlines[0].color = vpython.color.red\n",
    "        self.vlines[1].color = vpython.color.green\n",
    "        self.vlines[2].color = vpython.color.blue\n",
    "    \n",
    "    def astronomical_update(self):\n",
    "        observer = ephem.Observer()\n",
    "        observer.date = self.time\n",
    "        observer.lat = self.latitude\n",
    "        observer.lon = self.longitude\n",
    "        ephem_planets = [ephem.Sun(observer), ephem.Moon(observer), ephem.Mercury(observer),                         ephem.Venus(observer), ephem.Mars(observer), ephem.Jupiter(observer),                         ephem.Saturn(observer)]\n",
    "    \n",
    "        ephem_stars = [ephem.star(star_name, observer) for star_name in STAR_NAMES]\n",
    "        self.fixed_stars = [altitudeAzimuth_hermitian(fixed_star.alt, fixed_star.az) for fixed_star in ephem_stars]\n",
    "        self.state = ALTITUDEaZIMUTH_v([(planet.alt, planet.az) for planet in ephem_planets])\n",
    "        self.touched = True\n",
    "      \n",
    "    def revolve(self):\n",
    "        if self.astronomy_on:\n",
    "            if self.astronomical_evolution_on:\n",
    "                self.astronomical_update()\n",
    "                self.time += self.time_delta\n",
    "        if self.hamiltonian_on:\n",
    "            self.state = evolvev(self.state, self.energy, self.delta, self.hamiltonian_sign)\n",
    "            self.touched = True\n",
    "        if self.touched:\n",
    "            planets_XYZ = v_SurfaceXYZ(self.state)\n",
    "            if not self.virgin:\n",
    "                planets_XYZ = self.fix(planets_XYZ) \n",
    "            if self.virgin:\n",
    "                self.virgin = False\n",
    "            distinguishable_qubits = v_InteriorHERMITIAN(self.state)\n",
    "            qubits_TXYZ = [hermitian_txyz(qubit) for qubit in distinguishable_qubits]\n",
    "            eigs_XYZ = []\n",
    "            for q in distinguishable_qubits:\n",
    "                eigenvalues, eigenvectors = np.linalg.eig(q)\n",
    "                for v in eigenvectors:\n",
    "                    eigs_XYZ.append(v_SurfaceXYZ(v)[0])\n",
    "            fixed_XYZ = [hermitian_xyz(fixed_star) for fixed_star in self.fixed_stars]\n",
    "            self.draw(planets_XYZ, qubits_TXYZ, eigs_XYZ, fixed_XYZ)\n",
    "            touched = False\n",
    "            \n",
    "    def draw(self, planets_XYZ, qubits_TXYZ, eigs_XYZ, fixed_XYZ):\n",
    "        vpython.rate(300)\n",
    "        if self.astronomy_on:\n",
    "            self.vstamp.text = self.time.strftime(\"%c\")+\"\\nlat: %.2f lng: %.2f\" % (self.latitude, self.longitude)\n",
    "        self.vobserver.pos = vpython.vector(*[0.1*coord for coord in latitudeLongitude_xyz(self.latitude, self.longitude)])\n",
    "        for i in range(len(self.vplanets)):\n",
    "            self.vplanets[i].pos = vpython.vector(*planets_XYZ[i])\n",
    "        for i in range(len(self.vqubits)):\n",
    "            txyz = qubits_TXYZ[i]\n",
    "            xyz = txyz_xyz(txyz)\n",
    "            self.vqubits[i].color = vpython.color.hsv_to_rgb(vpython.vector(float(txyz[0]),1,1))\n",
    "            self.vqubits[i].pos = vpython.vector(*xyz)\n",
    "        for i in range(len(self.veigs)):\n",
    "            self.veigs[i].pos = vpython.vector(*eigs_XYZ[i])\n",
    "        for i in range(len(self.vlines)):\n",
    "            self.vlines[i].modify(0, pos=vpython.vector(*eigs_XYZ[2*i]))\n",
    "            self.vlines[i].modify(1, pos=vpython.vector(*eigs_XYZ[2*i+1]))\n",
    "        for i in range(len(self.vfixed_stars)):\n",
    "            self.vfixed_stars[i].pos = vpython.vector(*fixed_XYZ[i])\n",
    "      \n",
    "    def fix(self, planets_XYZ):\n",
    "        ordering = []\n",
    "        for i in range(7):\n",
    "            vplanet = self.vplanets[i]\n",
    "            x, y, z = vplanet.pos.x, vplanet.pos.y, vplanet.pos.z\n",
    "            current_xyz = np.array([x, y, z])\n",
    "            lowest_distance = None\n",
    "            winners = []\n",
    "            for j in range(7):\n",
    "                new_xyz = np.array(planets_XYZ[j])\n",
    "                distance = np.linalg.norm(current_xyz-new_xyz)\n",
    "                if lowest_distance == None or distance < lowest_distance:\n",
    "                    lowest_distance = distance\n",
    "                    winners.append(j)\n",
    "            for m in range(len(winners)-1, -1, -1):\n",
    "                if winners[m] not in ordering:\n",
    "                    ordering.append(winners[m])\n",
    "                    break\n",
    "                if m == 0:\n",
    "                    for r in range(i, 7):\n",
    "                        if r not in ordering:\n",
    "                            ordering.append(i)\n",
    "                            break\n",
    "                        if r == 6:\n",
    "                            for p in range(i, -1, -1):\n",
    "                                if p not in ordering:\n",
    "                                    ordering.append(p)\n",
    "                                    break\n",
    "        return [planets_XYZ[i] for i in ordering]\n",
    "    \n",
    "    #######\n",
    "    \n",
    "    def set_pole(self, i, kind):\n",
    "        self.pole = i, kind\n",
    "        \n",
    "    def collapse(self, q, sign):\n",
    "        total_measurement = upgradeOperator(v_InteriorHERMITIAN(self.state)[q], q)        \n",
    "        eigenvalues, eigenvectors = np.linalg.eig(total_measurement)\n",
    "        projection = None\n",
    "        if sign == -1:\n",
    "            projection = sum([np.inner(self.state, np.conjugate(eigenvectors[i]))*eigenvectors[i] for i in range(4)])\n",
    "        elif sign == 1:\n",
    "            projection = sum([np.inner(self.state, np.conjugate(eigenvectors[i]))*eigenvectors[i] for i in range(4, 8)])\n",
    "        self.state = projection\n",
    "        self.touched = True\n",
    "        self.refresh()\n",
    "    \n",
    "    #######\n",
    "    \n",
    "    def sphere_step(self, kind, sign):\n",
    "        if kind == \"latitude\":\n",
    "            self.latitude += math.degrees(sign*self.delta)\n",
    "            self.refresh()\n",
    "        elif kind == \"longitude\":\n",
    "            self.longitude += math.degrees(sign*self.delta)\n",
    "            self.refresh()\n",
    "        elif kind == \"step\":\n",
    "            self.delta += sign*0.001\n",
    "            self.time_delta = datetime.timedelta(seconds=(self.time_delta.seconds+sign*60))\n",
    "        self.touched = True\n",
    "        \n",
    "    def mobius_step(self, kind):\n",
    "        mobius = oneParameter_mobius(kind, self.delta, \"hermitian\")\n",
    "        self.state = v_hermitianMobiusEvolution_v(self.state, mobius)\n",
    "        for i in range(len(STAR_NAMES)):\n",
    "            self.fixed_stars[i] = hermitianMobiusEvolution(self.fixed_stars[i], mobius)\n",
    "        self.touched = True\n",
    "        \n",
    "    def qubit_step(self, q, sign):\n",
    "        pole, kind = self.pole\n",
    "        operator = None\n",
    "        if kind == \"surface\":\n",
    "            operator = v_SurfaceHERMITIAN(self.state)[pole]\n",
    "        elif kind == \"interior\":\n",
    "            operator = v_InteriorHERMITIAN(self.state)[pole]\n",
    "        operator = hermitian_unitary(operator, self.delta)\n",
    "        if sign == -1:\n",
    "            operator = dag(operator)\n",
    "        full_operator = upgradeOperator(operator, q)\n",
    "        self.state = np.dot(full_operator, self.state)\n",
    "        self.refresh()\n",
    "        self.touched = True\n",
    "\n",
    "    #######\n",
    "    \n",
    "    def toggle_hamiltonian(self):\n",
    "        if self.hamiltonian_on:\n",
    "            self.hamiltonian_on = False\n",
    "        else:\n",
    "            self.hamiltonian_on = True\n",
    "\n",
    "    def toggle_hamiltonian_sign(self):\n",
    "        if self.hamiltonian_sign == 1:\n",
    "            self.hamiltonian_sign = -1\n",
    "        elif self.hamiltonian_sign == -1:\n",
    "            self.hamiltonian_sign = 1\n",
    "    \n",
    "    #######\n",
    "    \n",
    "    def random_state(self):\n",
    "        self.state = random_v(8)\n",
    "        self.fixed_stars = random_SurfaceHERMITIAN(len(STAR_NAMES))\n",
    "        self.touched = True\n",
    "        self.virgin = True\n",
    "        self.revolve()\n",
    "        self.refresh()\n",
    "        \n",
    "    def random_hamiltonian(self):\n",
    "        self.energy = random_hermitian(8)\n",
    "    \n",
    "    #######\n",
    "    \n",
    "    def reorient(self):\n",
    "        vpython.scene.forward = vpython.vector(0, -1, 0)\n",
    "        vpython.scene.up = vpython.vector(-1, 0, 0)\n",
    "        self.touched = True\n",
    "        \n",
    "    def refresh(self):\n",
    "        self.vobserver.clear_trail()\n",
    "        for vplanet in self.vplanets:\n",
    "            vplanet.clear_trail()\n",
    "        for vqubit in self.vqubits:\n",
    "            vqubit.clear_trail()\n",
    "        for vfixed_star in self.vfixed_stars:\n",
    "            vfixed_star.clear_trail()\n",
    "    \n",
    "    #######\n",
    "    \n",
    "    def load_astronomy(self):\n",
    "        try:\n",
    "            self.latitude, self.longitude = geocoder.google(self.address).latlng\n",
    "        except:\n",
    "            self.latitude, self.longitude = 0, 0\n",
    "        self.time = datetime.datetime.now()\n",
    "        self.vfixed_stars[STAR_NAMES.index(\"Sirius\")].color = vpython.color.red\n",
    "        self.vfixed_stars[STAR_NAMES.index(\"Betelgeuse\")].color = vpython.color.yellow\n",
    "        self.vfixed_stars[STAR_NAMES.index(\"Rigel\")].color = vpython.color.yellow\n",
    "        self.vfixed_stars[STAR_NAMES.index(\"Bellatrix\")].color = vpython.color.yellow\n",
    "        self.vfixed_stars[STAR_NAMES.index(\"Mintaka\")].color = vpython.color.yellow\n",
    "        self.vfixed_stars[STAR_NAMES.index(\"Alnilam\")].color = vpython.color.yellow\n",
    "        self.vfixed_stars[STAR_NAMES.index(\"Alnitak\")].color = vpython.color.yellow\n",
    "        self.vfixed_stars[STAR_NAMES.index(\"Saiph\")].color = vpython.color.yellow\n",
    "        self.vfixed_stars[STAR_NAMES.index(\"Polaris\")].color = vpython.color.blue\n",
    "        \n",
    "    def unload_astronomy(self):\n",
    "        self.fixed_stars = random_SurfaceHERMITIAN(len(STAR_NAMES))\n",
    "        for vfixed_star in self.vfixed_stars:\n",
    "            vfixed_star.color = vpython.color.white\n",
    "    \n",
    "    #######\n",
    "    \n",
    "    def toggle_astronomy(self):\n",
    "        if self.astronomy_on:\n",
    "            self.astronomy_on = False\n",
    "            self.astronomical_evolution_on = False\n",
    "            self.unload_astronomy()\n",
    "            self.vstamp.visible = False\n",
    "        else:\n",
    "            self.astronomy_on = True\n",
    "            self.load_astronomy()\n",
    "            self.astronomical_evolution_on = True\n",
    "            self.vstamp.visible = True\n",
    "        self.virgin = True\n",
    "        self.revolve()    \n",
    "        self.refresh()\n",
    "        \n",
    "    def toggle_astronomical_time(self):\n",
    "        if self.astronomical_evolution_on:\n",
    "            self.astronomical_evolution_on = False\n",
    "        else:\n",
    "            self.astronomical_evolution_on = True"
   ]
  },
  {
   "cell_type": "code",
   "execution_count": null,
   "metadata": {
    "collapsed": true
   },
   "outputs": [],
   "source": [
    "sphere = Sphere()"
   ]
  },
  {
   "cell_type": "code",
   "execution_count": null,
   "metadata": {
    "collapsed": true
   },
   "outputs": [],
   "source": [
    "def mouse(event):\n",
    "    global sphere\n",
    "    star = vpython.scene.mouse.pick\n",
    "    if star in sphere.vplanets:\n",
    "        sphere.set_pole(sphere.vplanets.index(star), \"surface\")\n",
    "    elif star in sphere.vqubits:\n",
    "        sphere.set_pole(sphere.vqubits.index(star), \"interior\")\n",
    "    elif star in sphere.veigs:\n",
    "        i = sphere.veigs.index(star)\n",
    "        if i == 0:\n",
    "            sphere.collapse(0, -1)\n",
    "        elif i == 1:\n",
    "            sphere.collapse(0, 1)\n",
    "        elif i == 2:\n",
    "            sphere.collapse(1, -1)\n",
    "        elif i == 3:\n",
    "            sphere.collapse(1, 1)\n",
    "        elif i == 4:\n",
    "            sphere.collapse(2, -1)\n",
    "        elif i == 5:\n",
    "            sphere.collapse(2, 1)\n",
    "            \n",
    "vpython.scene.bind('click', mouse)"
   ]
  },
  {
   "cell_type": "code",
   "execution_count": null,
   "metadata": {
    "collapsed": true
   },
   "outputs": [],
   "source": [
    "def keyboard(event):\n",
    "    global sphere\n",
    "    key = event.key\n",
    "    if key == \"a\":\n",
    "        sphere.sphere_step(\"latitude\", -1)\n",
    "    elif key == \"d\":\n",
    "        sphere.sphere_step(\"latitude\", 1)\n",
    "    elif key == \"w\":\n",
    "        sphere.sphere_step(\"longitude\", 1)\n",
    "    elif key == \"s\":\n",
    "        sphere.sphere_step(\"longitude\", -1)\n",
    "    elif key == \"z\":\n",
    "        sphere.sphere_step(\"step\", -1)\n",
    "    elif key == \"x\":\n",
    "        sphere.sphere_step(\"step\", 1)\n",
    "    elif key == \"f\":\n",
    "        sphere.mobius_step(\"parabolic_a\")\n",
    "    elif key == \"h\":\n",
    "        sphere.mobius_step(\"parabolic_b\")\n",
    "    elif key == \"t\":\n",
    "        sphere.mobius_step(\"elliptic_x\")\n",
    "    elif key == \"g\":\n",
    "        sphere.mobius_step(\"elliptic_y\")\n",
    "    elif key == \"v\":\n",
    "        sphere.mobius_step(\"hyperbolic_z\")\n",
    "    elif key == \"b\":\n",
    "        sphere.mobius_step(\"elliptic_z\")\n",
    "    elif key == \"j\":\n",
    "        sphere.qubit_step(0, -1)\n",
    "    elif key == \"l\":\n",
    "        sphere.qubit_step(0, 1)\n",
    "    elif key == \"i\":\n",
    "        sphere.qubit_step(1, 1)\n",
    "    elif key == \"k\":\n",
    "        sphere.qubit_step(1, -1)\n",
    "    elif key == \"n\":\n",
    "        sphere.qubit_step(2, -1)\n",
    "    elif key == \"m\":\n",
    "        sphere.qubit_step(2, 1)\n",
    "    elif key == \"e\":\n",
    "        sphere.toggle_hamiltonian()\n",
    "    elif key == \"r\":\n",
    "        sphere.toggle_hamiltonian_sign()\n",
    "    elif key == \"y\":\n",
    "        sphere.random_state()\n",
    "    elif key == \"u\":\n",
    "        sphere.random_hamiltonian()\n",
    "    elif key == \"o\":\n",
    "        sphere.reorient()\n",
    "    elif key == \"p\":\n",
    "        sphere.refresh()\n",
    "    elif key == \"q\":\n",
    "        sphere.toggle_astronomy()\n",
    "    elif key == \"c\":\n",
    "        sphere.toggle_astronomical_time()\n",
    "\n",
    "vpython.scene.bind('keydown', keyboard)"
   ]
  },
  {
   "cell_type": "code",
   "execution_count": null,
   "metadata": {},
   "outputs": [],
   "source": [
    "while True:\n",
    "    sphere.revolve()"
   ]
  }
 ],
 "metadata": {
  "kernelspec": {
   "display_name": "VPython",
   "language": "python",
   "name": "vpython"
  },
  "language_info": {
   "codemirror_mode": {
    "name": "ipython",
    "version": 3
   },
   "file_extension": ".py",
   "mimetype": "text/x-python",
   "name": "python",
   "nbconvert_exporter": "python",
   "pygments_lexer": "ipython3",
   "version": "3.6.3"
  }
 },
 "nbformat": 4,
 "nbformat_minor": 2
}
