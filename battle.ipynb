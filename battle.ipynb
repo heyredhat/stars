{
 "cells": [
  {
   "cell_type": "code",
   "execution_count": 1,
   "metadata": {},
   "outputs": [
    {
     "data": {
      "application/javascript": [
       "require.undef(\"nbextensions/vpython_libraries/glow.min\");"
      ],
      "text/plain": [
       "<IPython.core.display.Javascript object>"
      ]
     },
     "metadata": {},
     "output_type": "display_data"
    },
    {
     "data": {
      "application/javascript": [
       "require.undef(\"nbextensions/vpython_libraries/glowcomm\");"
      ],
      "text/plain": [
       "<IPython.core.display.Javascript object>"
      ]
     },
     "metadata": {},
     "output_type": "display_data"
    },
    {
     "data": {
      "application/javascript": [
       "require.undef(\"nbextensions/vpython_libraries/jquery-ui.custom.min\");"
      ],
      "text/plain": [
       "<IPython.core.display.Javascript object>"
      ]
     },
     "metadata": {},
     "output_type": "display_data"
    },
    {
     "data": {
      "application/javascript": [
       "require([\"nbextensions/vpython_libraries/glow.min\"], function(){console.log(\"GLOW LOADED\");})"
      ],
      "text/plain": [
       "<IPython.core.display.Javascript object>"
      ]
     },
     "metadata": {},
     "output_type": "display_data"
    },
    {
     "data": {
      "application/javascript": [
       "require([\"nbextensions/vpython_libraries/glowcomm\"], function(){console.log(\"GLOWCOMM LOADED\");})"
      ],
      "text/plain": [
       "<IPython.core.display.Javascript object>"
      ]
     },
     "metadata": {},
     "output_type": "display_data"
    },
    {
     "data": {
      "application/javascript": [
       "require([\"nbextensions/vpython_libraries/jquery-ui.custom.min\"], function(){console.log(\"JQUERY LOADED\");})"
      ],
      "text/plain": [
       "<IPython.core.display.Javascript object>"
      ]
     },
     "metadata": {},
     "output_type": "display_data"
    },
    {
     "data": {
      "text/html": [
       "<div id=\"glowscript\" class=\"glowscript\"></div>"
      ],
      "text/plain": [
       "<IPython.core.display.HTML object>"
      ]
     },
     "metadata": {},
     "output_type": "display_data"
    },
    {
     "data": {
      "application/javascript": [
       "window.__context = { glowscript_container: $(\"#glowscript\").removeAttr(\"id\")}"
      ],
      "text/plain": [
       "<IPython.core.display.Javascript object>"
      ]
     },
     "metadata": {},
     "output_type": "display_data"
    }
   ],
   "source": [
    "# QUANTUM ASTROLOGY -- MAJORANA STARS\n",
    "# (C) 2018 MATTHEW BENJAMIN WEISS"
   ]
  },
  {
   "cell_type": "code",
   "execution_count": null,
   "metadata": {
    "collapsed": true
   },
   "outputs": [],
   "source": [
    "import math\n",
    "import cmath\n",
    "import functools\n",
    "import numpy as np\n",
    "import sympy\n",
    "import mpmath\n",
    "import scipy\n",
    "import qutip \n",
    "import random\n",
    "import datetime\n",
    "import geocoder\n",
    "import ephem\n",
    "import ephem.stars\n",
    "import vpython\n",
    "\n",
    "STAR_NAMES = [star.split(\",\")[0] for star in ephem.stars.db.split(\"\\n\")][:-1]"
   ]
  },
  {
   "cell_type": "code",
   "execution_count": 2,
   "metadata": {
    "collapsed": true
   },
   "outputs": [],
   "source": [
    "def I():\n",
    "    return complex(0,1)\n",
    "\n",
    "def dag(matrix):\n",
    "    return np.conjugate(matrix.T)"
   ]
  },
  {
   "cell_type": "code",
   "execution_count": 3,
   "metadata": {
    "collapsed": true
   },
   "outputs": [],
   "source": [
    "def c_xyz(c):\n",
    "    if c == float('inf'):\n",
    "        return [0,0,1]\n",
    "    x = c.real\n",
    "    y = c.imag\n",
    "    return [(2*x)/(1.+(x**2)+(y**2)),\\\n",
    "            (2*y)/(1.+(x**2)+(y**2)),\\\n",
    "            (-1.+(x**2)+(y**2))/(1.+(x**2)+(y**2))]\n",
    "\n",
    "def xyz_c(xyz):\n",
    "    x, y, z = xyz[0], xyz[1], xyz[2]\n",
    "    if z == 1:\n",
    "        return float('inf') \n",
    "    else:\n",
    "        return complex(x/(1-z), y/(1-z))"
   ]
  },
  {
   "cell_type": "code",
   "execution_count": 4,
   "metadata": {
    "collapsed": true
   },
   "outputs": [],
   "source": [
    "def c_txyz(c):\n",
    "    if c == float('inf'):\n",
    "        return np.array([1,0,0,1])\n",
    "    c = np.conjugate(c)\n",
    "    u = c.real\n",
    "    v = c.imag\n",
    "    return np.array([u**2 + v**2 + 1, 2*u, -2*v, u**2 + v**2 - 1])\n",
    "\n",
    "def txyz_c(txyz):\n",
    "    return xyz_c(txyz_xyz(txyz))"
   ]
  },
  {
   "cell_type": "code",
   "execution_count": 5,
   "metadata": {
    "collapsed": true
   },
   "outputs": [],
   "source": [
    "def xyz_txyz(xyz):\n",
    "    return np.array([1]+xyz)\n",
    "\n",
    "def txyz_xyz(txyz):\n",
    "    return txyz_unitSphere(txyz)[1:].tolist()\n",
    "\n",
    "def txyz_unitSphere(txyz):\n",
    "    t, x, y, z = txyz[0], txyz[1], txyz[2], txyz[3]\n",
    "    return np.array([t/math.sqrt(x**2+y**2+z**2), x/t, y/t, z/t])"
   ]
  },
  {
   "cell_type": "code",
   "execution_count": 6,
   "metadata": {
    "collapsed": true
   },
   "outputs": [],
   "source": [
    "def xyz_hermitian(xyz):\n",
    "    return txyz_hermitian(xyz_txyz(xyz))    \n",
    "\n",
    "def txyz_hermitian(txyz):\n",
    "    t, x, y, z = txyz[0], txyz[1], txyz[2], txyz[3]\n",
    "    return np.array([[t+z, x-I()*y],[x+I()*y, t-z]])\n",
    "\n",
    "def hermitian_xyz(xyz):\n",
    "    return txyz_xyz(hermitian_txyz(xyz_txyz(xyz)))\n",
    "\n",
    "def hermitian_txyz(hermitian):\n",
    "    def scalarProduct(m, n):\n",
    "        return 0.5*np.trace(np.dot(np.conjugate(m).T, n))\n",
    "    t = scalarProduct(hermitian, np.eye(2)).real\n",
    "    x = scalarProduct(hermitian, qutip.sigmax().full()).real\n",
    "    y = scalarProduct(hermitian, qutip.sigmay().full()).real\n",
    "    z = scalarProduct(hermitian, qutip.sigmaz().full(), ).real\n",
    "    return np.array([t, x, y, z])\n",
    "\n",
    "def txyz_spacetimeInterval(txyz):\n",
    "    t, x, y, z = txyz[0], txyz[1], txyz[2], txyz[3]\n",
    "    return t**2 - x**2 - y**2 - z**2\n",
    "\n",
    "def hermitian_spacetimeInterval(hermitian):\n",
    "    return np.linalg.det(hermitian)"
   ]
  },
  {
   "cell_type": "code",
   "execution_count": 7,
   "metadata": {
    "collapsed": true
   },
   "outputs": [],
   "source": [
    "def c_hermitian(c):\n",
    "    if c == float('inf'):\n",
    "        return txyz_hermitian(np.array([1,0,0,1]))\n",
    "    u = c.real\n",
    "    v = c.imag\n",
    "    return np.array([[u**2 + v**2, u+I()*v],[u-I()*v, 1]])\n",
    "\n",
    "def hermitian_c(hermitian):\n",
    "    return txyz_c(hermitian_txyz(hermitian))"
   ]
  },
  {
   "cell_type": "code",
   "execution_count": 8,
   "metadata": {
    "collapsed": true
   },
   "outputs": [],
   "source": [
    "def c_altitudeAzimuth(c):\n",
    "    r, th = cmath.polar(c)\n",
    "    if r == 0:\n",
    "        return [math.pi, th]\n",
    "    return [(math.pi/2.) - 2*math.arctan(1/r), th]\n",
    "\n",
    "def altitudeAzimuth_c(altitude, azimuth):\n",
    "    zenith = (math.pi/2.) - altitude\n",
    "    if zenith == 0:\n",
    "        return float('inf')\n",
    "    return cmath.rect(math.sin(zenith)/(1-math.cos(zenith)), azimuth)"
   ]
  },
  {
   "cell_type": "code",
   "execution_count": 9,
   "metadata": {
    "collapsed": true
   },
   "outputs": [],
   "source": [
    "def hermitian_altitudeAzimuth(hermitian):\n",
    "    return c_altitudeAzimuth(hermitian_c(hermitian))\n",
    "\n",
    "def altitudeAzimuth_hermitian(altitude, azimuth):\n",
    "    return c_hermitian(altitudeAzimuth_c(altitude, azimuth))"
   ]
  },
  {
   "cell_type": "code",
   "execution_count": 10,
   "metadata": {
    "collapsed": true
   },
   "outputs": [],
   "source": [
    "def altitudeAzimuth_xyz(altitude, azimuth):\n",
    "    return c_xyz(altitudeAzimuth_c(altitude, azimuth))\n",
    "\n",
    "def xyz_altitudeAzimuth(xyz):\n",
    "    return c_altitudeAzimuth(xyz_c(xyz))"
   ]
  },
  {
   "cell_type": "code",
   "execution_count": 11,
   "metadata": {
    "collapsed": true
   },
   "outputs": [],
   "source": [
    "def latitudeLongitude_xyz(latitude, longitude):\n",
    "    x = math.cos(latitude)*math.cos(longitude)\n",
    "    y = math.cos(latitude)*math.sin(longitude)\n",
    "    z = math.sin(latitude)\n",
    "    return [x, y, z]\n",
    "\n",
    "def xyz_latitudeLongitude(xyz):\n",
    "    x, y, z = xyz[0], xyz[1], xyz[2]\n",
    "    r = 1\n",
    "    latitude = math.asin(z/r)(180/math.pi)\n",
    "    longitude = None\n",
    "    if x > 0:\n",
    "        longitude = math.atan(y/x)(180/math.pi)\n",
    "    elif y > 0:\n",
    "        longitude = math.atan(y/x)(180/math.pi) + 180\n",
    "    else:\n",
    "        longitude = math.atan(y/x)(180/math.pi) - 180\n",
    "    return (latitude, longitude)"
   ]
  },
  {
   "cell_type": "code",
   "execution_count": 12,
   "metadata": {
    "collapsed": true
   },
   "outputs": [],
   "source": [
    "def C_polynomial(roots):\n",
    "    s = sympy.symbols(\"s\")\n",
    "    polynomial = sympy.Poly(functools.reduce(lambda a, b: a*b, [s+root for root in roots]), domain=\"CC\")\n",
    "    return polynomial.coeffs()\n",
    "\n",
    "def polynomial_C(polynomial):\n",
    "    try:\n",
    "        roots = [complex(root) for root in mpmath.polyroots(polynomial)]\n",
    "    except:\n",
    "        return [complex(0,0) for i in range(len(polynomial)-1)]\n",
    "    return roots"
   ]
  },
  {
   "cell_type": "code",
   "execution_count": 13,
   "metadata": {
    "collapsed": true
   },
   "outputs": [],
   "source": [
    "def polynomial_v(polynomial):\n",
    "    coordinates = [polynomial[i]/(((-1)**i) * math.sqrt(combos(len(polynomial)-1,i))) for i in range(len(polynomial))]\n",
    "    return np.array(coordinates)\n",
    "\n",
    "def combos(a,b):\n",
    "        f = math.factorial\n",
    "        return f(a) / f(b) / f(a-b)\n",
    "\n",
    "def v_polynomial(v):\n",
    "    polynomial = v.tolist()\n",
    "    return [(((-1)**i) * math.sqrt(combos(len(polynomial)-1,i))) * polynomial[i] for i in range(len(polynomial))]"
   ]
  },
  {
   "cell_type": "code",
   "execution_count": 14,
   "metadata": {
    "collapsed": true
   },
   "outputs": [],
   "source": [
    "def C_v(roots):\n",
    "    return polynomial_v(C_polynomial(roots))\n",
    "\n",
    "def v_C(v):\n",
    "    return polynomial_C(v_polynomial(v))"
   ]
  },
  {
   "cell_type": "code",
   "execution_count": 15,
   "metadata": {
    "collapsed": true
   },
   "outputs": [],
   "source": [
    "def v_SurfaceXYZ(v):\n",
    "    return [c_xyz(c) for c in v_C(v)]\n",
    "\n",
    "def SurfaceXYZ_v(XYZ):\n",
    "    return C_v([xyz_c(xyz) for xyz in XYZ])"
   ]
  },
  {
   "cell_type": "code",
   "execution_count": 16,
   "metadata": {
    "collapsed": true
   },
   "outputs": [],
   "source": [
    "def v_ALTITUDEaZIMUTH(v):\n",
    "    return [c_altitudeAzimuth(c) for c in v_C(v)]\n",
    "\n",
    "def ALTITUDEaZIMUTH_v(ALTITUDEaZIMUTH):\n",
    "    return C_v([altitudeAzimuth_c(*altitudeAzimuth) for altitudeAzimuth in ALTITUDEaZIMUTH])"
   ]
  },
  {
   "cell_type": "code",
   "execution_count": 17,
   "metadata": {
    "collapsed": true
   },
   "outputs": [],
   "source": [
    "def v_SurfaceHERMITIAN(v):\n",
    "    return [c_hermitian(c) for c in v_C(v)]\n",
    "\n",
    "def SurfaceHERMITIAN_v(HERMITIAN):\n",
    "    return C_v([hermitian_c(hermitian) for hermitian in HERMITIAN])"
   ]
  },
  {
   "cell_type": "code",
   "execution_count": 18,
   "metadata": {
    "collapsed": true
   },
   "outputs": [],
   "source": [
    "def hermitianMobiusEvolution(hermitian, mobius):\n",
    "\treturn np.dot(mobius, np.dot(hermitian, mobius.dag()))\n",
    "\n",
    "def txyzLorentzEvolution(txyz, lorentz):\n",
    "\treturn np.dot(lorentz, txyz)"
   ]
  },
  {
   "cell_type": "code",
   "execution_count": 19,
   "metadata": {
    "collapsed": true
   },
   "outputs": [],
   "source": [
    "def v_hermitianMobiusEvolution_v(v, mobius):\n",
    "    return SurfaceHERMITIAN_v([hermitianMobiusEvolution(hermitian, mobius) for hermitian in v_SurfaceHERMITIAN(v)])"
   ]
  },
  {
   "cell_type": "code",
   "execution_count": 20,
   "metadata": {
    "collapsed": true
   },
   "outputs": [],
   "source": [
    "def oneParameter_mobius(kind, parameter, acts_on):\n",
    "    if kind == \"parabolic_a\":\n",
    "        a = parameter\n",
    "        if acts_on == \"hermitian\":\n",
    "            return np.array([[1, a],\\\n",
    "                               [0, 1]])\n",
    "        elif acts_on == \"txyz\":\n",
    "            return np.array([[1 + (a**2)/2., a, 0, -1*(a**2)/2.],\\\n",
    "                               [a, 1, 0, -1*a],\\\n",
    "                               [0, 0, 1, 0],\\\n",
    "                               [(a**2)/2., a, 0, 1-(a**2)/2.]])\n",
    "    elif kind == \"parabolic_b\":\n",
    "        a = parameter\n",
    "        if acts_on == \"hermitian\":\n",
    "            return np.array([[1, I()*a],\\\n",
    "                              [0, 1]])\n",
    "        elif acts_on == \"txyz\":\n",
    "            return np.array([[1 + (a**2)/2., 0, a, -1*(a**2)/2.],\\\n",
    "                               [0, 1, 0, 0],\\\n",
    "                               [a, 0, 1, -1*a],\\\n",
    "                               [(a**2)/2., 0, a, 1-(a**2)/2.]])\n",
    "    elif kind == \"hyperbolic_z\":\n",
    "        b = parameter\n",
    "        if acts_on == \"hermitian\":\n",
    "            return np.array([[np.exp(b/2.), 0],\\\n",
    "                              [0, np.exp(-1*b/2.)]])\n",
    "        elif acts_on == \"txyz\":\n",
    "            return np.array([[np.cosh(b), 0, 0, np.sinh(b)],\\\n",
    "                              [0, 1, 0, 0],\\\n",
    "                              [0, 0, 1, 0],\\\n",
    "                              [np.sinh(b), 0, a, np.cosh(b)]])\n",
    "    elif kind == \"elliptic_x\":\n",
    "        theta = parameter\n",
    "        if acts_on == \"hermitian\":\n",
    "            return np.array([[np.exp(I()*theta/2.), 0],\\\n",
    "                               [0, np.exp(-1*I()*theta/2.)]])\n",
    "        elif acts_on == \"txyz\":\n",
    "            return np.array([[1, 0, 0, 0],\\\n",
    "                               [0, np.cos(theta), -1*np.sin(theta), 0],\\\n",
    "                               [0, np.sin(theta), np.cos(theta), 0],\\\n",
    "                               [0, 0, 0, 1]])\n",
    "    elif kind == \"elliptic_y\":\n",
    "        theta = parameter\n",
    "        if acts_on == \"hermitian\":\n",
    "            return np.array([[np.cos(theta/2.), -1*np.sin(theta/2.)],\\\n",
    "                              [np.sin(theta/2.), np.cos(theta/2)]])\n",
    "        elif acts_on == \"txyz\":\n",
    "            return np.array([[1, 0, 0, 0],\\\n",
    "                              [0, np.cos(theta), 0, np.sin(theta)],\\\n",
    "                             [0, 0, 1, 0],\\\n",
    "                               [0, -1*np.sin(theta), 0, np.cos(theta)]])\n",
    "    elif kind == \"elliptic_z\":\n",
    "        theta = parameter\n",
    "        if dim == 2:\n",
    "            return np.array([[np.cos(theta/2.), I()*np.sin(theta/2.)],\\\n",
    "                               [I()*np.sin(theta/2.), np.cos(theta/2)]])\n",
    "        elif acts_on == \"txyz\":\n",
    "            return np.array([[1, 0, 0, 0],\\\n",
    "                               [0, 1, 0, 0],\\\n",
    "                               [0, 0, np.cos(theta), -1*np.sin(theta)],\\\n",
    "                               [0, 0, np.sin(theta), np.cos(theta)]])"
   ]
  },
  {
   "cell_type": "code",
   "execution_count": 21,
   "metadata": {
    "collapsed": true
   },
   "outputs": [],
   "source": [
    "def v_InteriorHERMITIAN(v):\n",
    "    q = qutip.Qobj(v)\n",
    "    q.dims = [[2,2,2],[1,1,1]]\n",
    "    traces = [q.ptrace(i).full() for i in range(3)]\n",
    "    return traces\n",
    "\n",
    "def upgradeOperator(operator, i):\n",
    "    operator = qutip.Qobj(operator)\n",
    "    total_operator = None\n",
    "    if i == 0:\n",
    "        total_operator = qutip.tensor(operator, qutip.identity(2), qutip.identity(2))\n",
    "    elif i == 1:\n",
    "        total_operator = qutip.tensor(qutip.identity(2), operator, qutip.identity(2))\n",
    "    elif i == 2:\n",
    "        total_operator = qutip.tensor(qutip.identity(2), qutip.identity(2), operator)\n",
    "    return total_operator.full()"
   ]
  },
  {
   "cell_type": "code",
   "execution_count": 22,
   "metadata": {
    "collapsed": true
   },
   "outputs": [],
   "source": [
    "def hermitian_unitary(hermitian, dt):\n",
    "    return scipy.linalg.expm(-2*math.pi*I()*hermitian*dt)\n",
    "\n",
    "def evolvev(v, energy, delta, sign):\n",
    "    state = qutip.Qobj(v)\n",
    "    unitary = qutip.Qobj(hermitian_unitary(energy, delta))\n",
    "    if sign == -1:\n",
    "        unitary = unitary.dag()\n",
    "    u = unitary*state\n",
    "    return u.full()[0]"
   ]
  },
  {
   "cell_type": "code",
   "execution_count": 23,
   "metadata": {
    "collapsed": true
   },
   "outputs": [],
   "source": [
    "def random_v(n):\n",
    "    return qutip.rand_ket(n).full().T[0]\n",
    "\n",
    "def random_hermitian(n):\n",
    "    return qutip.rand_herm(n).full()\n",
    "\n",
    "def random_SurfaceHERMITIAN(n):\n",
    "    return [c_hermitian(altitudeAzimuth_c(random.uniform(0, math.pi), random.uniform(0, 2*math.pi))) for i in range(n)]"
   ]
  },
  {
   "cell_type": "code",
   "execution_count": 24,
   "metadata": {
    "collapsed": true
   },
   "outputs": [],
   "source": [
    "class Sphere:\n",
    "    def __init__(self):\n",
    "        self.state = random_v(8)\n",
    "        self.energy = random_hermitian(8)\n",
    "        self.fixed_stars = random_SurfaceHERMITIAN(len(STAR_NAMES))\n",
    "        \n",
    "        self.time = None\n",
    "        self.latitude = 0\n",
    "        self.longitude = 0\n",
    "        self.address = \"476 Jefferson St, Brooklyn\"\n",
    "        \n",
    "        self.delta = 0.005\n",
    "        self.time_delta = datetime.timedelta(minutes=1)\n",
    "        \n",
    "        self.astronomy_on = False\n",
    "        self.astronomical_evolution_on = False\n",
    "        \n",
    "        self.hamiltonian_on = False\n",
    "        self.hamiltonian_sign = 1\n",
    "        \n",
    "        self.pole = (0, \"interior\")\n",
    "        self.touched = True\n",
    "        self.virgin = True\n",
    "        \n",
    "        self.vinit()\n",
    "        \n",
    "    def vinit(self):\n",
    "        vpython.scene.width = 1000\n",
    "        vpython.scene.height = 1000\n",
    "        vpython.scene.range = 1.5\n",
    "        vpython.scene.forward = vpython.vector(0, -1, 0)\n",
    "        vpython.scene.up = vpython.vector(-1, 0, 0)\n",
    "        \n",
    "        self.vsphere = vpython.sphere(pos=vpython.vector(0,0,0), radius=1, color=vpython.color.blue, opacity=0.5)\n",
    "        self.vearth = vpython.sphere(pos=vpython.vector(0,0,0), radius=0.1, color=vpython.color.cyan, opacity=0.5, emissive=True)\n",
    "        self.vobserver = vpython.sphere(pos=vpython.vector(0,0,0), radius=0.01, color=vpython.color.yellow, opacity=0.5, emissive=True, make_trail=True)\n",
    "\n",
    "        self.vstamp = vpython.label(pos=vpython.vector(0,0,0), text=\"\", height=10, opacity=0.6, visible=False)\n",
    "        self.vfixed_stars = [vpython.sphere(radius=0.01, emissive=True, color=vpython.color.white, make_trail=True) for i in range(len(STAR_NAMES))]\n",
    "\n",
    "        self.vplanets = [vpython.sphere(radius=0.1, emissive=True, make_trail=False) for i in range(7)]\n",
    "        self.vplanets[0].color = vpython.color.yellow\n",
    "        self.vplanets[1].color = vpython.color.white\n",
    "        self.vplanets[2].color = vpython.color.blue\n",
    "        self.vplanets[3].color = vpython.color.green\n",
    "        self.vplanets[4].color = vpython.color.red\n",
    "        self.vplanets[5].color = vpython.color.orange\n",
    "        self.vplanets[6].color = vpython.color.gray(0.5)\n",
    "        \n",
    "        self.vqubits = [vpython.sphere(radius=0.1, emissive=True, make_trail=False) for i in range(3)]\n",
    "        self.veigs = [vpython.sphere(color=vpython.color.black, radius=0.05, emissive=True, make_trail=False) for i in range(6)]\n",
    "        self.vlines = [vpython.curve(pos=[vpython.vector(0,0,0), vpython.vector(0,0,0)]) for i in range(3)]\n",
    "        self.vlines[0].color = vpython.color.red\n",
    "        self.vlines[1].color = vpython.color.green\n",
    "        self.vlines[2].color = vpython.color.blue\n",
    "    \n",
    "    def astronomical_update(self):\n",
    "        observer = ephem.Observer()\n",
    "        observer.date = self.time\n",
    "        observer.lat = self.latitude\n",
    "        observer.lon = self.longitude\n",
    "        ephem_planets = [ephem.Sun(observer), ephem.Moon(observer), ephem.Mercury(observer),\\\n",
    "                         ephem.Venus(observer), ephem.Mars(observer), ephem.Jupiter(observer),\\\n",
    "                         ephem.Saturn(observer)]\n",
    "    \n",
    "        ephem_stars = [ephem.star(star_name, observer) for star_name in STAR_NAMES]\n",
    "        self.fixed_stars = [altitudeAzimuth_hermitian(fixed_star.alt, fixed_star.az) for fixed_star in ephem_stars]\n",
    "        self.state = ALTITUDEaZIMUTH_v([(planet.alt, planet.az) for planet in ephem_planets])\n",
    "        self.touched = True\n",
    "        \n",
    "    def revolve(self):\n",
    "        if self.astronomy_on:\n",
    "            if self.astronomical_evolution_on:\n",
    "                self.astronomical_update()\n",
    "                self.time += self.time_delta\n",
    "        if self.hamiltonian_on:\n",
    "            self.state = evolvev(self.state, self.energy, self.delta, self.hamiltonian_sign)\n",
    "            self.touched = True\n",
    "        if self.touched:\n",
    "            planets_XYZ = v_SurfaceXYZ(self.state)\n",
    "            if not self.virgin:\n",
    "                planets_XYZ = self.fix(planets_XYZ) \n",
    "            if self.virgin:\n",
    "                self.virgin = False\n",
    "            distinguishable_qubits = v_InteriorHERMITIAN(self.state)\n",
    "            qubits_TXYZ = [hermitian_txyz(qubit) for qubit in distinguishable_qubits]\n",
    "            eigs_XYZ = []\n",
    "            for q in distinguishable_qubits:\n",
    "                eigenvalues, eigenvectors = np.linalg.eig(q)\n",
    "                for v in eigenvectors:\n",
    "                    eigs_XYZ.append(v_SurfaceXYZ(v)[0])\n",
    "            fixed_XYZ = [hermitian_xyz(fixed_star) for fixed_star in self.fixed_stars]\n",
    "            self.draw(planets_XYZ, qubits_TXYZ, eigs_XYZ, fixed_XYZ)\n",
    "            touched = False\n",
    "            \n",
    "    def draw(self, planets_XYZ, qubits_TXYZ, eigs_XYZ, fixed_XYZ):\n",
    "        vpython.rate(300)\n",
    "        if self.astronomy_on:\n",
    "            self.vstamp.text = self.time.strftime(\"%c\")+\"\\nlat: %.2f lng: %.2f\" % (self.latitude, self.longitude)\n",
    "        self.vobserver.pos = vpython.vector(*[0.1*coord for coord in latitudeLongitude_xyz(self.latitude, self.longitude)])\n",
    "        for i in range(len(self.vplanets)):\n",
    "            self.vplanets[i].pos = vpython.vector(*planets_XYZ[i])\n",
    "        for i in range(len(self.vqubits)):\n",
    "            self.vqubits[i].color = vpython.color.hsv_to_rgb(vpython.vector(float(qubits_TXYZ[i][0]),1,1))\n",
    "            self.vqubits[i].pos = vpython.vector(*qubits_TXYZ[i][1:])\n",
    "        for i in range(len(self.veigs)):\n",
    "            self.veigs[i].pos = vpython.vector(*eigs_XYZ[i])\n",
    "        for i in range(len(self.vlines)):\n",
    "            self.vlines[i].modify(0, pos=vpython.vector(*eigs_XYZ[2*i]))\n",
    "            self.vlines[i].modify(1, pos=vpython.vector(*eigs_XYZ[2*i+1]))\n",
    "        for i in range(len(self.vfixed_stars)):\n",
    "            self.vfixed_stars[i].pos = vpython.vector(*fixed_XYZ[i])\n",
    "      \n",
    "    def fix(self, planets_XYZ):\n",
    "        ordering = []\n",
    "        for i in range(7):\n",
    "            vplanet = self.vplanets[i]\n",
    "            x, y, z = vplanet.pos.x, vplanet.pos.y, vplanet.pos.z\n",
    "            current_xyz = np.array([x, y, z])\n",
    "            lowest_distance = None\n",
    "            winners = []\n",
    "            for j in range(7):\n",
    "                new_xyz = np.array(planets_XYZ[j])\n",
    "                distance = np.linalg.norm(current_xyz-new_xyz)\n",
    "                if lowest_distance == None or distance < lowest_distance:\n",
    "                    lowest_distance = distance\n",
    "                    winners.append(j)\n",
    "            for m in range(len(winners)-1, -1, -1):\n",
    "                if winners[m] not in ordering:\n",
    "                    ordering.append(winners[m])\n",
    "                    break\n",
    "                if m == 0:\n",
    "                    for r in range(i, 7):\n",
    "                        if r not in ordering:\n",
    "                            ordering.append(i)\n",
    "                            break\n",
    "                        if r == 6:\n",
    "                            for p in range(i, -1, -1):\n",
    "                                if p not in ordering:\n",
    "                                    ordering.append(p)\n",
    "                                    break\n",
    "        return [planets_XYZ[i] for i in ordering]\n",
    "    \n",
    "    #######\n",
    "    \n",
    "    def set_pole(self, i, kind):\n",
    "        self.pole = i, kind\n",
    "        \n",
    "    def collapse(self, q, sign):\n",
    "        total_measurement = upgradeOperator(v_InteriorHERMITIAN(self.state)[q], q)        \n",
    "        eigenvalues, eigenvectors = total_measurement.eigenstates()\n",
    "        projection = None\n",
    "        if sign == -1:\n",
    "            projection = sum([np.inner(self.state, np.conjugate(eigenvectors[i]))*eigenvectors[i] for i in range(4)])\n",
    "        elif sign == 1:\n",
    "            projection = sum([np.inner(self.state, np.conjugate(eigenvectors[i]))*eigenvectors[i] for i in range(4, 8)])\n",
    "        self.state = projection\n",
    "        self.touched = True\n",
    "        self.refresh()\n",
    "    \n",
    "    #######\n",
    "    \n",
    "    def sphere_step(self, kind, sign):\n",
    "        if kind == \"latitude\":\n",
    "            self.latitude += sign*self.delta\n",
    "            self.refresh()\n",
    "        elif kind == \"longitude\":\n",
    "            self.longitude += sign*self.delta\n",
    "            self.refresh()\n",
    "        elif kind == \"step\":\n",
    "            self.delta += sign*0.001\n",
    "            self.time_delta = datetime.timedelta(seconds=(self.time_delta.seconds+sign*60))\n",
    "        self.touched = True\n",
    "        \n",
    "    def mobius_step(self, kind):\n",
    "        mobius = oneParameter_mobius(kind, 0.01, \"hermitian\")\n",
    "        self.state = v_hermitianMobiusEvolution_v(self.state, mobius)\n",
    "        for i in range(len(STAR_NAMES)):\n",
    "            self.fixed_states[i] = hermitianMobiusEvolution(self.fixed_states[i], mobius)\n",
    "        self.touched = True\n",
    "        \n",
    "    def qubit_step(self, q, sign):\n",
    "        pole, kind = self.pole\n",
    "        operator = None\n",
    "        if kind == \"surface\":\n",
    "            operator = v_SurfaceHERMITIAN(self.state)[pole]\n",
    "        elif kind == \"interior\":\n",
    "            operator = v_InteriorHERMITIAN(self.state)[pole]\n",
    "        operator = hermitian_unitary(operator, self.delta)\n",
    "        if sign == -1:\n",
    "            operator = dag(operator)\n",
    "        full_operator = upgradeOperator(operator, q)\n",
    "        self.state = np.dot(full_operator, self.state)\n",
    "        self.refresh()\n",
    "        self.touched = True\n",
    "\n",
    "    #######\n",
    "    \n",
    "    def toggle_hamiltonian(self):\n",
    "        if self.hamiltonian_on:\n",
    "            self.hamiltonian_on = False\n",
    "        else:\n",
    "            self.hamiltonian_on = True\n",
    "\n",
    "    def toggle_hamiltonian_sign(self):\n",
    "        if self.hamiltonian_sign == 1:\n",
    "            self.hamiltonian_sign = -1\n",
    "        elif self.hamiltonian_sign == -1:\n",
    "            self.hamiltonian_sign = 1\n",
    "    \n",
    "    #######\n",
    "    \n",
    "    def random_state(self):\n",
    "        self.state = random_v(8)\n",
    "        self.fixed_stars = random_SurfaceHERMITIAN(len(STAR_NAMES))\n",
    "        self.touched = True\n",
    "        self.virgin = True\n",
    "        self.revolve()\n",
    "        self.refresh()\n",
    "        \n",
    "    def random_hamiltonian(self):\n",
    "        self.hamiltonian = random_hermitian(8)\n",
    "    \n",
    "    #######\n",
    "    \n",
    "    def reorient(self):\n",
    "        vpython.scene.forward = vpython.vector(0, -1, 0)\n",
    "        vpython.scene.up = vpython.vector(-1, 0, 0)\n",
    "        self.touched = True\n",
    "        \n",
    "    def refresh(self):\n",
    "        self.vobserver.clear_trail()\n",
    "        for vplanet in self.vplanets:\n",
    "            vplanet.clear_trail()\n",
    "        for vqubit in self.vqubits:\n",
    "            vqubit.clear_trail()\n",
    "        for vfixed_star in self.vfixed_stars:\n",
    "            vfixed_star.clear_trail()\n",
    "    \n",
    "    #######\n",
    "    \n",
    "    def load_astronomy(self):\n",
    "        try:\n",
    "            self.latitude, self.longitude = geocoder.google(self.address).latlng\n",
    "        except:\n",
    "            self.latitude, self.longitude = 0, 0\n",
    "        self.time = datetime.datetime.now()\n",
    "        self.vfixed_stars[STAR_NAMES.index(\"Sirius\")].color = vpython.color.red\n",
    "        self.vfixed_stars[STAR_NAMES.index(\"Betelgeuse\")].color = vpython.color.yellow\n",
    "        self.vfixed_stars[STAR_NAMES.index(\"Rigel\")].color = vpython.color.yellow\n",
    "        self.vfixed_stars[STAR_NAMES.index(\"Bellatrix\")].color = vpython.color.yellow\n",
    "        self.vfixed_stars[STAR_NAMES.index(\"Mintaka\")].color = vpython.color.yellow\n",
    "        self.vfixed_stars[STAR_NAMES.index(\"Alnilam\")].color = vpython.color.yellow\n",
    "        self.vfixed_stars[STAR_NAMES.index(\"Alnitak\")].color = vpython.color.yellow\n",
    "        self.vfixed_stars[STAR_NAMES.index(\"Saiph\")].color = vpython.color.yellow\n",
    "        self.vfixed_stars[STAR_NAMES.index(\"Polaris\")].color = vpython.color.blue\n",
    "        \n",
    "    def unload_astronomy(self):\n",
    "        self.fixed_stars = random_SurfaceHERMITIAN(len(STAR_NAMES))\n",
    "        for vfixed_star in self.vfixed_stars:\n",
    "            vfixed_star.color = vpython.color.white\n",
    "    \n",
    "    #######\n",
    "    \n",
    "    def toggle_astronomy(self):\n",
    "        if self.astronomy_on:\n",
    "            self.astronomy_on = False\n",
    "            self.astronomical_evolution_on = False\n",
    "            self.unload_astronomy()\n",
    "            self.vstamp.visible = False\n",
    "        else:\n",
    "            self.astronomy_on = True\n",
    "            self.load_astronomy()\n",
    "            self.astronomical_evolution_on = True\n",
    "            self.vstamp.visible = True\n",
    "        self.virgin = True\n",
    "        self.revolve()    \n",
    "        self.refresh()\n",
    "        \n",
    "    def toggle_astronomical_time(self):\n",
    "        if self.astronomical_evolution_on:\n",
    "            self.astronomical_evolution_on = False\n",
    "        else:\n",
    "            self.astronomical_evolution_on = True"
   ]
  },
  {
   "cell_type": "code",
   "execution_count": 25,
   "metadata": {},
   "outputs": [],
   "source": [
    "sphere = Sphere()"
   ]
  },
  {
   "cell_type": "code",
   "execution_count": 26,
   "metadata": {
    "collapsed": true
   },
   "outputs": [],
   "source": [
    "def mouse(event):\n",
    "    global sphere\n",
    "    star = vpython.scene.mouse.pick\n",
    "    if star in sphere.vplanets:\n",
    "        sphere.set_pole(sphere.vplanets.index(star), \"surface\")\n",
    "    elif star in sphere.vqubits:\n",
    "        sphere.set_pole(sphere.vqubits.index(star), \"interior\")\n",
    "    elif star in sphere.veigs:\n",
    "        i = sphere.veigs.index(star)\n",
    "        if i == 0:\n",
    "            sphere.collapse(0, -1)\n",
    "        elif i == 1:\n",
    "            sphere.collapse(0, 1)\n",
    "        elif i == 2:\n",
    "            sphere.collapse(1, -1)\n",
    "        elif i == 3:\n",
    "            sphere.collapse(1, 1)\n",
    "        elif i == 4:\n",
    "            sphere.collapse(2, -1)\n",
    "        elif i == 5:\n",
    "            sphere.collapse(2, 1)\n",
    "            \n",
    "vpython.scene.bind('click', mouse)"
   ]
  },
  {
   "cell_type": "code",
   "execution_count": 27,
   "metadata": {
    "collapsed": true
   },
   "outputs": [],
   "source": [
    "def keyboard(event):\n",
    "    global sphere\n",
    "    key = event.key\n",
    "    if key == \"a\":\n",
    "        sphere.sphere_step(\"latitude\", -1)\n",
    "    elif key == \"d\":\n",
    "        sphere.sphere_step(\"latitude\", 1)\n",
    "    elif key == \"w\":\n",
    "        sphere.sphere_step(\"longitude\", 1)\n",
    "    elif key == \"s\":\n",
    "        sphere.sphere_step(\"longitude\", -1)\n",
    "    elif key == \"z\":\n",
    "        sphere.sphere_step(\"step\", -1)\n",
    "    elif key == \"x\":\n",
    "        sphere.sphere_step(\"step\", 1)\n",
    "    elif key == \"f\":\n",
    "        sphere.mobius_step(\"parabolic_a\")\n",
    "    elif key == \"h\":\n",
    "        sphere.mobius_step(\"parabolic_b\")\n",
    "    elif key == \"t\":\n",
    "        sphere.mobius_step(\"elliptic_x\")\n",
    "    elif key == \"g\":\n",
    "        sphere.mobius_step(\"elliptic_y\")\n",
    "    elif key == \"v\":\n",
    "        sphere.mobius_step(\"hyperbolic_z\")\n",
    "    elif key == \"b\":\n",
    "        sphere.mobius_step(\"elliptic_z\")\n",
    "    elif key == \"j\":\n",
    "        sphere.qubit_step(0, -1)\n",
    "    elif key == \"l\":\n",
    "        sphere.qubit_step(0, 1)\n",
    "    elif key == \"i\":\n",
    "        sphere.qubit_step(1, 1)\n",
    "    elif key == \"k\":\n",
    "        sphere.qubit_step(1, -1)\n",
    "    elif key == \"n\":\n",
    "        sphere.qubit_step(2, -1)\n",
    "    elif key == \"m\":\n",
    "        sphere.qubit_step(2, 1)\n",
    "    elif key == \"e\":\n",
    "        sphere.toggle_hamiltonian()\n",
    "    elif key == \"r\":\n",
    "        sphere.toggle_hamiltonian_sign()\n",
    "    elif key == \"y\":\n",
    "        sphere.random_state()\n",
    "    elif key == \"u\":\n",
    "        sphere.random_hamiltonian()\n",
    "    elif key == \"o\":\n",
    "        sphere.reorient()\n",
    "    elif key == \"p\":\n",
    "        sphere.refresh()\n",
    "    elif key == \"q\":\n",
    "        sphere.toggle_astronomy()\n",
    "    elif key == \"c\":\n",
    "        sphere.toggle_astronomical_time()\n",
    "\n",
    "vpython.scene.bind('keydown', keyboard)"
   ]
  },
  {
   "cell_type": "code",
   "execution_count": 28,
   "metadata": {},
   "outputs": [
    {
     "ename": "IndexError",
     "evalue": "list index out of range",
     "output_type": "error",
     "traceback": [
      "\u001b[0;31m---------------------------------------------------------------------------\u001b[0m",
      "\u001b[0;31mIndexError\u001b[0m                                Traceback (most recent call last)",
      "\u001b[0;32m<ipython-input-28-58fdc3ef6fe8>\u001b[0m in \u001b[0;36m<module>\u001b[0;34m()\u001b[0m\n\u001b[1;32m      1\u001b[0m \u001b[0;32mwhile\u001b[0m \u001b[0;32mTrue\u001b[0m\u001b[0;34m:\u001b[0m\u001b[0;34m\u001b[0m\u001b[0m\n\u001b[0;32m----> 2\u001b[0;31m     \u001b[0msphere\u001b[0m\u001b[0;34m.\u001b[0m\u001b[0mrevolve\u001b[0m\u001b[0;34m(\u001b[0m\u001b[0;34m)\u001b[0m\u001b[0;34m\u001b[0m\u001b[0m\n\u001b[0m",
      "\u001b[0;32m<ipython-input-24-369cd8add557>\u001b[0m in \u001b[0;36mrevolve\u001b[0;34m(self)\u001b[0m\n\u001b[1;32m     78\u001b[0m             \u001b[0mplanets_XYZ\u001b[0m \u001b[0;34m=\u001b[0m \u001b[0mv_SurfaceXYZ\u001b[0m\u001b[0;34m(\u001b[0m\u001b[0mself\u001b[0m\u001b[0;34m.\u001b[0m\u001b[0mstate\u001b[0m\u001b[0;34m)\u001b[0m\u001b[0;34m\u001b[0m\u001b[0m\n\u001b[1;32m     79\u001b[0m             \u001b[0;32mif\u001b[0m \u001b[0;32mnot\u001b[0m \u001b[0mself\u001b[0m\u001b[0;34m.\u001b[0m\u001b[0mvirgin\u001b[0m\u001b[0;34m:\u001b[0m\u001b[0;34m\u001b[0m\u001b[0m\n\u001b[0;32m---> 80\u001b[0;31m                 \u001b[0mplanets_XYZ\u001b[0m \u001b[0;34m=\u001b[0m \u001b[0mself\u001b[0m\u001b[0;34m.\u001b[0m\u001b[0mfix\u001b[0m\u001b[0;34m(\u001b[0m\u001b[0mplanets_XYZ\u001b[0m\u001b[0;34m)\u001b[0m\u001b[0;34m\u001b[0m\u001b[0m\n\u001b[0m\u001b[1;32m     81\u001b[0m             \u001b[0;32mif\u001b[0m \u001b[0mself\u001b[0m\u001b[0;34m.\u001b[0m\u001b[0mvirgin\u001b[0m\u001b[0;34m:\u001b[0m\u001b[0;34m\u001b[0m\u001b[0m\n\u001b[1;32m     82\u001b[0m                 \u001b[0mself\u001b[0m\u001b[0;34m.\u001b[0m\u001b[0mvirgin\u001b[0m \u001b[0;34m=\u001b[0m \u001b[0;32mFalse\u001b[0m\u001b[0;34m\u001b[0m\u001b[0m\n",
      "\u001b[0;32m<ipython-input-24-369cd8add557>\u001b[0m in \u001b[0;36mfix\u001b[0;34m(self, planets_XYZ)\u001b[0m\n\u001b[1;32m    119\u001b[0m             \u001b[0mwinners\u001b[0m \u001b[0;34m=\u001b[0m \u001b[0;34m[\u001b[0m\u001b[0;34m]\u001b[0m\u001b[0;34m\u001b[0m\u001b[0m\n\u001b[1;32m    120\u001b[0m             \u001b[0;32mfor\u001b[0m \u001b[0mj\u001b[0m \u001b[0;32min\u001b[0m \u001b[0mrange\u001b[0m\u001b[0;34m(\u001b[0m\u001b[0;36m7\u001b[0m\u001b[0;34m)\u001b[0m\u001b[0;34m:\u001b[0m\u001b[0;34m\u001b[0m\u001b[0m\n\u001b[0;32m--> 121\u001b[0;31m                 \u001b[0mnew_xyz\u001b[0m \u001b[0;34m=\u001b[0m \u001b[0mnp\u001b[0m\u001b[0;34m.\u001b[0m\u001b[0marray\u001b[0m\u001b[0;34m(\u001b[0m\u001b[0mplanets_XYZ\u001b[0m\u001b[0;34m[\u001b[0m\u001b[0mj\u001b[0m\u001b[0;34m]\u001b[0m\u001b[0;34m)\u001b[0m\u001b[0;34m\u001b[0m\u001b[0m\n\u001b[0m\u001b[1;32m    122\u001b[0m                 \u001b[0mdistance\u001b[0m \u001b[0;34m=\u001b[0m \u001b[0mnp\u001b[0m\u001b[0;34m.\u001b[0m\u001b[0mlinalg\u001b[0m\u001b[0;34m.\u001b[0m\u001b[0mnorm\u001b[0m\u001b[0;34m(\u001b[0m\u001b[0mcurrent_xyz\u001b[0m\u001b[0;34m-\u001b[0m\u001b[0mnew_xyz\u001b[0m\u001b[0;34m)\u001b[0m\u001b[0;34m\u001b[0m\u001b[0m\n\u001b[1;32m    123\u001b[0m                 \u001b[0;32mif\u001b[0m \u001b[0mlowest_distance\u001b[0m \u001b[0;34m==\u001b[0m \u001b[0;32mNone\u001b[0m \u001b[0;32mor\u001b[0m \u001b[0mdistance\u001b[0m \u001b[0;34m<\u001b[0m \u001b[0mlowest_distance\u001b[0m\u001b[0;34m:\u001b[0m\u001b[0;34m\u001b[0m\u001b[0m\n",
      "\u001b[0;31mIndexError\u001b[0m: list index out of range"
     ]
    }
   ],
   "source": [
    "while True:\n",
    "    sphere.revolve()"
   ]
  }
 ],
 "metadata": {
  "kernelspec": {
   "display_name": "Python 3",
   "language": "python",
   "name": "python3"
  },
  "language_info": {
   "codemirror_mode": {
    "name": "ipython",
    "version": 3
   },
   "file_extension": ".py",
   "mimetype": "text/x-python",
   "name": "python",
   "nbconvert_exporter": "python",
   "pygments_lexer": "ipython3",
   "version": "3.6.3"
  }
 },
 "nbformat": 4,
 "nbformat_minor": 2
}
