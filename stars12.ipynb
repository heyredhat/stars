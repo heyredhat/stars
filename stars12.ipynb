{
 "cells": [
  {
   "cell_type": "code",
   "execution_count": 1,
   "metadata": {
    "scrolled": true
   },
   "outputs": [
    {
     "data": {
      "application/javascript": [
       "require.undef(\"nbextensions/vpython_libraries/glow.min\");"
      ],
      "text/plain": [
       "<IPython.core.display.Javascript object>"
      ]
     },
     "metadata": {},
     "output_type": "display_data"
    },
    {
     "data": {
      "application/javascript": [
       "require.undef(\"nbextensions/vpython_libraries/glowcomm\");"
      ],
      "text/plain": [
       "<IPython.core.display.Javascript object>"
      ]
     },
     "metadata": {},
     "output_type": "display_data"
    },
    {
     "data": {
      "application/javascript": [
       "require.undef(\"nbextensions/vpython_libraries/jquery-ui.custom.min\");"
      ],
      "text/plain": [
       "<IPython.core.display.Javascript object>"
      ]
     },
     "metadata": {},
     "output_type": "display_data"
    },
    {
     "data": {
      "application/javascript": [
       "require([\"nbextensions/vpython_libraries/glow.min\"], function(){console.log(\"GLOW LOADED\");})"
      ],
      "text/plain": [
       "<IPython.core.display.Javascript object>"
      ]
     },
     "metadata": {},
     "output_type": "display_data"
    },
    {
     "data": {
      "application/javascript": [
       "require([\"nbextensions/vpython_libraries/glowcomm\"], function(){console.log(\"GLOWCOMM LOADED\");})"
      ],
      "text/plain": [
       "<IPython.core.display.Javascript object>"
      ]
     },
     "metadata": {},
     "output_type": "display_data"
    },
    {
     "data": {
      "application/javascript": [
       "require([\"nbextensions/vpython_libraries/jquery-ui.custom.min\"], function(){console.log(\"JQUERY LOADED\");})"
      ],
      "text/plain": [
       "<IPython.core.display.Javascript object>"
      ]
     },
     "metadata": {},
     "output_type": "display_data"
    },
    {
     "data": {
      "text/html": [
       "<div id=\"glowscript\" class=\"glowscript\"></div>"
      ],
      "text/plain": [
       "<IPython.core.display.HTML object>"
      ]
     },
     "metadata": {},
     "output_type": "display_data"
    },
    {
     "data": {
      "application/javascript": [
       "window.__context = { glowscript_container: $(\"#glowscript\").removeAttr(\"id\")}"
      ],
      "text/plain": [
       "<IPython.core.display.Javascript object>"
      ]
     },
     "metadata": {},
     "output_type": "display_data"
    },
    {
     "ename": "ValueError",
     "evalue": "Buffer has wrong number of dimensions (expected 1, got 0)",
     "output_type": "error",
     "traceback": [
      "\u001b[0;31m---------------------------------------------------------------------------\u001b[0m",
      "\u001b[0;31mValueError\u001b[0m                                Traceback (most recent call last)",
      "\u001b[0;32m<ipython-input-1-d6e94685dafa>\u001b[0m in \u001b[0;36m<module>\u001b[0;34m()\u001b[0m\n\u001b[1;32m    165\u001b[0m \u001b[0;32mwhile\u001b[0m \u001b[0mTrue\u001b[0m\u001b[0;34m:\u001b[0m\u001b[0;34m\u001b[0m\u001b[0m\n\u001b[1;32m    166\u001b[0m     \u001b[0mdraw_stars\u001b[0m\u001b[0;34m(\u001b[0m\u001b[0;34m)\u001b[0m\u001b[0;34m\u001b[0m\u001b[0m\n\u001b[0;32m--> 167\u001b[0;31m     \u001b[0msphere\u001b[0m\u001b[0;34m.\u001b[0m\u001b[0mevolve\u001b[0m\u001b[0;34m(\u001b[0m\u001b[0;34m)\u001b[0m\u001b[0;34m\u001b[0m\u001b[0m\n\u001b[0m",
      "\u001b[0;32m<ipython-input-1-d6e94685dafa>\u001b[0m in \u001b[0;36mevolve\u001b[0;34m(self)\u001b[0m\n\u001b[1;32m    125\u001b[0m         \u001b[0mself\u001b[0m\u001b[0;34m.\u001b[0m\u001b[0mhamiltonian_transform\u001b[0m\u001b[0;34m(\u001b[0m\u001b[0;34m)\u001b[0m\u001b[0;34m\u001b[0m\u001b[0m\n\u001b[1;32m    126\u001b[0m         \u001b[0mself\u001b[0m\u001b[0;34m.\u001b[0m\u001b[0mmobius_transform\u001b[0m\u001b[0;34m(\u001b[0m\u001b[0;34m)\u001b[0m\u001b[0;34m\u001b[0m\u001b[0m\n\u001b[0;32m--> 127\u001b[0;31m         \u001b[0mself\u001b[0m\u001b[0;34m.\u001b[0m\u001b[0mshatter\u001b[0m\u001b[0;34m(\u001b[0m\u001b[0;34m)\u001b[0m\u001b[0;34m\u001b[0m\u001b[0m\n\u001b[0m\u001b[1;32m    128\u001b[0m         \u001b[0mself\u001b[0m\u001b[0;34m.\u001b[0m\u001b[0mt\u001b[0m \u001b[0;34m+=\u001b[0m \u001b[0mself\u001b[0m\u001b[0;34m.\u001b[0m\u001b[0mdt\u001b[0m\u001b[0;34m\u001b[0m\u001b[0m\n\u001b[1;32m    129\u001b[0m \u001b[0;34m\u001b[0m\u001b[0m\n",
      "\u001b[0;32m<ipython-input-1-d6e94685dafa>\u001b[0m in \u001b[0;36mshatter\u001b[0;34m(self)\u001b[0m\n\u001b[1;32m     85\u001b[0m         \u001b[0mself\u001b[0m\u001b[0;34m.\u001b[0m\u001b[0menergy\u001b[0m\u001b[0;34m.\u001b[0m\u001b[0mdims\u001b[0m \u001b[0;34m=\u001b[0m \u001b[0;34m[\u001b[0m\u001b[0;34m[\u001b[0m\u001b[0mself\u001b[0m\u001b[0;34m.\u001b[0m\u001b[0mn\u001b[0m\u001b[0;34m]\u001b[0m\u001b[0;34m,\u001b[0m \u001b[0;34m[\u001b[0m\u001b[0mself\u001b[0m\u001b[0;34m.\u001b[0m\u001b[0mn\u001b[0m\u001b[0;34m]\u001b[0m\u001b[0;34m]\u001b[0m\u001b[0;34m\u001b[0m\u001b[0m\n\u001b[1;32m     86\u001b[0m         \u001b[0mself\u001b[0m\u001b[0;34m.\u001b[0m\u001b[0mstate\u001b[0m\u001b[0;34m.\u001b[0m\u001b[0mdims\u001b[0m \u001b[0;34m=\u001b[0m \u001b[0;34m[\u001b[0m\u001b[0;34m[\u001b[0m\u001b[0mself\u001b[0m\u001b[0;34m.\u001b[0m\u001b[0mn\u001b[0m\u001b[0;34m]\u001b[0m\u001b[0;34m,\u001b[0m \u001b[0;34m[\u001b[0m\u001b[0;36m1\u001b[0m\u001b[0;34m]\u001b[0m\u001b[0;34m]\u001b[0m\u001b[0;34m\u001b[0m\u001b[0m\n\u001b[0;32m---> 87\u001b[0;31m         \u001b[0mself\u001b[0m\u001b[0;34m.\u001b[0m\u001b[0mpure_energy\u001b[0m \u001b[0;34m=\u001b[0m \u001b[0mqutip\u001b[0m\u001b[0;34m.\u001b[0m\u001b[0mexpect\u001b[0m\u001b[0;34m(\u001b[0m\u001b[0mself\u001b[0m\u001b[0;34m.\u001b[0m\u001b[0menergy\u001b[0m\u001b[0;34m,\u001b[0m \u001b[0mself\u001b[0m\u001b[0;34m.\u001b[0m\u001b[0mstate\u001b[0m\u001b[0;34m)\u001b[0m\u001b[0;34m\u001b[0m\u001b[0m\n\u001b[0m\u001b[1;32m     88\u001b[0m         \u001b[0mpfacs\u001b[0m \u001b[0;34m=\u001b[0m \u001b[0mlist\u001b[0m\u001b[0;34m(\u001b[0m\u001b[0mprimefac\u001b[0m\u001b[0;34m.\u001b[0m\u001b[0mprimefac\u001b[0m\u001b[0;34m(\u001b[0m\u001b[0mself\u001b[0m\u001b[0;34m.\u001b[0m\u001b[0mn\u001b[0m\u001b[0;34m)\u001b[0m\u001b[0;34m)\u001b[0m\u001b[0;34m\u001b[0m\u001b[0m\n\u001b[1;32m     89\u001b[0m         \u001b[0mtwos\u001b[0m \u001b[0;34m=\u001b[0m \u001b[0mpfacs\u001b[0m\u001b[0;34m.\u001b[0m\u001b[0mcount\u001b[0m\u001b[0;34m(\u001b[0m\u001b[0;36m2\u001b[0m\u001b[0;34m)\u001b[0m\u001b[0;34m\u001b[0m\u001b[0m\n",
      "\u001b[0;32m/opt/local/Library/Frameworks/Python.framework/Versions/2.7/lib/python2.7/site-packages/qutip/expect.pyc\u001b[0m in \u001b[0;36mexpect\u001b[0;34m(oper, state)\u001b[0m\n\u001b[1;32m     71\u001b[0m     '''\n\u001b[1;32m     72\u001b[0m     \u001b[0;32mif\u001b[0m \u001b[0misinstance\u001b[0m\u001b[0;34m(\u001b[0m\u001b[0mstate\u001b[0m\u001b[0;34m,\u001b[0m \u001b[0mQobj\u001b[0m\u001b[0;34m)\u001b[0m \u001b[0;32mand\u001b[0m \u001b[0misinstance\u001b[0m\u001b[0;34m(\u001b[0m\u001b[0moper\u001b[0m\u001b[0;34m,\u001b[0m \u001b[0mQobj\u001b[0m\u001b[0;34m)\u001b[0m\u001b[0;34m:\u001b[0m\u001b[0;34m\u001b[0m\u001b[0m\n\u001b[0;32m---> 73\u001b[0;31m         \u001b[0;32mreturn\u001b[0m \u001b[0m_single_qobj_expect\u001b[0m\u001b[0;34m(\u001b[0m\u001b[0moper\u001b[0m\u001b[0;34m,\u001b[0m \u001b[0mstate\u001b[0m\u001b[0;34m)\u001b[0m\u001b[0;34m\u001b[0m\u001b[0m\n\u001b[0m\u001b[1;32m     74\u001b[0m \u001b[0;34m\u001b[0m\u001b[0m\n\u001b[1;32m     75\u001b[0m     \u001b[0;32melif\u001b[0m \u001b[0misinstance\u001b[0m\u001b[0;34m(\u001b[0m\u001b[0moper\u001b[0m\u001b[0;34m,\u001b[0m \u001b[0mQobj\u001b[0m\u001b[0;34m)\u001b[0m \u001b[0;32mand\u001b[0m \u001b[0misinstance\u001b[0m\u001b[0;34m(\u001b[0m\u001b[0mstate\u001b[0m\u001b[0;34m,\u001b[0m \u001b[0meseries\u001b[0m\u001b[0;34m)\u001b[0m\u001b[0;34m:\u001b[0m\u001b[0;34m\u001b[0m\u001b[0m\n",
      "\u001b[0;32m/opt/local/Library/Frameworks/Python.framework/Versions/2.7/lib/python2.7/site-packages/qutip/expect.pyc\u001b[0m in \u001b[0;36m_single_qobj_expect\u001b[0;34m(oper, state)\u001b[0m\n\u001b[1;32m    116\u001b[0m             \u001b[0;31m# calculates expectation value via <psi|op|psi>\u001b[0m\u001b[0;34m\u001b[0m\u001b[0;34m\u001b[0m\u001b[0m\n\u001b[1;32m    117\u001b[0m             return cy_expect_psi(oper.data, state.full(squeeze=True),\n\u001b[0;32m--> 118\u001b[0;31m                                  oper.isherm)\n\u001b[0m\u001b[1;32m    119\u001b[0m     \u001b[0;32melse\u001b[0m\u001b[0;34m:\u001b[0m\u001b[0;34m\u001b[0m\u001b[0m\n\u001b[1;32m    120\u001b[0m         \u001b[0;32mraise\u001b[0m \u001b[0mTypeError\u001b[0m\u001b[0;34m(\u001b[0m\u001b[0;34m'Invalid operand types'\u001b[0m\u001b[0;34m)\u001b[0m\u001b[0;34m\u001b[0m\u001b[0m\n",
      "\u001b[0;32m/opt/local/Library/Frameworks/Python.framework/Versions/2.7/lib/python2.7/site-packages/qutip/cy/spmatfuncs.pyx\u001b[0m in \u001b[0;36mqutip.cy.spmatfuncs.cy_expect_psi (/Users/mw/.pyxbld/temp.macosx-10.11-x86_64-2.7/pyrex/qutip/cy/spmatfuncs.c:5913)\u001b[0;34m()\u001b[0m\n\u001b[1;32m    235\u001b[0m \u001b[0;34m@\u001b[0m\u001b[0mcython\u001b[0m\u001b[0;34m.\u001b[0m\u001b[0mboundscheck\u001b[0m\u001b[0;34m(\u001b[0m\u001b[0mFalse\u001b[0m\u001b[0;34m)\u001b[0m\u001b[0;34m\u001b[0m\u001b[0m\n\u001b[1;32m    236\u001b[0m \u001b[0;34m@\u001b[0m\u001b[0mcython\u001b[0m\u001b[0;34m.\u001b[0m\u001b[0mwraparound\u001b[0m\u001b[0;34m(\u001b[0m\u001b[0mFalse\u001b[0m\u001b[0;34m)\u001b[0m\u001b[0;34m\u001b[0m\u001b[0m\n\u001b[0;32m--> 237\u001b[0;31m cpdef cy_expect_psi(object op,\n\u001b[0m\u001b[1;32m    238\u001b[0m                     \u001b[0mnp\u001b[0m\u001b[0;34m.\u001b[0m\u001b[0mndarray\u001b[0m\u001b[0;34m[\u001b[0m\u001b[0mCTYPE_t\u001b[0m\u001b[0;34m,\u001b[0m \u001b[0mndim\u001b[0m\u001b[0;34m=\u001b[0m\u001b[0;36m1\u001b[0m\u001b[0;34m,\u001b[0m \u001b[0mmode\u001b[0m\u001b[0;34m=\u001b[0m\u001b[0;34m\"c\"\u001b[0m\u001b[0;34m]\u001b[0m \u001b[0mstate\u001b[0m\u001b[0;34m,\u001b[0m\u001b[0;34m\u001b[0m\u001b[0m\n\u001b[1;32m    239\u001b[0m                     int isherm):\n",
      "\u001b[0;31mValueError\u001b[0m: Buffer has wrong number of dimensions (expected 1, got 0)"
     ]
    }
   ],
   "source": [
    "import math\n",
    "import sympy\n",
    "import mpmath\n",
    "import random\n",
    "import primefac\n",
    "import numpy as np\n",
    "import scipy.linalg\n",
    "import qutip\n",
    "import vpython\n",
    "\n",
    "def scalar_to_vector(z):\n",
    "    if z == float('inf'):\n",
    "        return [0,0,1]\n",
    "    x = z.real\n",
    "    y = z.imag\n",
    "    return [(2*x)/(1.+(x**2)+(y**2)), \\\n",
    "           (2*y)/(1.+(x**2)+(y**2)), \\\n",
    "           (-1.+(x**2)+(y**2))/(1.+(x**2)+(y**2))]\n",
    "\n",
    "def vector_to_scalar(x, y, z):\n",
    "    if z == 1:\n",
    "        return float('inf') \n",
    "    else:\n",
    "        return complex(x/(1-z), y/(1-z))\n",
    "\n",
    "def normalize(v):\n",
    "    norm = np.linalg.norm(v)\n",
    "    if norm == 0: \n",
    "       return v\n",
    "    return v / norm\n",
    "    \n",
    "def scalar_product(m, n):\n",
    "    return 0.5*np.trace(np.dot(np.conjugate(m).T, n))\n",
    "\n",
    "def pauli_decompose(m):\n",
    "    return normalize(np.array([scalar_product(np.eye(2), m).real,\\\n",
    "                              scalar_product(qutip.sigmax().full(), m).real,\\\n",
    "                              scalar_product(qutip.sigmay().full(), m).real,\\\n",
    "                              scalar_product(qutip.sigmaz().full(), m).real]))\n",
    "            \n",
    "    \n",
    "def mobius_transformation(a, b, c, d):\n",
    "    def t(z):\n",
    "        if a*d-b*c == 0:\n",
    "            return z\n",
    "        if c != 0:\n",
    "            if z == -1*d/c:\n",
    "                return float('inf')\n",
    "            if z == float('inf'):\n",
    "                return a/c\n",
    "        if c == 0:\n",
    "            if z == float('inf'):\n",
    "                return float('inf')\n",
    "        return (a*z + b)/(c*z + d)\n",
    "    return lambda z: z+t(z)\n",
    "        \n",
    "class Sphere:\n",
    "    def __init__(self, n, dt=0.001):\n",
    "        self.t = 0\n",
    "        self.n = n\n",
    "        self.dt = dt\n",
    "        self.state = qutip.rand_ket(self.n)\n",
    "        self.energy = qutip.rand_herm(self.n)\n",
    "        self.dims = None\n",
    "        self.scale = None\n",
    "        self.polynomial = None\n",
    "        self.pure_scalars = None\n",
    "        self.pure_vectors = None\n",
    "        self.pure_matrices = None\n",
    "        self.pure_energy = None\n",
    "        self.impure_vectors = None\n",
    "        self.impure_matrices = None\n",
    "        self.impure_energies = None\n",
    "        self.observer = None\n",
    "        self.old_observer = None\n",
    "        self.shatter()\n",
    "\n",
    "    def shatter(self):\n",
    "        self.polynomial = self.state.full().T.tolist()[0]\n",
    "        self.scale = self.polynomial[0]\n",
    "        self.polynomial = [term/self.scale for term in self.polynomial]\n",
    "        try:\n",
    "            self.pure_scalars = mpmath.polyroots(self.polynomial)\n",
    "            self.pure_scalars = [complex(root) for root in self.pure_scalars]\n",
    "        except:\n",
    "            print(self.pure_scalars)\n",
    "        self.pure_vectors = [scalar_to_vector(scalar) for scalar in self.pure_scalars]        \n",
    "        self.pure_matrices = [vector[0]*qutip.sigmax().full() + \\\n",
    "                              vector[1]*qutip.sigmay().full() + \\\n",
    "                              vector[2]*qutip.sigmaz().full() \n",
    "                                for vector in self.pure_vectors]\n",
    "        self.energy.dims = [[self.n], [self.n]]\n",
    "        self.state.dims = [[self.n], [1]]\n",
    "        self.pure_energy = qutip.expect(self.energy, self.state)\n",
    "        pfacs = list(primefac.primefac(self.n))\n",
    "        twos = pfacs.count(2)\n",
    "        remainder = int(self.n/2**twos)\n",
    "        splitting = [2]*twos\n",
    "        if remainder != 1:\n",
    "            self.state.dims = [splitting+[remainder],[1]*(len(splitting)+1)]\n",
    "        else:\n",
    "            self.state.dims = [splitting,[1]*(len(splitting))]\n",
    "        self.dims = self.state.dims[0]\n",
    "        if self.observer != None:\n",
    "            self.old_observer = self.impure_matrices[self.observer]\n",
    "        self.impure_matrices = [self.state.ptrace(i) for i in range(len(splitting))]\n",
    "        self.energy.dims = [self.dims, self.dims]\n",
    "        self.impure_energies = [self.energy.ptrace(i) for i in range(len(splitting))]\n",
    "        self.energy.dims = [[self.n], [self.n]]\n",
    "        self.impure_energies = [qutip.expect(self.impure_energies[i], self.impure_matrices[i]) for i in range(len(self.impure_matrices))]\n",
    "        self.impure_vectors = [pauli_decompose(matrix.full()) for matrix in self.impure_matrices]\n",
    "        \n",
    "    def mobius_transform(self):\n",
    "        if self.observer != None:\n",
    "            if self.old_observer == None:\n",
    "                self.old_observer = self.impure_matrices[self.observer]\n",
    "            new_observer = self.impure_matrices[self.observer]\n",
    "            change = self.old_observer.dag()*new_observer*self.old_observer\n",
    "            matrix = scipy.linalg.expm(-2*math.pi*complex(0,1)*change.full()*self.dt)\n",
    "            M = mobius_transformation(matrix[0,0],\\\n",
    "                                      matrix[0,1],\\\n",
    "                                      matrix[1,0],\\\n",
    "                                      matrix[1,1])\n",
    "            self.pure_scalars = [M(root) for root in self.pure_scalars] \n",
    "            x = sympy.symbols(\"x\")\n",
    "            polynomial = sympy.Poly(reduce(lambda a, b: a*b, [x+root for root in self.pure_scalars]), domain=\"CC\")\n",
    "            self.polynomial = polynomial.coeffs()\n",
    "            self.state = qutip.Qobj(np.array(self.polynomial).T)\n",
    "    \n",
    "    def hamiltonian_transform(self):\n",
    "        propagator = scipy.linalg.expm(-2*math.pi*complex(0,1)*self.energy.full()*self.dt)\n",
    "        self.state = qutip.Qobj(propagator.dot(self.state.full()))\n",
    "        \n",
    "    def evolve(self):  \n",
    "        self.hamiltonian_transform()\n",
    "        self.mobius_transform()\n",
    "        self.shatter()\n",
    "        self.t += self.dt\n",
    "\n",
    "################\n",
    "sphere = Sphere(8)\n",
    "################\n",
    "\n",
    "vpython.scene.range = 1\n",
    "vpython.scene.forward = vpython.vector(random.random(), random.random(), random.random())\n",
    "vpython.scene.lights = []\n",
    "vsphere = vpython.sphere(pos=vpython.vector(0,0,0), radius=1, color=vpython.color.blue, opacity=0.5)\n",
    "vpure_stars = [vpython.sphere(pos=vpython.vector(*vector),\\\n",
    "                              radius=0.1, color=vpython.color.white,\\\n",
    "                              opacity=1.0, emissive=True) \n",
    "                                     for vector in sphere.pure_vectors]\n",
    "vimpure_stars = [vpython.sphere(pos=vpython.vector(*vector[1:]),\\\n",
    "                                radius=0.1, color=vpython.color.red,\\\n",
    "                                opacity=1.0, emissive=True) \n",
    "                                     for vector in sphere.impure_vectors]\n",
    "\n",
    "def draw_stars():\n",
    "    vpython.rate(15)\n",
    "    for i in range(len(vpure_stars)):\n",
    "        vpure_stars[i].pos = vpython.vector(*sphere.pure_vectors[i])\n",
    "        vpure_stars[i].color = vpython.color.hsv_to_rgb(vpython.vector(sphere.pure_energy**2,1,1))\n",
    "    for i in range(len(vimpure_stars)):\n",
    "         vimpure_stars[i].pos = vpython.vector(*sphere.impure_vectors[i][1:])\n",
    "         vimpure_stars[i].color = vpython.color.hsv_to_rgb(vpython.vector(float(sphere.impure_vectors[i][0]),1,1))\n",
    "\n",
    "def click(event):\n",
    "    global sphere\n",
    "    global vimpure_stars\n",
    "    star = vpython.scene.mouse.pick\n",
    "    if star in vimpure_stars:\n",
    "        if star.emissive == True:\n",
    "            for other in vimpure_stars:\n",
    "                other.emissive = True\n",
    "            star.emissive = False\n",
    "        sphere.observer = vimpure_stars.index(star)\n",
    "\n",
    "vpython.scene.bind('click', click)\n",
    " \n",
    "while True:\n",
    "    draw_stars()\n",
    "    sphere.evolve()"
   ]
  },
  {
   "cell_type": "code",
   "execution_count": null,
   "metadata": {},
   "outputs": [],
   "source": []
  }
 ],
 "metadata": {
  "kernelspec": {
   "display_name": "VPython",
   "language": "python",
   "name": "vpython"
  },
  "language_info": {
   "codemirror_mode": {
    "name": "ipython",
    "version": 2
   },
   "file_extension": ".py",
   "mimetype": "text/x-python",
   "name": "python",
   "nbconvert_exporter": "python",
   "pygments_lexer": "ipython2",
   "version": "2.7.12"
  }
 },
 "nbformat": 4,
 "nbformat_minor": 2
}
