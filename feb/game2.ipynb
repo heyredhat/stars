{
 "cells": [
  {
   "cell_type": "code",
   "execution_count": null,
   "metadata": {},
   "outputs": [
    {
     "data": {
      "application/javascript": [
       "require.undef(\"nbextensions/vpython_libraries/glow.min\");"
      ],
      "text/plain": [
       "<IPython.core.display.Javascript object>"
      ]
     },
     "metadata": {},
     "output_type": "display_data"
    },
    {
     "data": {
      "application/javascript": [
       "require.undef(\"nbextensions/vpython_libraries/glowcomm\");"
      ],
      "text/plain": [
       "<IPython.core.display.Javascript object>"
      ]
     },
     "metadata": {},
     "output_type": "display_data"
    },
    {
     "data": {
      "application/javascript": [
       "require.undef(\"nbextensions/vpython_libraries/jquery-ui.custom.min\");"
      ],
      "text/plain": [
       "<IPython.core.display.Javascript object>"
      ]
     },
     "metadata": {},
     "output_type": "display_data"
    },
    {
     "data": {
      "application/javascript": [
       "require([\"nbextensions/vpython_libraries/glow.min\"], function(){console.log(\"GLOW LOADED\");})"
      ],
      "text/plain": [
       "<IPython.core.display.Javascript object>"
      ]
     },
     "metadata": {},
     "output_type": "display_data"
    },
    {
     "data": {
      "application/javascript": [
       "require([\"nbextensions/vpython_libraries/glowcomm\"], function(){console.log(\"GLOWCOMM LOADED\");})"
      ],
      "text/plain": [
       "<IPython.core.display.Javascript object>"
      ]
     },
     "metadata": {},
     "output_type": "display_data"
    },
    {
     "data": {
      "application/javascript": [
       "require([\"nbextensions/vpython_libraries/jquery-ui.custom.min\"], function(){console.log(\"JQUERY LOADED\");})"
      ],
      "text/plain": [
       "<IPython.core.display.Javascript object>"
      ]
     },
     "metadata": {},
     "output_type": "display_data"
    },
    {
     "data": {
      "text/html": [
       "<div id=\"glowscript\" class=\"glowscript\"></div>"
      ],
      "text/plain": [
       "<IPython.core.display.HTML object>"
      ]
     },
     "metadata": {},
     "output_type": "display_data"
    },
    {
     "data": {
      "application/javascript": [
       "window.__context = { glowscript_container: $(\"#glowscript\").removeAttr(\"id\")}"
      ],
      "text/plain": [
       "<IPython.core.display.Javascript object>"
      ]
     },
     "metadata": {},
     "output_type": "display_data"
    }
   ],
   "source": [
    "import qutip\n",
    "import vpython\n",
    "import math\n",
    "import scipy\n",
    "import numpy as np\n",
    "\n",
    "vpython.scene.width = 1000\n",
    "vpython.scene.height = 600\n",
    "\n",
    "va = vpython.sphere(pos=vpython.vector(-1.5,0,0), radius=1.0, color=vpython.color.blue, opacity=0.5)\n",
    "va_star = vpython.sphere(pos=vpython.vector(0,0,0), radius=0.1, color=vpython.color.white, opacity=0.7)\n",
    "vb_in_a = vpython.sphere(pos=vpython.vector(0,0,0), radius=0.2, color=vpython.color.red, opacity=0.5)\n",
    "\n",
    "vb = vpython.sphere(pos=vpython.vector(1.5,0,0), radius=1.0, color=vpython.color.red, opacity=0.5)\n",
    "vb_star = vpython.sphere(pos=vpython.vector(0,0,0), radius=0.1, color=vpython.color.white, opacity=0.7)\n",
    "va_in_b = vpython.sphere(pos=vpython.vector(0,0,0), radius=0.2, color=vpython.color.blue, opacity=0.5)\n",
    "\n",
    "varrow_a = vpython.curve(pos=[vpython.vector(0,0,0), vpython.vector(0,0,0)], color=vpython.color.blue)\n",
    "varrow_b = vpython.curve(pos=[vpython.vector(0,0,0), vpython.vector(0,0,0)], color=vpython.color.red)\n",
    "\n",
    "dt = 0.01\n",
    "\n",
    "a = qutip.rand_ket(2).ptrace(0)\n",
    "b = qutip.rand_ket(2).ptrace(0)\n",
    "\n",
    "def keyboard(event):\n",
    "    global dt\n",
    "    global a\n",
    "    global b\n",
    "    key = event.key\n",
    "    operator = None\n",
    "    if key == \"a\":   #-x for A\n",
    "        operator = qutip.Qobj(scipy.linalg.expm(-2*math.pi*complex(0,1)*qutip.sigmax().full()*dt))\n",
    "        a = operator.dag()*a*operator\n",
    "    elif key == \"d\": #+x for A\n",
    "        operator = qutip.Qobj(scipy.linalg.expm(-2*math.pi*complex(0,1)*qutip.sigmax().full()*dt))\n",
    "        a = operator*a*operator.dag()\n",
    "    elif key == \"s\": #-z for A\n",
    "        operator = qutip.Qobj(scipy.linalg.expm(-2*math.pi*complex(0,1)*qutip.sigmaz().full()*dt))\n",
    "        a = operator.dag()*a*operator\n",
    "    elif key == \"w\": #+z for A\n",
    "        operator = qutip.Qobj(scipy.linalg.expm(-2*math.pi*complex(0,1)*qutip.sigmaz().full()*dt))\n",
    "        a = operator*a*operator.dag()\n",
    "    elif key == \"z\": #-y for A\n",
    "        operator = qutip.Qobj(scipy.linalg.expm(-2*math.pi*complex(0,1)*qutip.sigmay().full()*dt))\n",
    "        a = operator.dag()*a*operator\n",
    "    elif key == \"x\": #+y for A\n",
    "        operator = qutip.Qobj(scipy.linalg.expm(-2*math.pi*complex(0,1)*qutip.sigmay().full()*dt))\n",
    "        a = operator*a*operator.dag()\n",
    "    elif key == \"j\": #-x for B\n",
    "        operator = qutip.Qobj(scipy.linalg.expm(-2*math.pi*complex(0,1)*qutip.sigmax().full()*dt))\n",
    "        b = operator.dag()*b*operator\n",
    "    elif key == \"l\": #+x for B\n",
    "        operator = qutip.Qobj(scipy.linalg.expm(-2*math.pi*complex(0,1)*qutip.sigmax().full()*dt))\n",
    "        b = operator*b*operator.dag()\n",
    "    elif key == \"k\": #-z for B\n",
    "        operator = qutip.Qobj(scipy.linalg.expm(-2*math.pi*complex(0,1)*qutip.sigmaz().full()*dt))\n",
    "        b = operator.dag()*b*operator\n",
    "    elif key == \"i\": #+z for B\n",
    "        operator = qutip.Qobj(scipy.linalg.expm(-2*math.pi*complex(0,1)*qutip.sigmaz().full()*dt))\n",
    "        b = operator*b*operator.dag()\n",
    "    elif key == \"m\": #-y for B\n",
    "        operator = qutip.Qobj(scipy.linalg.expm(-2*math.pi*complex(0,1)*qutip.sigmay().full()*dt))\n",
    "        b = operator.dag()*b*operator\n",
    "    elif key == \",\": #+y for B\n",
    "        operator = qutip.Qobj(scipy.linalg.expm(-2*math.pi*complex(0,1)*qutip.sigmay().full()*dt))\n",
    "        b = operator*b*operator.dag()\n",
    "\n",
    "vpython.scene.bind('keydown', keyboard)\n",
    "\n",
    "def poo(state):\n",
    "    T = qutip.identity(2)\n",
    "    X, Y, Z = qutip.jmat(1./2.)\n",
    "    t = qutip.expect(T, state)\n",
    "    x = qutip.expect(X, state)\n",
    "    y = qutip.expect(Y, state)\n",
    "    z = qutip.expect(Z, state)\n",
    "    spin = np.array([t, x, y, z])\n",
    "    magnitude = np.linalg.norm(spin)\n",
    "    if magnitude != 0:\n",
    "        spin = spin / magnitude\n",
    "    return spin.tolist()\n",
    "\n",
    "while True:\n",
    "    vpython.rate(50)\n",
    "    a_x = qutip.expect(qutip.sigmax(), a)\n",
    "    a_y = qutip.expect(qutip.sigmay(), a)\n",
    "    a_z = qutip.expect(qutip.sigmaz(), a)\n",
    "    va_star.pos = vpython.vector(a_x-1.5, a_y, a_z)\n",
    "    varrow_a.modify(0, pos=va_star.pos)\n",
    "    varrow_a.modify(1, pos=vpython.vector(-1.5, 0, 0))\n",
    "    \n",
    "    b_x = qutip.expect(qutip.sigmax(), b)\n",
    "    b_y = qutip.expect(qutip.sigmay(), b)\n",
    "    b_z = qutip.expect(qutip.sigmaz(), b)\n",
    "    vb_star.pos = vpython.vector(b_x+1.5, b_y, b_z)\n",
    "    varrow_b.modify(0, pos=vb_star.pos)\n",
    "    varrow_b.modify(1, pos=vpython.vector(1.5, 0, 0))\n",
    "    \n",
    "    a_according_to_b = a.transform(b)\n",
    "    ab_x = qutip.expect(qutip.sigmax(), a_according_to_b)\n",
    "    ab_y = qutip.expect(qutip.sigmay(), a_according_to_b)\n",
    "    ab_z = qutip.expect(qutip.sigmaz(), a_according_to_b)\n",
    "    #ab_t, ab_x, ab_y, ab_z = poo(a_according_to_b)\n",
    "    va_in_b.pos = vpython.vector(ab_x+1.5, ab_y, ab_z)\n",
    "    \n",
    "    b_according_to_a = b.transform(a)\n",
    "    ba_x = qutip.expect(qutip.sigmax(), b_according_to_a)\n",
    "    ba_y = qutip.expect(qutip.sigmay(), b_according_to_a)\n",
    "    ba_z = qutip.expect(qutip.sigmaz(), b_according_to_a)\n",
    "    #ba_t, ba_x, ba_y, ba_z = poo(b_according_to_a)\n",
    "    vb_in_a.pos = vpython.vector(ba_x-1.5, ba_y, ba_z)\n"
   ]
  },
  {
   "cell_type": "code",
   "execution_count": null,
   "metadata": {
    "collapsed": true
   },
   "outputs": [],
   "source": []
  }
 ],
 "metadata": {
  "kernelspec": {
   "display_name": "VPython",
   "language": "python",
   "name": "vpython"
  },
  "language_info": {
   "codemirror_mode": {
    "name": "ipython",
    "version": 3
   },
   "file_extension": ".py",
   "mimetype": "text/x-python",
   "name": "python",
   "nbconvert_exporter": "python",
   "pygments_lexer": "ipython3",
   "version": "3.6.3"
  }
 },
 "nbformat": 4,
 "nbformat_minor": 2
}
