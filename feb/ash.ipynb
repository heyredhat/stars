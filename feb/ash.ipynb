{
 "cells": [
  {
   "cell_type": "code",
   "execution_count": null,
   "metadata": {},
   "outputs": [
    {
     "data": {
      "application/javascript": [
       "require.undef(\"nbextensions/vpython_libraries/glow.min\");"
      ],
      "text/plain": [
       "<IPython.core.display.Javascript object>"
      ]
     },
     "metadata": {},
     "output_type": "display_data"
    },
    {
     "data": {
      "application/javascript": [
       "require.undef(\"nbextensions/vpython_libraries/glowcomm\");"
      ],
      "text/plain": [
       "<IPython.core.display.Javascript object>"
      ]
     },
     "metadata": {},
     "output_type": "display_data"
    },
    {
     "data": {
      "application/javascript": [
       "require.undef(\"nbextensions/vpython_libraries/jquery-ui.custom.min\");"
      ],
      "text/plain": [
       "<IPython.core.display.Javascript object>"
      ]
     },
     "metadata": {},
     "output_type": "display_data"
    },
    {
     "data": {
      "application/javascript": [
       "require([\"nbextensions/vpython_libraries/glow.min\"], function(){console.log(\"GLOW LOADED\");})"
      ],
      "text/plain": [
       "<IPython.core.display.Javascript object>"
      ]
     },
     "metadata": {},
     "output_type": "display_data"
    },
    {
     "data": {
      "application/javascript": [
       "require([\"nbextensions/vpython_libraries/glowcomm\"], function(){console.log(\"GLOWCOMM LOADED\");})"
      ],
      "text/plain": [
       "<IPython.core.display.Javascript object>"
      ]
     },
     "metadata": {},
     "output_type": "display_data"
    },
    {
     "data": {
      "application/javascript": [
       "require([\"nbextensions/vpython_libraries/jquery-ui.custom.min\"], function(){console.log(\"JQUERY LOADED\");})"
      ],
      "text/plain": [
       "<IPython.core.display.Javascript object>"
      ]
     },
     "metadata": {},
     "output_type": "display_data"
    },
    {
     "data": {
      "text/html": [
       "<div id=\"glowscript\" class=\"glowscript\"></div>"
      ],
      "text/plain": [
       "<IPython.core.display.HTML object>"
      ]
     },
     "metadata": {},
     "output_type": "display_data"
    },
    {
     "data": {
      "application/javascript": [
       "window.__context = { glowscript_container: $(\"#glowscript\").removeAttr(\"id\")}"
      ],
      "text/plain": [
       "<IPython.core.display.Javascript object>"
      ]
     },
     "metadata": {},
     "output_type": "display_data"
    }
   ],
   "source": [
    "import math\n",
    "import cmath\n",
    "import functools\n",
    "import operator\n",
    "import numpy as np\n",
    "import sympy\n",
    "import mpmath\n",
    "import scipy\n",
    "import qutip \n",
    "import vpython\n",
    "\n",
    "###\n",
    "\n",
    "def combos(a,b):\n",
    "    f = math.factorial\n",
    "    return f(a) / f(b) / f(a-b)\n",
    "\n",
    "###\n",
    "\n",
    "class Variable:    \n",
    "    def __init__(self):\n",
    "        self.value = None\n",
    "        self.dependencies = []\n",
    "        self.touched = 0\n",
    "\n",
    "    def tie(self, other, transformation):\n",
    "        self.dependencies.append({\"other\": other, \"transformation\": transformation})\n",
    "\n",
    "    def plug(self, value):\n",
    "        self.value = value\n",
    "        if self.touched == 0:\n",
    "            self.touched = 1\n",
    "        elif self.touched == 1:\n",
    "            self.touched = 0\n",
    "        for dependency in self.dependencies:\n",
    "            other, transformation = dependency[\"other\"], dependency[\"transformation\"]\n",
    "            if other.touched != self.touched:\n",
    "                other.plug(transformation(self.value))\n",
    "\n",
    "    def __str__(self):\n",
    "        return str(self.value)\n",
    "\n",
    "###\n",
    "\n",
    "class Sphere:\n",
    "    def __init__(self, x, y, z):\n",
    "        self.center = [x, y, z]\n",
    "        self.vsphere = None\n",
    "        self.vstars = None\n",
    "        \n",
    "        self.state = Variable()\n",
    "        self.vector = Variable()\n",
    "        self.polynomial = Variable()\n",
    "        self.roots = Variable()\n",
    "        self.xyzs = Variable()\n",
    "        \n",
    "        def state_to_vector(state):\n",
    "            return state.full().T[0]\n",
    "        self.state.tie(self.vector, state_to_vector)\n",
    "\n",
    "        def vector_to_state(vector):\n",
    "            return qutip.Qobj(vector)\n",
    "        self.vector.tie(self.state, vector_to_state)\n",
    "\n",
    "        def vector_to_polynomial(vector):\n",
    "            polynomial = vector.tolist()\n",
    "            return [(((-1)**i) * math.sqrt(combos(len(polynomial)-1,i))) * polynomial[i] for i in range(len(polynomial))] \n",
    "        self.vector.tie(self.polynomial, vector_to_polynomial)\n",
    "\n",
    "        def polynomial_to_vector(polynomial):\n",
    "            coordinates = [polynomial[i]/(((-1)**i) * math.sqrt(combos(len(polynomial)-1,i))) for i in range(len(polynomial))]\n",
    "            return np.array(coordinates)\n",
    "        self.polynomial.tie(self.vector, polynomial_to_vector)\n",
    "\n",
    "        def polynomial_to_roots(polynomial):\n",
    "            try:\n",
    "                return [np.conjugate(complex(root)) for root in mpmath.polyroots(polynomial)]\n",
    "            except:\n",
    "                return [complex(0,0) for i in range(len(polynomial)-1)]\n",
    "        self.polynomial.tie(self.roots, polynomial_to_roots)\n",
    "\n",
    "        def roots_to_polynomial(roots):\n",
    "            s = sympy.symbols(\"s\")\n",
    "            polynomial = sympy.Poly(functools.reduce(lambda a, b: a*b, [s-np.conjugate(root) for root in roots]), domain=\"CC\")\n",
    "            return [complex(c) for c in polynomial.coeffs()]\n",
    "        self.roots.tie(self.polynomial, roots_to_polynomial)\n",
    "\n",
    "        def roots_to_xyzs(roots):\n",
    "            def root_to_xyz(root):\n",
    "                if root == float('inf'):\n",
    "                    return [0,0,1]\n",
    "                x = root.real\n",
    "                y = root.imag\n",
    "                return [(2*x)/(1.+(x**2)+(y**2)),\\\n",
    "                        (2*y)/(1.+(x**2)+(y**2)),\\\n",
    "                        (-1.+(x**2)+(y**2))/(1.+(x**2)+(y**2))]\n",
    "            return [root_to_xyz(root) for root in roots]\n",
    "        self.roots.tie(self.xyzs, roots_to_xyzs)\n",
    "\n",
    "        def xyzs_to_roots(xyzs):\n",
    "            def xyz_to_root(xyz):\n",
    "                x, y, z = xyz[0], xyz[1], xyz[2]\n",
    "                if z == 1:\n",
    "                    return float('inf') \n",
    "                else:\n",
    "                    return complex(x/(1-z), y/(1-z))\n",
    "            return [xyz_to_root(xyz) for xyz in xyzs]\n",
    "        self.xyzs.tie(self.roots, xyzs_to_roots)\n",
    "        \n",
    "    def visualize(self):\n",
    "        if self.state.value != None:\n",
    "            if self.vsphere == None:\n",
    "                self.vsphere = vpython.sphere()\n",
    "            if self.vstars == None:\n",
    "                self.vstars = [vpython.sphere() for i in range(len(self.xyzs.value))]\n",
    "            vpython.rate(100)\n",
    "            self.vsphere.pos = vpython.vector(*self.center)\n",
    "            self.vsphere.radius = 1\n",
    "            self.vsphere.color = vpython.color.blue\n",
    "            self.vsphere.opacity = 0.4\n",
    "            for i in range(len(self.vstars)):\n",
    "                self.vstars[i].pos = vpython.vector(*self.xyzs.value[i])\n",
    "                self.vstars[i].radius = 0.1\n",
    "                self.vstars[i].color = vpython.color.white\n",
    "                self.vstars[i].opacity = 0.8\n",
    "    \n",
    "    def spin_operators(self):\n",
    "        if self.state.value != None:\n",
    "            n = len(self.vector.value)\n",
    "            spin = (n-1.)/2.\n",
    "            return {\"X\": qutip.jmat(spin, \"x\"),\\\n",
    "                    \"Y\": qutip.jmat(spin, \"y\"),\\\n",
    "                    \"Z\": qutip.jmat(spin, \"z\"),\\\n",
    "                    \"+\": qutip.jmat(spin, \"+\"),\\\n",
    "                    \"-\": qutip.jmat(spin, \"-\")}\n",
    "    \n",
    "    def evolve(self, hermitian, inverse=False, dt=0.007):\n",
    "        unitary = qutip.Qobj(scipy.linalg.expm(-2*math.pi*complex(0,1)*hermitian.full()*dt))\n",
    "        if inverse:\n",
    "            unitary = unitary.dag()\n",
    "        self.state.plug(unitary*self.state.value)\n",
    "\n",
    "vpython.scene.width = 900\n",
    "vpython.scene.height = 900\n",
    "\n",
    "sphere = Sphere(0,0,0)\n",
    "\n",
    "def keyboard(event):\n",
    "    global sphere\n",
    "    key = event.key\n",
    "    spin_ops = sphere.spin_operators()\n",
    "    if key == \"a\":   #-x for A\n",
    "        sphere.evolve(spin_ops[\"X\"], inverse=True)\n",
    "    elif key == \"d\": #+x for A\n",
    "        sphere.evolve(spin_ops[\"X\"], inverse=False)\n",
    "    elif key == \"s\": #-z for A\n",
    "        sphere.evolve(spin_ops[\"Z\"], inverse=True)\n",
    "    elif key == \"w\": #+z for A\n",
    "        sphere.evolve(spin_ops[\"Z\"], inverse=False)\n",
    "    elif key == \"z\": #-y for A\n",
    "        sphere.evolve(spin_ops[\"Y\"], inverse=True)\n",
    "    elif key == \"x\": #+y for A\n",
    "        sphere.evolve(spin_ops[\"Y\"], inverse=False)\n",
    "vpython.scene.bind('keydown', keyboard)\n",
    "\n",
    "sphere.state.plug(qutip.rand_ket(6))\n",
    "\n",
    "while True:\n",
    "    sphere.visualize()"
   ]
  },
  {
   "cell_type": "code",
   "execution_count": null,
   "metadata": {
    "collapsed": true
   },
   "outputs": [],
   "source": []
  }
 ],
 "metadata": {
  "kernelspec": {
   "display_name": "VPython",
   "language": "python",
   "name": "vpython"
  },
  "language_info": {
   "codemirror_mode": {
    "name": "ipython",
    "version": 3
   },
   "file_extension": ".py",
   "mimetype": "text/x-python",
   "name": "python",
   "nbconvert_exporter": "python",
   "pygments_lexer": "ipython3",
   "version": "3.6.3"
  }
 },
 "nbformat": 4,
 "nbformat_minor": 2
}
