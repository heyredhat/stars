{
 "cells": [
  {
   "cell_type": "code",
   "execution_count": null,
   "metadata": {},
   "outputs": [
    {
     "data": {
      "application/javascript": [
       "require.undef(\"nbextensions/vpython_libraries/glow.min\");"
      ],
      "text/plain": [
       "<IPython.core.display.Javascript object>"
      ]
     },
     "metadata": {},
     "output_type": "display_data"
    },
    {
     "data": {
      "application/javascript": [
       "require.undef(\"nbextensions/vpython_libraries/glowcomm\");"
      ],
      "text/plain": [
       "<IPython.core.display.Javascript object>"
      ]
     },
     "metadata": {},
     "output_type": "display_data"
    },
    {
     "data": {
      "application/javascript": [
       "require.undef(\"nbextensions/vpython_libraries/jquery-ui.custom.min\");"
      ],
      "text/plain": [
       "<IPython.core.display.Javascript object>"
      ]
     },
     "metadata": {},
     "output_type": "display_data"
    },
    {
     "data": {
      "application/javascript": [
       "require([\"nbextensions/vpython_libraries/glow.min\"], function(){console.log(\"GLOW LOADED\");})"
      ],
      "text/plain": [
       "<IPython.core.display.Javascript object>"
      ]
     },
     "metadata": {},
     "output_type": "display_data"
    },
    {
     "data": {
      "application/javascript": [
       "require([\"nbextensions/vpython_libraries/glowcomm\"], function(){console.log(\"GLOWCOMM LOADED\");})"
      ],
      "text/plain": [
       "<IPython.core.display.Javascript object>"
      ]
     },
     "metadata": {},
     "output_type": "display_data"
    },
    {
     "data": {
      "application/javascript": [
       "require([\"nbextensions/vpython_libraries/jquery-ui.custom.min\"], function(){console.log(\"JQUERY LOADED\");})"
      ],
      "text/plain": [
       "<IPython.core.display.Javascript object>"
      ]
     },
     "metadata": {},
     "output_type": "display_data"
    },
    {
     "data": {
      "text/html": [
       "<div id=\"glowscript\" class=\"glowscript\"></div>"
      ],
      "text/plain": [
       "<IPython.core.display.HTML object>"
      ]
     },
     "metadata": {},
     "output_type": "display_data"
    },
    {
     "data": {
      "application/javascript": [
       "window.__context = { glowscript_container: $(\"#glowscript\").removeAttr(\"id\")}"
      ],
      "text/plain": [
       "<IPython.core.display.Javascript object>"
      ]
     },
     "metadata": {},
     "output_type": "display_data"
    }
   ],
   "source": [
    "import math\n",
    "import cmath\n",
    "import functools\n",
    "import operator\n",
    "import numpy as np\n",
    "import sympy\n",
    "import mpmath\n",
    "import scipy\n",
    "import qutip \n",
    "import vpython\n",
    "\n",
    "###############################################################################################################\n",
    "\n",
    "def combos(a,b):\n",
    "    f = math.factorial\n",
    "    return f(a) / f(b) / f(a-b)\n",
    "\n",
    "###############################################################################################################\n",
    "\n",
    "class Variable:    \n",
    "    def __init__(self):\n",
    "        self.value = None\n",
    "        self.dependencies = []\n",
    "        self.touched = 0\n",
    "\n",
    "    def tie(self, other, transformation):\n",
    "        self.dependencies.append({\"other\": other, \"transformation\": transformation})\n",
    "\n",
    "    def plug(self, value):\n",
    "        self.value = value\n",
    "        if self.touched == 0:\n",
    "            self.touched = 1\n",
    "        elif self.touched == 1:\n",
    "            self.touched = 0\n",
    "        for dependency in self.dependencies:\n",
    "            other, transformation = dependency[\"other\"], dependency[\"transformation\"]\n",
    "            if other.touched != self.touched:\n",
    "                other.plug(transformation(self.value))\n",
    "\n",
    "    def __str__(self):\n",
    "        return str(self.value)\n",
    "\n",
    "###############################################################################################################\n",
    "\n",
    "class Sphere:\n",
    "    def __init__(self, x, y, z):\n",
    "        self.center = [x, y, z]\n",
    "        self.vsphere = None\n",
    "        self.vspin_axis = None\n",
    "        self.vstars = None\n",
    "        \n",
    "        self.state = Variable()\n",
    "        self.vector = Variable()\n",
    "        self.polynomial = Variable()\n",
    "        self.roots = Variable()\n",
    "        self.xyzs = Variable()\n",
    "        self.angles = Variable()\n",
    "        self.qubits = Variable()\n",
    "  \n",
    "        def state_to_vector(state):\n",
    "            return state.full().T[0]\n",
    "        self.state.tie(self.vector, state_to_vector)\n",
    "\n",
    "        def vector_to_state(vector):\n",
    "            return qutip.Qobj(vector)\n",
    "        self.vector.tie(self.state, vector_to_state)\n",
    "\n",
    "        def vector_to_polynomial(vector):\n",
    "            polynomial = vector.tolist()\n",
    "            return [(((-1)**i) * math.sqrt(combos(len(polynomial)-1,i))) * polynomial[i] for i in range(len(polynomial))] \n",
    "        self.vector.tie(self.polynomial, vector_to_polynomial)\n",
    "\n",
    "        def polynomial_to_vector(polynomial):\n",
    "            coordinates = [polynomial[i]/(((-1)**i) * math.sqrt(combos(len(polynomial)-1,i))) for i in range(len(polynomial))]\n",
    "            return np.array(coordinates)\n",
    "        self.polynomial.tie(self.vector, polynomial_to_vector)\n",
    "\n",
    "        def polynomial_to_roots(polynomial):\n",
    "            try:\n",
    "                return [np.conjugate(complex(root)) for root in mpmath.polyroots(polynomial)]\n",
    "            except:\n",
    "                return [complex(0,0) for i in range(len(polynomial)-1)]\n",
    "        self.polynomial.tie(self.roots, polynomial_to_roots)\n",
    "\n",
    "        def roots_to_polynomial(roots):\n",
    "            s = sympy.symbols(\"s\")\n",
    "            polynomial = sympy.Poly(functools.reduce(lambda a, b: a*b, [s-np.conjugate(root) for root in roots]), domain=\"CC\")\n",
    "            return [complex(c) for c in polynomial.coeffs()]\n",
    "        self.roots.tie(self.polynomial, roots_to_polynomial)\n",
    "\n",
    "        def roots_to_xyzs(roots):\n",
    "            def root_to_xyz(root):\n",
    "                if root == float('inf'):\n",
    "                    return [0,0,1]\n",
    "                x = root.real\n",
    "                y = root.imag\n",
    "                return [(2*x)/(1.+(x**2)+(y**2)),\\\n",
    "                        (2*y)/(1.+(x**2)+(y**2)),\\\n",
    "                        (-1.+(x**2)+(y**2))/(1.+(x**2)+(y**2))]\n",
    "            return [root_to_xyz(root) for root in roots]\n",
    "        self.roots.tie(self.xyzs, roots_to_xyzs)\n",
    "\n",
    "        def xyzs_to_roots(xyzs):\n",
    "            def xyz_to_root(xyz):\n",
    "                x, y, z = xyz[0], xyz[1], xyz[2]\n",
    "                if z == 1:\n",
    "                    return float('inf') \n",
    "                else:\n",
    "                    return complex(x/(1-z), y/(1-z))\n",
    "            return [xyz_to_root(xyz) for xyz in xyzs]\n",
    "        self.xyzs.tie(self.roots, xyzs_to_roots)\n",
    "        \n",
    "        # theta: colatitude with respect to z-axis\n",
    "        # phi: longitude with respect to y-axis\n",
    "                \n",
    "        def xyzs_to_angles(xyzs):\n",
    "            def xyz_to_angle(xyz):\n",
    "                x, y, z = xyz\n",
    "                r = math.sqrt(x**2 + y**2 + z**2)\n",
    "                latitude = math.asin(z/r)\n",
    "                colatitude = (math.pi/2.)-latitude\n",
    "                longitude = None\n",
    "                if x > 0:\n",
    "                    longitude = math.atan(y/x)\n",
    "                elif y > 0:\n",
    "                    longitude = math.atan(y/x) + math.pi\n",
    "                else:\n",
    "                    longitude = math.atan(y/x) - math.pi\n",
    "                return (colatitude, longitude)\n",
    "            return [xyz_to_angle(xyz) for xyz in xyzs]\n",
    "        self.xyzs.tie(self.angles, xyzs_to_angles)\n",
    "        \n",
    "        def angles_to_xyzs(angles):\n",
    "            def angle_to_xyz(angle):\n",
    "                theta, phi = angle\n",
    "                return [math.sin(theta)*math.cos(phi),\\\n",
    "                        math.sin(theta)*math.sin(phi),\\\n",
    "                        math.cos(theta)]\n",
    "            return [angle_to_xyz(angle) for angle in angles]\n",
    "        self.angles.tie(self.xyzs, angles_to_xyzs)\n",
    "        \n",
    "        def angles_to_qubits(angles):\n",
    "            def angle_to_qubit(angle):\n",
    "                theta, phi = angle\n",
    "                qubit = [math.cos(theta/2.), math.sin(theta/2.)*cmath.exp(complex(0,1)*phi)]\n",
    "                return qutip.Qobj(np.array(qubit))\n",
    "            return [angle_to_qubit(angle) for angle in angles]\n",
    "        self.angles.tie(self.qubits, angles_to_qubits)\n",
    "        \n",
    "        def qubits_to_angles(qubits):\n",
    "            def qubit_to_angle(qubit):\n",
    "                alpha, beta = qubit.full().T[0].tolist()\n",
    "                alpha_r, alpha_theta = cmath.polar(alpha)\n",
    "                beta_r, beta_theta = cmath.polar(beta)      \n",
    "                theta = 2*math.acos(abs(alpha_r))\n",
    "                phi = beta_theta-alpha_theta\n",
    "                return (theta, phi)\n",
    "            return [qubit_to_angle(qubit) for qubit in qubits]\n",
    "        self.qubits.tie(self.angles, qubits_to_angles)\n",
    "        \n",
    "    def visualize(self):\n",
    "        if self.state.value != None:\n",
    "            if self.vsphere == None:\n",
    "                self.vsphere = vpython.sphere()\n",
    "            if self.vspin_axis == None:\n",
    "                self.vspin_axis = vpython.arrow()\n",
    "            if self.vstars == None:\n",
    "                self.vstars = [vpython.sphere() for i in range(len(self.xyzs.value))]\n",
    "            vpython.rate(100)\n",
    "            self.vsphere.pos = vpython.vector(*self.center)\n",
    "            self.vsphere.radius = np.linalg.norm(np.array(self.spin_axis()))\n",
    "            self.vsphere.color = vpython.color.blue\n",
    "            self.vsphere.opacity = 0.4\n",
    "            self.vspin_axis.pos = vpython.vector(*self.center)\n",
    "            self.vspin_axis.axis = vpython.vector(*self.spin_axis())\n",
    "            for i in range(len(self.vstars)):\n",
    "                self.vstars[i].pos = self.vsphere.radius*vpython.vector(*self.xyzs.value[i])\n",
    "                self.vstars[i].radius = 0.1*self.vsphere.radius\n",
    "                self.vstars[i].color = vpython.color.white\n",
    "                self.vstars[i].opacity = 0.8\n",
    "    \n",
    "    def spin_operators(self):\n",
    "        if self.state.value != None:\n",
    "            n = len(self.vector.value)\n",
    "            spin = (n-1.)/2.\n",
    "            return {\"X\": qutip.jmat(spin, \"x\"),\\\n",
    "                    \"Y\": qutip.jmat(spin, \"y\"),\\\n",
    "                    \"Z\": qutip.jmat(spin, \"z\"),\\\n",
    "                    \"+\": qutip.jmat(spin, \"+\"),\\\n",
    "                    \"-\": qutip.jmat(spin, \"-\")}\n",
    "    \n",
    "    def qubit_operators(self):\n",
    "        return {\"X\": qutip.jmat(0.5, \"x\"),\\\n",
    "                \"Y\": qutip.jmat(0.5, \"y\"),\\\n",
    "                \"Z\": qutip.jmat(0.5, \"z\")}\n",
    "    \n",
    "    def spin_axis(self):\n",
    "        spin_ops = self.spin_operators()\n",
    "        return [-1*qutip.expect(spin_ops[\"X\"], self.state.value),\\\n",
    "                qutip.expect(spin_ops[\"Y\"], self.state.value),\\\n",
    "                qutip.expect(spin_ops[\"Z\"], self.state.value)]\n",
    "    \n",
    "    def evolve(self, hermitian, inverse=False, dt=0.007):\n",
    "        unitary = qutip.Qobj(scipy.linalg.expm(-2*math.pi*complex(0,1)*hermitian.full()*dt))\n",
    "        if inverse:\n",
    "            unitary = unitary.dag()\n",
    "        self.state.plug(unitary*self.state.value)\n",
    "        \n",
    "    def evolve_qubit(self, i, hermitian, inverse=False, dt=0.007):\n",
    "        unitary = qutip.Qobj(scipy.linalg.expm(-2*math.pi*complex(0,1)*hermitian.full()*dt))\n",
    "        if inverse:\n",
    "            unitary = unitary.dag()\n",
    "        qubits = self.qubits.value[:]\n",
    "        qubits[i] = unitary*qubits[i]\n",
    "        self.qubits.plug(qubits)\n",
    "\n",
    "###############################################################################################################\n",
    "\n",
    "sphere = Sphere(0,0,0)\n",
    "\n",
    "###############################################################################################################\n",
    "\n",
    "vpython.scene.width = 900\n",
    "vpython.scene.height = 900\n",
    "\n",
    "selected = None\n",
    "\n",
    "def mouse(event):\n",
    "    global sphere\n",
    "    global selected\n",
    "    selected = vpython.scene.mouse.pick\n",
    "vpython.scene.bind('click', mouse)\n",
    "\n",
    "def keyboard(event):\n",
    "    global sphere\n",
    "    global selected\n",
    "    key = event.key\n",
    "    spin_ops = sphere.spin_operators()\n",
    "    qubit_ops = sphere.qubit_operators()\n",
    "    if key == \"a\":  \n",
    "        sphere.evolve(spin_ops[\"X\"], inverse=True)\n",
    "    elif key == \"d\": \n",
    "        sphere.evolve(spin_ops[\"X\"], inverse=False)\n",
    "    elif key == \"s\": \n",
    "        sphere.evolve(spin_ops[\"Z\"], inverse=True)\n",
    "    elif key == \"w\": \n",
    "        sphere.evolve(spin_ops[\"Z\"], inverse=False)\n",
    "    elif key == \"z\": \n",
    "        sphere.evolve(spin_ops[\"Y\"], inverse=True)\n",
    "    elif key == \"x\": \n",
    "        sphere.evolve(spin_ops[\"Y\"], inverse=False)\n",
    "    elif key == \"q\": \n",
    "        sphere.evolve(spin_ops[\"-\"], inverse=False)\n",
    "    elif key == \"1\":\n",
    "        sphere.evolve(spin_ops[\"-\"], inverse=True)\n",
    "    elif key == \"e\":\n",
    "        sphere.evolve(spin_ops[\"+\"], inverse=False)\n",
    "    elif key == \"3\":\n",
    "        sphere.evolve(spin_ops[\"+\"], inverse=True)   \n",
    "    elif key == \"j\":\n",
    "        if selected and selected in sphere.vstars:\n",
    "            i = sphere.vstars.index(selected)\n",
    "            sphere.evolve_qubit(i, qubit_ops[\"X\"], inverse=True)\n",
    "    elif key == \"l\": \n",
    "        if selected and selected in sphere.vstars:\n",
    "            i = sphere.vstars.index(selected)\n",
    "            sphere.evolve_qubit(i, qubit_ops[\"X\"], inverse=False)\n",
    "    elif key == \"k\": \n",
    "        if selected and selected in sphere.vstars:\n",
    "            i = sphere.vstars.index(selected)\n",
    "            sphere.evolve_qubit(i, qubit_ops[\"Z\"], inverse=True)\n",
    "    elif key == \"i\": \n",
    "        if selected and selected in sphere.vstars:\n",
    "            i = sphere.vstars.index(selected)\n",
    "            sphere.evolve_qubit(i, qubit_ops[\"Z\"], inverse=False)\n",
    "    elif key == \"m\": \n",
    "        if selected:\n",
    "            i = sphere.vstars.index(selected)\n",
    "            sphere.evolve_qubit(i, qubit_ops[\"Y\"], inverse=True)\n",
    "    elif key == \",\": \n",
    "        if selected and selected in sphere.vstars:\n",
    "            i = sphere.vstars.index(selected)\n",
    "            sphere.evolve_qubit(i, qubit_ops[\"Y\"], inverse=False)\n",
    "vpython.scene.bind('keydown', keyboard)\n",
    "\n",
    "###############################################################################################################\n",
    "\n",
    "sphere.state.plug(qutip.rand_ket(4))\n",
    "while True:\n",
    "    sphere.visualize()"
   ]
  },
  {
   "cell_type": "code",
   "execution_count": null,
   "metadata": {
    "collapsed": true
   },
   "outputs": [],
   "source": []
  }
 ],
 "metadata": {
  "kernelspec": {
   "display_name": "VPython",
   "language": "python",
   "name": "vpython"
  },
  "language_info": {
   "codemirror_mode": {
    "name": "ipython",
    "version": 3
   },
   "file_extension": ".py",
   "mimetype": "text/x-python",
   "name": "python",
   "nbconvert_exporter": "python",
   "pygments_lexer": "ipython3",
   "version": "3.6.3"
  }
 },
 "nbformat": 4,
 "nbformat_minor": 2
}
