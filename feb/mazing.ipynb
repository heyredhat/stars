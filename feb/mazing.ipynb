{
 "cells": [
  {
   "cell_type": "code",
   "execution_count": null,
   "metadata": {
    "scrolled": false
   },
   "outputs": [
    {
     "data": {
      "application/javascript": [
       "require.undef(\"nbextensions/vpython_libraries/glow.min\");"
      ],
      "text/plain": [
       "<IPython.core.display.Javascript object>"
      ]
     },
     "metadata": {},
     "output_type": "display_data"
    },
    {
     "data": {
      "application/javascript": [
       "require.undef(\"nbextensions/vpython_libraries/glowcomm\");"
      ],
      "text/plain": [
       "<IPython.core.display.Javascript object>"
      ]
     },
     "metadata": {},
     "output_type": "display_data"
    },
    {
     "data": {
      "application/javascript": [
       "require.undef(\"nbextensions/vpython_libraries/jquery-ui.custom.min\");"
      ],
      "text/plain": [
       "<IPython.core.display.Javascript object>"
      ]
     },
     "metadata": {},
     "output_type": "display_data"
    },
    {
     "data": {
      "application/javascript": [
       "require([\"nbextensions/vpython_libraries/glow.min\"], function(){console.log(\"GLOW LOADED\");})"
      ],
      "text/plain": [
       "<IPython.core.display.Javascript object>"
      ]
     },
     "metadata": {},
     "output_type": "display_data"
    },
    {
     "data": {
      "application/javascript": [
       "require([\"nbextensions/vpython_libraries/glowcomm\"], function(){console.log(\"GLOWCOMM LOADED\");})"
      ],
      "text/plain": [
       "<IPython.core.display.Javascript object>"
      ]
     },
     "metadata": {},
     "output_type": "display_data"
    },
    {
     "data": {
      "application/javascript": [
       "require([\"nbextensions/vpython_libraries/jquery-ui.custom.min\"], function(){console.log(\"JQUERY LOADED\");})"
      ],
      "text/plain": [
       "<IPython.core.display.Javascript object>"
      ]
     },
     "metadata": {},
     "output_type": "display_data"
    },
    {
     "data": {
      "text/html": [
       "<div id=\"glowscript\" class=\"glowscript\"></div>"
      ],
      "text/plain": [
       "<IPython.core.display.HTML object>"
      ]
     },
     "metadata": {},
     "output_type": "display_data"
    },
    {
     "data": {
      "application/javascript": [
       "window.__context = { glowscript_container: $(\"#glowscript\").removeAttr(\"id\")}"
      ],
      "text/plain": [
       "<IPython.core.display.Javascript object>"
      ]
     },
     "metadata": {},
     "output_type": "display_data"
    }
   ],
   "source": [
    "import math\n",
    "import cmath\n",
    "import functools\n",
    "import operator\n",
    "import numpy as np\n",
    "import sympy\n",
    "import mpmath\n",
    "import scipy\n",
    "import qutip \n",
    "import vpython\n",
    "\n",
    "##################################################################################################################\n",
    "\n",
    "def c_xyz(c):\n",
    "    if c == float('inf'):\n",
    "        return [0,0,1]\n",
    "    x = c.real\n",
    "    y = c.imag\n",
    "    return [(2*x)/(1.+(x**2)+(y**2)),\\\n",
    "            (2*y)/(1.+(x**2)+(y**2)),\\\n",
    "            (-1.+(x**2)+(y**2))/(1.+(x**2)+(y**2))]\n",
    "\n",
    "def xyz_c(xyz):\n",
    "    x, y, z = xyz[0], xyz[1], xyz[2]\n",
    "    if z == 1:\n",
    "        return float('inf') \n",
    "    else:\n",
    "        return complex(x/(1-z), y/(1-z))\n",
    "\n",
    "def polynomial_v(polynomial):\n",
    "    coordinates = [polynomial[i]/(((-1)**i) * math.sqrt(combos(len(polynomial)-1,i))) for i in range(len(polynomial))]\n",
    "    return np.array(coordinates)\n",
    "\n",
    "def combos(a,b):\n",
    "    f = math.factorial\n",
    "    return f(a) / f(b) / f(a-b)\n",
    "\n",
    "def v_polynomial(v):\n",
    "    polynomial = v.tolist()\n",
    "    return [(((-1)**i) * math.sqrt(combos(len(polynomial)-1,i))) * polynomial[i] for i in range(len(polynomial))] \n",
    "\n",
    "def C_polynomial(roots):\n",
    "    s = sympy.symbols(\"s\")\n",
    "    polynomial = sympy.Poly(functools.reduce(lambda a, b: a*b, [s-np.conjugate(root) for root in roots]), domain=\"CC\")\n",
    "    return [complex(c) for c in polynomial.coeffs()]\n",
    "\n",
    "def polynomial_C(polynomial):\n",
    "    try:\n",
    "        roots = [np.conjugate(complex(root)) for root in mpmath.polyroots(polynomial)]\n",
    "    except:\n",
    "        return [complex(0,0) for i in range(len(polynomial)-1)]\n",
    "    return roots\n",
    "\n",
    "def C_v(roots):\n",
    "    return polynomial_v(C_polynomial(roots))\n",
    "\n",
    "def v_C(v):\n",
    "    return polynomial_C(v_polynomial(v))\n",
    "\n",
    "def v_SurfaceXYZ(v):\n",
    "    return [c_xyz(c) for c in v_C(v)]\n",
    "\n",
    "def SurfaceXYZ_v(XYZ):\n",
    "    return C_v([xyz_c(xyz) for xyz in XYZ])\n",
    "\n",
    "def q_SurfaceXYZ(q):\n",
    "    return v_SurfaceXYZ(q.full().T[0])\n",
    "\n",
    "def SurfaceXYZ_q(XYZ):\n",
    "    return Qobj(C_v([xyz_c(xyz) for xyz in XYZ]))\n",
    "\n",
    "##################################################################################################################\n",
    "\n",
    "def collapser(dims):\n",
    "    if all(isinstance(d, int) for d in dims):\n",
    "        return functools.reduce(operator.mul, dims, 1)\n",
    "    else:\n",
    "        new_dims = []\n",
    "        for d in dims:\n",
    "            if isinstance(d, int):\n",
    "                new_dims.append(d)\n",
    "            else:\n",
    "                new_dims.append(collapser(d))\n",
    "        return collapser(new_dims)\n",
    "\n",
    "def collapse(dims):\n",
    "    new_dims = []\n",
    "    for d in dims:\n",
    "        if isinstance(d, int):\n",
    "            new_dims.append(d)\n",
    "        else:\n",
    "            new_dims.append(collapser(d))\n",
    "    return new_dims\n",
    "\n",
    "def sigmoid(x):  \n",
    "    return 2*(math.exp(-np.logaddexp(0, -x))-0.5)\n",
    "\n",
    "def normalize(v):\n",
    "    norm = np.linalg.norm(v)\n",
    "    if norm == 0: \n",
    "       return v\n",
    "    return v / norm\n",
    "\n",
    "##################################################################################################################\n",
    "\n",
    "\n",
    "class Sphere:\n",
    "    def __init__(self, state=None, dimensionality=None, energy=None, parent=None):\n",
    "        self.state = state\n",
    "        self.dimensionality = dimensionality\n",
    "        self.energy = energy\n",
    "        self.parent = parent\n",
    "\n",
    "        self.spin = self.total_spin()\n",
    "        self.stars = self.constellate()\n",
    "        self.children = []\n",
    "        self.bear_children\n",
    "        \n",
    "        self.vsphere = vpython.sphere(pos=vpython.vector(*self.center()),\\\n",
    "                                      radius=self.radius(),\\\n",
    "                                      color=vpython.color.hsv_to_rgb(vpython.vector(sigmoid(self.color()),1,1)),\\\n",
    "                                      opacity=0.1,\n",
    "                                      emissive=False)\n",
    "        self.vstars = [vpython.sphere(pos=vpython.vector(*((self.radius()*star[\"pos\"])+np.array(self.center()))),\\\n",
    "                                      radius=star[\"radius\"],\\\n",
    "                                      color=star[\"color\"],\\\n",
    "                                      opacity=star[\"opacity\"],\\\n",
    "                                      emissive=True) for star in self.stars]\n",
    "        #self.varrows = []\n",
    "        #for vstar in self.vstars:\n",
    "        #    self.varrows.append(vpython.curve(pos=[vstar.pos, vpython.vector(*self.center())],\\\n",
    "        #                                      color=vstar.color))\n",
    "            \n",
    "    def constellate(self):\n",
    "        old_dims = list(self.state.dims)\n",
    "        n = collapser(self.dimensionality)\n",
    "        self.state.dims = [[n], [n]]\n",
    "        eigenvalues, eigenvectors = self.state.eigenstates()\n",
    "        normalized_eigenvalues = normalize(eigenvalues) \n",
    "        eigenstars = []\n",
    "        for i in range(n):\n",
    "            eigenstars.extend([{\"pos\": (normalized_eigenvalues[i])*np.array(xyz), \n",
    "                                \"radius\": 0.1*self.radius(),\\\n",
    "                                \"color\": vpython.color.hsv_to_rgb(vpython.vector(sigmoid(eigenvalues[i]),1,1)), \n",
    "                                \"opacity\": sigmoid(normalized_eigenvalues[i])} \n",
    "                                       for xyz in q_SurfaceXYZ(eigenvectors[i])])\n",
    "        self.state.dims = old_dims\n",
    "        return eigenstars\n",
    "    \n",
    "    def bear_children(self):\n",
    "        dim = collapse(self.dimensionality)\n",
    "        self.state.dims = [dim, dim]\n",
    "        distinguishable_subspaces = len(dim)\n",
    "        if distinguishable_subspaces > 1:\n",
    "            child_states = [self.state.ptrace(i) for i in range(distinguishable_subspaces)]\n",
    "            if self.children == []:\n",
    "                for i in range(distinguishable_subspaces):\n",
    "                    child_dim = None\n",
    "                    if isinstance(self.dimensionality[i], int):\n",
    "                        child_dim = [self.dimensionality[i]]\n",
    "                    else:\n",
    "                        child_dim = self.dimensionality[i]\n",
    "                    self.children.append(Sphere(state=child_states[i], dimensionality=child_dim, parent=self))\n",
    "            else:\n",
    "                for i in range(distinguishable_subspaces):\n",
    "                    self.children[i].state = child_states[i]\n",
    "    \n",
    "    def evolve(self, dt=0.01):\n",
    "        if self.energy != None:\n",
    "            unitary = qutip.Qobj(scipy.linalg.expm(-2*math.pi*complex(0,1)*self.energy.full()*dt))\n",
    "            unitary.dims = self.state.dims\n",
    "            self.state = unitary*self.state*unitary.dag()\n",
    "\n",
    "    def total_spin(self):\n",
    "        old_dims = list(self.state.dims)\n",
    "        n = collapser(self.dimensionality)\n",
    "        self.state.dims = [[n], [n]]\n",
    "        T = qutip.identity(n)\n",
    "        X, Y, Z = qutip.jmat((n-1.)/2.)\n",
    "        t = qutip.expect(T, self.state)\n",
    "        x = qutip.expect(X, self.state)\n",
    "        y = qutip.expect(Y, self.state)\n",
    "        z = qutip.expect(Z, self.state)\n",
    "        spin = np.array([t, x, y, z])\n",
    "        magnitude = np.linalg.norm(spin)\n",
    "        if magnitude != 0:\n",
    "            spin = spin / magnitude\n",
    "        self.state.dims = old_dims\n",
    "        return spin.tolist()\n",
    "\n",
    "    def center(self):\n",
    "        if self.parent == None:\n",
    "            return [0,0,0]\n",
    "        else:\n",
    "            parent_center = self.parent.center()\n",
    "            return [parent_center[i]+self.total_spin()[i+1] for i in range(3)]\n",
    "\n",
    "    def color(self):\n",
    "        return self.total_spin()[0]\n",
    "\n",
    "    def radius(self):\n",
    "        if self.parent == None:\n",
    "            return 1\n",
    "        else:\n",
    "            return (1./2)*self.parent.radius()\n",
    "        \n",
    "    def revolve(self):\n",
    "        self.spin = self.total_spin()\n",
    "        self.vsphere.pos = vpython.vector(*self.center())\n",
    "        self.vsphere.radius = self.radius()\n",
    "        self.vsphere.color = vpython.color.hsv_to_rgb(vpython.vector(sigmoid(self.color()),1,1))\n",
    "            \n",
    "    def cycle(self):\n",
    "        self.evolve()\n",
    "        self.stars = self.constellate()\n",
    "        for i in range(len(self.stars)):\n",
    "            self.vstars[i].pos = vpython.vector(*((self.radius()*self.stars[i][\"pos\"])+np.array(self.center())))\n",
    "            self.vstars[i].radius = self.stars[i][\"radius\"]\n",
    "            self.vstars[i].color = self.stars[i][\"color\"]\n",
    "            self.vstars[i].opacity = self.stars[i][\"opacity\"]\n",
    "            #self.varrows[i].modify(0, pos=self.vstars[i].pos)\n",
    "            #self.varrows[i].modify(1, pos=vpython.vector(*self.center()))\n",
    "            #self.varrows[i].color = self.vstars[i].color\n",
    "        self.bear_children()\n",
    "        self.revolve()\n",
    "        for child in self.children:\n",
    "            child.cycle()\n",
    "\n",
    "##################################################################################################################\n",
    "\n",
    "def random_sphere(dimensionality):\n",
    "    n = collapser(dimensionality)\n",
    "    pure_state = qutip.rand_ket(n)\n",
    "    state = pure_state.ptrace(0)\n",
    "    #state = qutip.rand_herm(n)\n",
    "    energy = qutip.rand_herm(n)\n",
    "    return Sphere(state=state, dimensionality=dimensionality, energy=energy)\n",
    "\n",
    "vpython.scene.width = 900\n",
    "vpython.scene.height = 900\n",
    "vpython.scene.range = math.pi\n",
    "vpython.scene.forward = vpython.vector(-1, 0, 0)\n",
    "vpython.scene.up = vpython.vector(0, 1, 0)\n",
    "\n",
    "sphere = random_sphere([2,2,2])\n",
    "\n",
    "while True:\n",
    "    vpython.rate(10)\n",
    "    sphere.cycle()"
   ]
  },
  {
   "cell_type": "code",
   "execution_count": null,
   "metadata": {
    "collapsed": true
   },
   "outputs": [],
   "source": []
  }
 ],
 "metadata": {
  "kernelspec": {
   "display_name": "VPython",
   "language": "python",
   "name": "vpython"
  },
  "language_info": {
   "codemirror_mode": {
    "name": "ipython",
    "version": 3
   },
   "file_extension": ".py",
   "mimetype": "text/x-python",
   "name": "python",
   "nbconvert_exporter": "python",
   "pygments_lexer": "ipython3",
   "version": "3.6.3"
  }
 },
 "nbformat": 4,
 "nbformat_minor": 2
}
