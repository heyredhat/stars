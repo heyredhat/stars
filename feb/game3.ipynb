{
 "cells": [
  {
   "cell_type": "code",
   "execution_count": null,
   "metadata": {},
   "outputs": [
    {
     "data": {
      "application/javascript": [
       "require.undef(\"nbextensions/vpython_libraries/glow.min\");"
      ],
      "text/plain": [
       "<IPython.core.display.Javascript object>"
      ]
     },
     "metadata": {},
     "output_type": "display_data"
    },
    {
     "data": {
      "application/javascript": [
       "require.undef(\"nbextensions/vpython_libraries/glowcomm\");"
      ],
      "text/plain": [
       "<IPython.core.display.Javascript object>"
      ]
     },
     "metadata": {},
     "output_type": "display_data"
    },
    {
     "data": {
      "application/javascript": [
       "require.undef(\"nbextensions/vpython_libraries/jquery-ui.custom.min\");"
      ],
      "text/plain": [
       "<IPython.core.display.Javascript object>"
      ]
     },
     "metadata": {},
     "output_type": "display_data"
    },
    {
     "data": {
      "application/javascript": [
       "require([\"nbextensions/vpython_libraries/glow.min\"], function(){console.log(\"GLOW LOADED\");})"
      ],
      "text/plain": [
       "<IPython.core.display.Javascript object>"
      ]
     },
     "metadata": {},
     "output_type": "display_data"
    },
    {
     "data": {
      "application/javascript": [
       "require([\"nbextensions/vpython_libraries/glowcomm\"], function(){console.log(\"GLOWCOMM LOADED\");})"
      ],
      "text/plain": [
       "<IPython.core.display.Javascript object>"
      ]
     },
     "metadata": {},
     "output_type": "display_data"
    },
    {
     "data": {
      "application/javascript": [
       "require([\"nbextensions/vpython_libraries/jquery-ui.custom.min\"], function(){console.log(\"JQUERY LOADED\");})"
      ],
      "text/plain": [
       "<IPython.core.display.Javascript object>"
      ]
     },
     "metadata": {},
     "output_type": "display_data"
    },
    {
     "data": {
      "text/html": [
       "<div id=\"glowscript\" class=\"glowscript\"></div>"
      ],
      "text/plain": [
       "<IPython.core.display.HTML object>"
      ]
     },
     "metadata": {},
     "output_type": "display_data"
    },
    {
     "data": {
      "application/javascript": [
       "window.__context = { glowscript_container: $(\"#glowscript\").removeAttr(\"id\")}"
      ],
      "text/plain": [
       "<IPython.core.display.Javascript object>"
      ]
     },
     "metadata": {},
     "output_type": "display_data"
    }
   ],
   "source": [
    "import qutip\n",
    "import vpython\n",
    "import math\n",
    "import scipy\n",
    "import numpy as np\n",
    "\n",
    "vpython.scene.width = 1000\n",
    "vpython.scene.height = 600\n",
    "\n",
    "def state_xyz(state):\n",
    "    x = qutip.expect(qutip.sigmax(), state)\n",
    "    y = qutip.expect(qutip.sigmay(), state)\n",
    "    z = qutip.expect(qutip.sigmaz(), state)\n",
    "    return [x, y, z]\n",
    "    \n",
    "class Sphere:\n",
    "    def __init__(self, state, center, color):\n",
    "        self.state = state\n",
    "        self.center = center\n",
    "        self.color = color\n",
    "        self.vsphere = vpython.sphere(pos=vpython.vector(*self.center),\\\n",
    "                                      radius=1.0,\\\n",
    "                                      color=self.color,\\\n",
    "                                      opacity=0.5)\n",
    "        \n",
    "        self.eigenvalues, self.eigenvectors = self.state.eigenstates()\n",
    "        self.vstars = [vpython.sphere(pos=self.vsphere.pos+\\\n",
    "                                          vpython.vector(*state_xyz(self.eigenvectors[i])),\\\n",
    "                                      radius=0.1,\\\n",
    "                                      color=vpython.color.white,\\\n",
    "                                      opacity=0.7)\\\n",
    "                                          for i in range(len(self.eigenvectors))]\n",
    "        self.varrows = [vpython.curve(pos=[self.vsphere.pos,\\\n",
    "                                           self.vstars[i].pos],\\\n",
    "                                      color=self.color)\\\n",
    "                                           for i in range(len(self.eigenvectors))]\n",
    "    \n",
    "    def update(self):\n",
    "        self.eigenvalues, self.eigenvectors = self.state.eigenstates()\n",
    "        for i in range(len(self.eigenvectors)):\n",
    "            self.vstars[i].pos = self.vsphere.pos+\\\n",
    "                                vpython.vector(*state_xyz(self.eigenvectors[i]))\n",
    "            self.varrows[i].modify(0, pos=self.vsphere.pos)\n",
    "            self.varrows[i].modify(1, pos=self.vstars[i].pos)\n",
    "    \n",
    "    def apply(self, operator, inverse=False, dt=0.01):\n",
    "        unitary = qutip.Qobj(scipy.linalg.expm(-2*math.pi*complex(0,1)*operator.full()*dt))\n",
    "        if inverse:\n",
    "            unitary = unitary.dag()\n",
    "        self.state = unitary*self.state*unitary.dag()\n",
    "\n",
    "A = Sphere(qutip.rand_ket(2).ptrace(0), [-1.5, 0, 0], vpython.color.red)\n",
    "B = Sphere(qutip.rand_ket(2).ptrace(0), [1.5, 0, 0], vpython.color.blue)\n",
    "\n",
    "#vb_in_a = vpython.sphere(pos=vpython.vector(0,0,0), radius=0.2, color=vpython.color.red, opacity=0.5)\n",
    "#va_in_b = vpython.sphere(pos=vpython.vector(0,0,0), radius=0.2, color=vpython.color.blue, opacity=0.5)\n",
    "\n",
    "def keyboard(event):\n",
    "    global A\n",
    "    global B\n",
    "    key = event.key\n",
    "    operator = None\n",
    "    if key == \"a\":   #-x for A\n",
    "        A.apply(qutip.sigmax(), True)\n",
    "    elif key == \"d\": #+x for A\n",
    "        A.apply(qutip.sigmax(), False)\n",
    "    elif key == \"s\": #-z for A\n",
    "        A.apply(qutip.sigmaz(), True)\n",
    "    elif key == \"w\": #+z for A\n",
    "        A.apply(qutip.sigmaz(), False)\n",
    "    elif key == \"z\": #-y for A\n",
    "        A.apply(qutip.sigmay(), True)\n",
    "    elif key == \"x\": #+y for A\n",
    "        A.apply(qutip.sigmay(), False)\n",
    "    elif key == \"j\": #-x for B\n",
    "        B.apply(qutip.sigmax(), True)\n",
    "    elif key == \"l\": #+x for B\n",
    "        B.apply(qutip.sigmax(), False)\n",
    "    elif key == \"k\": #-z for B\n",
    "        B.apply(qutip.sigmaz(), True)\n",
    "    elif key == \"i\": #+z for B\n",
    "        B.apply(qutip.sigmaz(), False)\n",
    "    elif key == \"m\": #-y for B\n",
    "        B.apply(qutip.sigmay(), True)\n",
    "    elif key == \",\": #+y for B\n",
    "        B.apply(qutip.sigmay(), False)\n",
    "\n",
    "vpython.scene.bind('keydown', keyboard)\n",
    "\n",
    "\n",
    "while True:\n",
    "    vpython.rate(50)\n",
    "    A.update()\n",
    "    B.update()\n",
    "    #a_according_to_b = a.transform(b)\n",
    "    #ab_x = qutip.expect(qutip.sigmax(), a_according_to_b)\n",
    "    #ab_y = qutip.expect(qutip.sigmay(), a_according_to_b)\n",
    "    #ab_z = qutip.expect(qutip.sigmaz(), a_according_to_b)\n",
    "    #ab_t, ab_x, ab_y, ab_z = poo(a_according_to_b)\n",
    "    #va_in_b.pos = vpython.vector(ab_x+1.5, ab_y, ab_z)\n",
    "    \n",
    "    #b_according_to_a = b.transform(a)\n",
    "    #ba_x = qutip.expect(qutip.sigmax(), b_according_to_a)\n",
    "    #ba_y = qutip.expect(qutip.sigmay(), b_according_to_a)\n",
    "    #ba_z = qutip.expect(qutip.sigmaz(), b_according_to_a)\n",
    "    #ba_t, ba_x, ba_y, ba_z = poo(b_according_to_a)\n",
    "    #vb_in_a.pos = vpython.vector(ba_x-1.5, ba_y, ba_z)\n"
   ]
  },
  {
   "cell_type": "code",
   "execution_count": null,
   "metadata": {
    "collapsed": true
   },
   "outputs": [],
   "source": []
  }
 ],
 "metadata": {
  "kernelspec": {
   "display_name": "VPython",
   "language": "python",
   "name": "vpython"
  },
  "language_info": {
   "codemirror_mode": {
    "name": "ipython",
    "version": 3
   },
   "file_extension": ".py",
   "mimetype": "text/x-python",
   "name": "python",
   "nbconvert_exporter": "python",
   "pygments_lexer": "ipython3",
   "version": "3.6.3"
  }
 },
 "nbformat": 4,
 "nbformat_minor": 2
}
