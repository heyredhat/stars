{
 "cells": [
  {
   "cell_type": "code",
   "execution_count": null,
   "metadata": {},
   "outputs": [
    {
     "data": {
      "application/javascript": [
       "require.undef(\"nbextensions/vpython_libraries/glow.min\");"
      ],
      "text/plain": [
       "<IPython.core.display.Javascript object>"
      ]
     },
     "metadata": {},
     "output_type": "display_data"
    },
    {
     "data": {
      "application/javascript": [
       "require.undef(\"nbextensions/vpython_libraries/glowcomm\");"
      ],
      "text/plain": [
       "<IPython.core.display.Javascript object>"
      ]
     },
     "metadata": {},
     "output_type": "display_data"
    },
    {
     "data": {
      "application/javascript": [
       "require.undef(\"nbextensions/vpython_libraries/jquery-ui.custom.min\");"
      ],
      "text/plain": [
       "<IPython.core.display.Javascript object>"
      ]
     },
     "metadata": {},
     "output_type": "display_data"
    },
    {
     "data": {
      "application/javascript": [
       "require([\"nbextensions/vpython_libraries/glow.min\"], function(){console.log(\"GLOW LOADED\");})"
      ],
      "text/plain": [
       "<IPython.core.display.Javascript object>"
      ]
     },
     "metadata": {},
     "output_type": "display_data"
    },
    {
     "data": {
      "application/javascript": [
       "require([\"nbextensions/vpython_libraries/glowcomm\"], function(){console.log(\"GLOWCOMM LOADED\");})"
      ],
      "text/plain": [
       "<IPython.core.display.Javascript object>"
      ]
     },
     "metadata": {},
     "output_type": "display_data"
    },
    {
     "data": {
      "application/javascript": [
       "require([\"nbextensions/vpython_libraries/jquery-ui.custom.min\"], function(){console.log(\"JQUERY LOADED\");})"
      ],
      "text/plain": [
       "<IPython.core.display.Javascript object>"
      ]
     },
     "metadata": {},
     "output_type": "display_data"
    },
    {
     "data": {
      "text/html": [
       "<div id=\"glowscript\" class=\"glowscript\"></div>"
      ],
      "text/plain": [
       "<IPython.core.display.HTML object>"
      ]
     },
     "metadata": {},
     "output_type": "display_data"
    },
    {
     "data": {
      "application/javascript": [
       "window.__context = { glowscript_container: $(\"#glowscript\").removeAttr(\"id\")}"
      ],
      "text/plain": [
       "<IPython.core.display.Javascript object>"
      ]
     },
     "metadata": {},
     "output_type": "display_data"
    }
   ],
   "source": [
    "import qutip\n",
    "import vpython\n",
    "import math\n",
    "import scipy\n",
    "import numpy as np\n",
    "\n",
    "vpython.scene.width = 1000\n",
    "vpython.scene.height = 600\n",
    "\n",
    "def state_xyz(state):\n",
    "    x = qutip.expect(qutip.sigmax(), state)\n",
    "    y = qutip.expect(qutip.sigmay(), state)\n",
    "    z = qutip.expect(qutip.sigmaz(), state)\n",
    "    return [x, y, z]\n",
    "\n",
    "def sigmoid(x):  \n",
    "    return 2*(math.exp(-np.logaddexp(0, -x))-0.5)\n",
    "\n",
    "def normalize(v):\n",
    "    norm = np.linalg.norm(v)\n",
    "    if norm == 0: \n",
    "       return v\n",
    "    return v / norm\n",
    "    \n",
    "class Sphere:\n",
    "    def __init__(self, state, center, color, radius=1.0):\n",
    "        self.pure = state\n",
    "        self.state = self.pure.ptrace(0)\n",
    "        self.center = center\n",
    "        self.color = color\n",
    "        self.radius = radius \n",
    "        \n",
    "        self.vsphere = vpython.sphere(pos=vpython.vector(*self.center),\\\n",
    "                                      radius=self.radius,\\\n",
    "                                      color=self.color,\\\n",
    "                                      opacity=0.4)\n",
    "        \n",
    "        self.vbest = vpython.sphere(pos=self.vsphere.pos+\\\n",
    "                                        self.radius*vpython.vector(*state_xyz(self.pure)),\\\n",
    "                                    radius=0.05*self.radius,\\\n",
    "                                    color=vpython.color.black)\n",
    "        \n",
    "        self.eigenvalues, self.eigenvectors = self.state.eigenstates()\n",
    "        self.vstars = [vpython.sphere(pos=self.vsphere.pos+\\\n",
    "                                          self.radius*vpython.vector(*state_xyz(self.eigenvectors[i])),\\\n",
    "                                      radius=self.radius*0.1,\\\n",
    "                                      color=vpython.color.hsv_to_rgb(vpython.vector(sigmoid(self.eigenvalues[i]),1,1)),\\\n",
    "                                      opacity=0.3)\\\n",
    "                                          for i in range(len(self.eigenvectors))]\n",
    "        self.varrows = [vpython.curve(pos=[self.vsphere.pos,\\\n",
    "                                           self.vstars[i].pos],\\\n",
    "                                      color=self.color)\\\n",
    "                                           for i in range(len(self.eigenvectors))]\n",
    "        self.other = None\n",
    "        self.local_other = None\n",
    "        \n",
    "    def set_other(self, other):\n",
    "        self.other = other\n",
    "        other_according_to_self = self.other.state.transform(self.state)\n",
    "        xyz = state_xyz(other_according_to_self)\n",
    "        center = [self.center[i]+xyz[i] for i in range(3)]\n",
    "        self.local_other = Sphere(other_according_to_self,\\\n",
    "                                  center,\\\n",
    "                                  self.other.color,\\\n",
    "                                  self.other.radius*0.3)\n",
    "    \n",
    "    def update(self):\n",
    "        self.vsphere.pos = vpython.vector(*self.center)\n",
    "        self.vbest.pos = self.vsphere.pos+self.radius*vpython.vector(*state_xyz(self.pure))\n",
    "        self.eigenvalues, self.eigenvectors = self.state.eigenstates()\n",
    "        for i in range(len(self.eigenvectors)):\n",
    "            self.vstars[i].pos = vpython.vector(*self.center)+\\\n",
    "                                 self.radius*vpython.vector(*state_xyz(self.eigenvectors[i]))\n",
    "            #self.vstars[i].radius = sigmoid(self.eigenvalues[i])\n",
    "            self.vstars[i].color = vpython.color.hsv_to_rgb(vpython.vector(sigmoid(self.eigenvalues[i]),1,1))\n",
    "            self.varrows[i].modify(0, pos=self.vsphere.pos)\n",
    "            self.varrows[i].modify(1, pos=self.vstars[i].pos)\n",
    "        if self.other != None:\n",
    "            other_according_to_self = self.other.state.transform(self.state)\n",
    "            self.local_other.state = other_according_to_self\n",
    "            xyz = state_xyz(other_according_to_self)\n",
    "            self.local_other.center = [self.vstars[0].pos.x+2*xyz[0], self.vstars[0].pos.y+2*xyz[1], self.vstars[0].pos.z+2*xyz[2]]\n",
    "            self.local_other.update()\n",
    "        \n",
    "    def apply(self, operator, inverse=False, dt=0.01):\n",
    "        unitary = qutip.Qobj(scipy.linalg.expm(-2*math.pi*complex(0,1)*operator.full()*dt))\n",
    "        if inverse:\n",
    "            unitary = unitary.dag()\n",
    "        self.state = unitary*self.state*unitary.dag()\n",
    "        self.pure = unitary*self.pure\n",
    "\n",
    "A = Sphere(qutip.rand_ket(2), [-1.5, 0, 0], vpython.color.red)\n",
    "B = Sphere(qutip.rand_ket(2), [1.5, 0, 0], vpython.color.blue)\n",
    "\n",
    "#AB = qutip.rand_ket(4)\n",
    "#AB.dims = [[2,2],[1,1]]\n",
    "#A = Sphere(AB.ptrace(0), [-1.5, 0, 0], vpython.color.red)\n",
    "#B = Sphere(AB.ptrace(1), [1.5, 0, 0], vpython.color.blue)\n",
    "#AB.dims = [[4],[1]]\n",
    "\n",
    "A.set_other(B)\n",
    "B.set_other(A)\n",
    "\n",
    "#energy = qutip.rand_herm(4)\n",
    "#energy_unitary = qutip.Qobj(scipy.linalg.expm(-2*math.pi*complex(0,1)*energy.full()*0.001))\n",
    "\n",
    "def keyboard(event):\n",
    "    global A\n",
    "    global B\n",
    "    key = event.key\n",
    "    operator = None\n",
    "    if key == \"a\":   #-x for A\n",
    "        A.apply(qutip.sigmax(), True)\n",
    "    elif key == \"d\": #+x for A\n",
    "        A.apply(qutip.sigmax(), False)\n",
    "    elif key == \"s\": #-z for A\n",
    "        A.apply(qutip.sigmaz(), True)\n",
    "    elif key == \"w\": #+z for A\n",
    "        A.apply(qutip.sigmaz(), False)\n",
    "    elif key == \"z\": #-y for A\n",
    "        A.apply(qutip.sigmay(), True)\n",
    "    elif key == \"x\": #+y for A\n",
    "        A.apply(qutip.sigmay(), False)\n",
    "    elif key == \"j\": #-x for B\n",
    "        B.apply(qutip.sigmax(), True)\n",
    "    elif key == \"l\": #+x for B\n",
    "        B.apply(qutip.sigmax(), False)\n",
    "    elif key == \"k\": #-z for B\n",
    "        B.apply(qutip.sigmaz(), True)\n",
    "    elif key == \"i\": #+z for B\n",
    "        B.apply(qutip.sigmaz(), False)\n",
    "    elif key == \"m\": #-y for B\n",
    "        B.apply(qutip.sigmay(), True)\n",
    "    elif key == \",\": #+y for B\n",
    "        B.apply(qutip.sigmay(), False)\n",
    "\n",
    "vpython.scene.bind('keydown', keyboard)\n",
    "\n",
    "while True:\n",
    "    vpython.rate(50)\n",
    "    #AB = energy_unitary*AB\n",
    "    #AB.dims = [[2,2], [1,1]]\n",
    "    #A.state = AB.ptrace(0)\n",
    "    #B.state = AB.ptrace(1)\n",
    "    #AB.dims = [[4], [1]]\n",
    "    A.update()\n",
    "    B.update()"
   ]
  },
  {
   "cell_type": "code",
   "execution_count": null,
   "metadata": {
    "collapsed": true
   },
   "outputs": [],
   "source": []
  }
 ],
 "metadata": {
  "kernelspec": {
   "display_name": "VPython",
   "language": "python",
   "name": "vpython"
  },
  "language_info": {
   "codemirror_mode": {
    "name": "ipython",
    "version": 3
   },
   "file_extension": ".py",
   "mimetype": "text/x-python",
   "name": "python",
   "nbconvert_exporter": "python",
   "pygments_lexer": "ipython3",
   "version": "3.6.3"
  }
 },
 "nbformat": 4,
 "nbformat_minor": 2
}
