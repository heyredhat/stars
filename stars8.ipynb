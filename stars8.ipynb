{
 "cells": [
  {
   "cell_type": "code",
   "execution_count": null,
   "metadata": {
    "scrolled": true
   },
   "outputs": [
    {
     "data": {
      "application/javascript": [
       "require.undef(\"nbextensions/vpython_libraries/glow.min\");"
      ],
      "text/plain": [
       "<IPython.core.display.Javascript object>"
      ]
     },
     "metadata": {},
     "output_type": "display_data"
    },
    {
     "data": {
      "application/javascript": [
       "require.undef(\"nbextensions/vpython_libraries/glowcomm\");"
      ],
      "text/plain": [
       "<IPython.core.display.Javascript object>"
      ]
     },
     "metadata": {},
     "output_type": "display_data"
    },
    {
     "data": {
      "application/javascript": [
       "require.undef(\"nbextensions/vpython_libraries/jquery-ui.custom.min\");"
      ],
      "text/plain": [
       "<IPython.core.display.Javascript object>"
      ]
     },
     "metadata": {},
     "output_type": "display_data"
    },
    {
     "data": {
      "application/javascript": [
       "require([\"nbextensions/vpython_libraries/glow.min\"], function(){console.log(\"GLOW LOADED\");})"
      ],
      "text/plain": [
       "<IPython.core.display.Javascript object>"
      ]
     },
     "metadata": {},
     "output_type": "display_data"
    },
    {
     "data": {
      "application/javascript": [
       "require([\"nbextensions/vpython_libraries/glowcomm\"], function(){console.log(\"GLOWCOMM LOADED\");})"
      ],
      "text/plain": [
       "<IPython.core.display.Javascript object>"
      ]
     },
     "metadata": {},
     "output_type": "display_data"
    },
    {
     "data": {
      "application/javascript": [
       "require([\"nbextensions/vpython_libraries/jquery-ui.custom.min\"], function(){console.log(\"JQUERY LOADED\");})"
      ],
      "text/plain": [
       "<IPython.core.display.Javascript object>"
      ]
     },
     "metadata": {},
     "output_type": "display_data"
    },
    {
     "data": {
      "text/html": [
       "<div id=\"glowscript\" class=\"glowscript\"></div>"
      ],
      "text/plain": [
       "<IPython.core.display.HTML object>"
      ]
     },
     "metadata": {},
     "output_type": "display_data"
    },
    {
     "data": {
      "application/javascript": [
       "window.__context = { glowscript_container: $(\"#glowscript\").removeAttr(\"id\")}"
      ],
      "text/plain": [
       "<IPython.core.display.Javascript object>"
      ]
     },
     "metadata": {},
     "output_type": "display_data"
    }
   ],
   "source": [
    "import math\n",
    "import mpmath\n",
    "import random\n",
    "import primefac\n",
    "import numpy as np\n",
    "import scipy.linalg\n",
    "import qutip\n",
    "import vpython\n",
    "\n",
    "def scalar_to_vector(z):\n",
    "    x = z.real\n",
    "    y = z.imag\n",
    "    return [(2*x)/(1.+(x**2)+(y**2)), \\\n",
    "           (2*y)/(1.+(x**2)+(y**2)), \\\n",
    "           (-1.+(x**2)+(y**2))/(1.+(x**2)+(y**2))]\n",
    "\n",
    "def vector_to_scalar(x, y, z):\n",
    "    if z == 1:\n",
    "        return Inf \n",
    "    else:\n",
    "        return complex(x/(1-z), y/(1-z))\n",
    "\n",
    "class Sphere:\n",
    "    def __init__(self, n, dt=0.005):\n",
    "        self.t = 0\n",
    "        self.n = n\n",
    "        self.dt = dt\n",
    "        self.state = qutip.rand_ket(self.n)\n",
    "        self.energy = qutip.rand_herm(self.n)\n",
    "        self.dims = None\n",
    "        self.polynomial = None\n",
    "        self.pure_scalars = None\n",
    "        self.pure_vectors = None\n",
    "        self.pure_matrices = None\n",
    "        self.pure_energy = None\n",
    "        self.impure_vectors = None\n",
    "        self.impure_matrices = None\n",
    "        self.impure_energies = None\n",
    "        self.shatter()\n",
    "\n",
    "    def shatter(self):\n",
    "        self.polynomial = self.state.full().T.tolist()[0]\n",
    "        self.pure_scalars = mpmath.polyroots(self.polynomial)\n",
    "        self.pure_vectors = [scalar_to_vector(scalar) for scalar in self.pure_scalars]\n",
    "        self.pure_matrices = [vector[0]*qutip.sigmax().full() + \\\n",
    "                              vector[1]*qutip.sigmay().full() + \\\n",
    "                              vector[2]*qutip.sigmaz().full() \n",
    "                                for vector in self.pure_vectors]\n",
    "        self.pure_energy = qutip.expect(self.energy, self.state)\n",
    "        pfacs = list(primefac.primefac(self.n))\n",
    "        twos = pfacs.count(2)\n",
    "        remainder = int(self.n/2**twos)\n",
    "        splitting = [2]*twos\n",
    "        if remainder != 1:\n",
    "            self.state.dims = [splitting+[remainder],[1]*(len(splitting)+1)]\n",
    "        else:\n",
    "            self.state.dims = [splitting,[1]*(len(splitting))]\n",
    "        self.dims = self.state.dims[0]\n",
    "        self.impure_matrices = [self.state.ptrace(i) for i in range(len(splitting))]\n",
    "        self.energy.dims = [self.dims, self.dims]\n",
    "        self.impure_energies = [self.energy.ptrace(i) for i in range(len(splitting))]\n",
    "        self.energy.dims = [[self.n], [self.n]]\n",
    "        self.impure_energies = [qutip.expect(self.impure_energies[i], self.impure_matrices[i]) for i in range(len(self.impure_matrices))]\n",
    "        self.impure_vectors = [[qutip.expect(qutip.sigmax(), matrix), \\\n",
    "                                qutip.expect(qutip.sigmay(), matrix), \\\n",
    "                                qutip.expect(qutip.sigmaz(), matrix)] \n",
    "                                    for matrix in self.impure_matrices]\n",
    "    \n",
    "    def evolve(self):\n",
    "        propagator = scipy.linalg.expm(-2*math.pi*complex(0,1)*self.energy.full()*self.dt)\n",
    "        self.state = qutip.Qobj(propagator.dot(self.state.full()))\n",
    "        self.shatter()\n",
    "        self.t += self.dt\n",
    "        \n",
    "################\n",
    "sphere = Sphere(8)\n",
    "################\n",
    "\n",
    "vpython.scene.range = 1\n",
    "vpython.scene.forward = vpython.vector(random.random(), random.random(), random.random())\n",
    "vpython.scene.lights = []\n",
    "#vsphere = vpython.sphere(pos=vpython.vector(0,0,0), radius=1, color=vpython.color.blue, opacity=0.5)\n",
    "vpure_stars = [vpython.sphere(pos=vpython.vector(*vector),\\\n",
    "                              radius=0.1, color=vpython.color.white,\\\n",
    "                              opacity=1.0, emissive=True) \n",
    "                                     for vector in sphere.pure_vectors]\n",
    "vimpure_stars = [vpython.sphere(pos=vpython.vector(*vector),\\\n",
    "                                radius=0.1, color=vpython.color.red,\\\n",
    "                                opacity=1.0, emissive=True) \n",
    "                                     for vector in sphere.impure_vectors]\n",
    "\n",
    "def draw_stars():\n",
    "    vpython.rate(15)\n",
    "    for i in range(len(vpure_stars)):\n",
    "        vpure_stars[i].pos = vpython.vector(*sphere.pure_vectors[i])\n",
    "        vpure_stars[i].color = vpython.color.hsv_to_rgb(vpython.vector(sphere.pure_energy**2,1,1))\n",
    "        #vsphere.color = vpython.color.hsv_to_rgb(vpython.vector(sphere.pure_energy**2,1,1))\n",
    "    for i in range(len(vimpure_stars)):\n",
    "         vimpure_stars[i].pos = vpython.vector(*sphere.impure_vectors[i])\n",
    "         vimpure_stars[i].color = vpython.color.hsv_to_rgb(vpython.vector(sphere.impure_energies[i]**2,1,1))\n",
    "\n",
    "def click(event):\n",
    "    global sphere\n",
    "    global vpure_stars\n",
    "    global vimpure_stars\n",
    "    star = vpython.scene.mouse.pick\n",
    "    energy = None\n",
    "    if star in vpure_stars:\n",
    "        i = vpure_stars.index(star)\n",
    "        energy = Qobj(sphere.pure_matrices[i])\n",
    "    elif star in vimpure_stars:\n",
    "        i = vimpure_stars.index(star)\n",
    "        energy = sphere.impure_matrices[i]\n",
    "    else:\n",
    "        return\n",
    "    pieces = []\n",
    "    for j in sphere.dims:\n",
    "        if j == 2:\n",
    "            pieces.append(energy)\n",
    "        else:\n",
    "            pieces.append(qutip.eye(j))\n",
    "    total_energy = qutip.tensor(*pieces)\n",
    "    sphere.energy = total_energy\n",
    "    sphere.energy.dims = [[sphere.n],[sphere.n]]\n",
    "    #sphere.state = total_projector.dag()*sphere.state*total_projector\n",
    "        \n",
    "vpython.scene.bind('click', click)\n",
    " \n",
    "while True:\n",
    "    draw_stars()\n",
    "    sphere.evolve()"
   ]
  },
  {
   "cell_type": "code",
   "execution_count": null,
   "metadata": {},
   "outputs": [],
   "source": []
  }
 ],
 "metadata": {
  "kernelspec": {
   "display_name": "VPython",
   "language": "python",
   "name": "vpython"
  },
  "language_info": {
   "codemirror_mode": {
    "name": "ipython",
    "version": 2
   },
   "file_extension": ".py",
   "mimetype": "text/x-python",
   "name": "python",
   "nbconvert_exporter": "python",
   "pygments_lexer": "ipython2",
   "version": "2.7.12"
  }
 },
 "nbformat": 4,
 "nbformat_minor": 2
}
