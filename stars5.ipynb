{
 "cells": [
  {
   "cell_type": "code",
   "execution_count": 1,
   "metadata": {
    "scrolled": false
   },
   "outputs": [
    {
     "data": {
      "application/javascript": [
       "require.undef(\"nbextensions/vpython_libraries/glow.min\");"
      ],
      "text/plain": [
       "<IPython.core.display.Javascript object>"
      ]
     },
     "metadata": {},
     "output_type": "display_data"
    },
    {
     "data": {
      "application/javascript": [
       "require.undef(\"nbextensions/vpython_libraries/glowcomm\");"
      ],
      "text/plain": [
       "<IPython.core.display.Javascript object>"
      ]
     },
     "metadata": {},
     "output_type": "display_data"
    },
    {
     "data": {
      "application/javascript": [
       "require.undef(\"nbextensions/vpython_libraries/jquery-ui.custom.min\");"
      ],
      "text/plain": [
       "<IPython.core.display.Javascript object>"
      ]
     },
     "metadata": {},
     "output_type": "display_data"
    },
    {
     "data": {
      "application/javascript": [
       "require([\"nbextensions/vpython_libraries/glow.min\"], function(){console.log(\"GLOW LOADED\");})"
      ],
      "text/plain": [
       "<IPython.core.display.Javascript object>"
      ]
     },
     "metadata": {},
     "output_type": "display_data"
    },
    {
     "data": {
      "application/javascript": [
       "require([\"nbextensions/vpython_libraries/glowcomm\"], function(){console.log(\"GLOWCOMM LOADED\");})"
      ],
      "text/plain": [
       "<IPython.core.display.Javascript object>"
      ]
     },
     "metadata": {},
     "output_type": "display_data"
    },
    {
     "data": {
      "application/javascript": [
       "require([\"nbextensions/vpython_libraries/jquery-ui.custom.min\"], function(){console.log(\"JQUERY LOADED\");})"
      ],
      "text/plain": [
       "<IPython.core.display.Javascript object>"
      ]
     },
     "metadata": {},
     "output_type": "display_data"
    },
    {
     "data": {
      "text/html": [
       "<div id=\"glowscript\" class=\"glowscript\"></div>"
      ],
      "text/plain": [
       "<IPython.core.display.HTML object>"
      ]
     },
     "metadata": {},
     "output_type": "display_data"
    },
    {
     "data": {
      "application/javascript": [
       "window.__context = { glowscript_container: $(\"#glowscript\").removeAttr(\"id\")}"
      ],
      "text/plain": [
       "<IPython.core.display.Javascript object>"
      ]
     },
     "metadata": {},
     "output_type": "display_data"
    }
   ],
   "source": [
    "# IN PROGRESS...\n",
    "# IE DOES NOT WORK STAY BACK\n",
    "#\n",
    "# THE STELLAR INTERPRETATION OF QUANTUM MECHANICS\n",
    "# THANKS TO ETTORE MAJORANA. VERSION 5.0\n",
    "#\n",
    "# Now with free will. See settings below...\n",
    "#\n",
    "# Choose:\n",
    "n=4\n",
    "# Choose n where n is the dimensionality of the randomly \n",
    "# generated quantum system, which is in a pure state.\n",
    "# This is visualized by n-1 white stars in the sky.\n",
    "# The pure state is decomposed into tensor pieces,\n",
    "# one for each prime factor of n. So a 12d pure state\n",
    "# factors into 3 pieces: 2x2, 2x2, and 3x3 mixed states. We \n",
    "# take primes in order of magnitude; obviously this is an\n",
    "# arbitrary choice. Each piece is assigned a randomly\n",
    "# chosen color. Each nxn density matrix leads to n constellations\n",
    "# of n-1 stars in the sky, all of the same color, with the sizes\n",
    "# aka heights of the stars in each constellation given by the eigenvalue \n",
    "# corresponding to the eigenvector of the density matrix.\n",
    "# For a prime dimensional system, the pure state is composed with\n",
    "# its conjugate to form a density matrix whose eigenvalues/eigenvectors\n",
    "# are constellated and displayed alongside the pure stars.\n",
    "\n",
    "import vpython\n",
    "import numpy as np\n",
    "import scipy.linalg\n",
    "import math\n",
    "import mpmath\n",
    "import qutip\n",
    "import random\n",
    "import sys\n",
    "\n",
    "# Returns a list of the prime factors\n",
    "# of the integer n ordered by magnitude.\n",
    "def factorize(n):\n",
    "    if n == 0 or n == 1:\n",
    "        return [n]\n",
    "    primfac = []\n",
    "    d = 2\n",
    "    while d*d <= n:\n",
    "        while (n % d) == 0:\n",
    "            primfac.append(d)\n",
    "            n //= d\n",
    "        d += 1\n",
    "    if n > 1:\n",
    "       primfac.append(n)\n",
    "    return primfac\n",
    "\n",
    "# Stereographically projects an XYZ cartesian coordinate on \n",
    "# the Riemann sphere to a point on the complex plane.\n",
    "def flatten(x, y, z):\n",
    "    if z == 1:\n",
    "        return Inf \n",
    "    else:\n",
    "        return complex(x/(1-z), y/(1-z))\n",
    "\n",
    "# Reverse stereographically projects a point on the complex plane\n",
    "# to an XYZ cartesian coordinate on the Riemann sphere.\n",
    "def rollup(z):\n",
    "    x = z.real\n",
    "    y = z.imag\n",
    "    return (2*x)/(1+(x**2)+(y**2)), \\\n",
    "            (2*y)/(1+(x**2)+(y**2)), \\\n",
    "            (-1+(x**2)+(y**2))/(1+(x**2)+(y**2))\n",
    "        \n",
    "# Takes a complex vector, interprets its ordered components as\n",
    "# the coefficients of a polynomial in one variable, and solves for\n",
    "# the roots, giving an unordered set of complex numbers. \n",
    "# These complex points are reverse stereographically projected onto \n",
    "# the Riemann sphere, and the XYZ cartesian coordinates of these points \n",
    "# are returned. When there's a ZeroDivisionError aka we're at infinity,\n",
    "# we map to the point (0,0,1) aka the North Pole.\n",
    "def constellate(v):\n",
    "    try:\n",
    "        roots = mpmath.polyroots(v)\n",
    "    except:\n",
    "         return [[0,0,1] for i in range(len(v))]\n",
    "    return [[float(a) for a in rollup(root)] for root in roots]\n",
    "\n",
    "# Takes a matrix, in this case, a density matrix, and finds its spectrum.\n",
    "# Two lists are returned: of eigenvalues and the corresponding constellations of each eigenvector,\n",
    "# signifying the constellations at what \"height\" or \"scale\" between heaven and earth.\n",
    "def emanate(m):\n",
    "    l, v = np.linalg.eig(m)\n",
    "    return l, [constellate(v[i]) for i in range(len(v))]\n",
    "\n",
    "# Takes a complex vector, in this case, the pure state of a quantum system,\n",
    "# and shatters it into pieces depending on the prime factorization of\n",
    "# the dimensionality. For example, if d=12 -> [2, 2, 3], the 12 dimensional\n",
    "# pure state is decomposed into 3 density matrices, a 2x2, a 2x2, and a 3x3.\n",
    "# Obviously, there are many different ways to decompose the same pure state,\n",
    "# depending on the prime factorization and its symmetries. The question is\n",
    "# how to juxtapose all that information visually. For now, considering as\n",
    "# we are choosing states at random, there's no reason to prefer one\n",
    "# decomposition a priori, so we make the canonical choice.\n",
    "# Returns a list of: the constellation of the pure state, followed by\n",
    "# the emanations of the mixed states.\n",
    "def shatter(v):\n",
    "    d = len(v)\n",
    "    primes = factorize(d)\n",
    "    pure = qutip.Qobj(v)\n",
    "    pure.dims = [primes,[1]*len(primes)]\n",
    "    souls = [pure.ptrace(i).full() for i in range(len(primes))]\n",
    "    return constellate(v), [emanate(soul) for soul in souls]\n",
    "\n",
    "# Returns a randomly generated quantum system:\n",
    "# a random pure state for the state,\n",
    "# a random hermitian matrix for the hamiltonian,\n",
    "# aka the energy operator aka the time evolver.\n",
    "def bang(n):\n",
    "    return qutip.rand_ket(n).full().T[0], \\\n",
    "        qutip.rand_herm(n).full()\n",
    "\n",
    "# Initialize quantum simulation\n",
    "state, hamiltonian = bang(n)\n",
    "\n",
    "# Initialize video settings\n",
    "vpython.scene.width = 1000\n",
    "vpython.scene.height = 1000\n",
    "vpython.scene.range = 1.3\n",
    "# Set our initial vantage point at random.\n",
    "vpython.scene.forward = vpython.vector(random.random(), random.random(), random.random())\n",
    "\n",
    "# Create the celestial sphere, then shatter the pure state, capturing its\n",
    "# light in separate vessels. The stars of the pure state are constellated.\n",
    "# Then the separate impure spheres, one for each prime dimensional\n",
    "# piece, are explored. Within each impure sphere, there is a hierarchy of constellations\n",
    "# given by the spectrum of the density matrix. The stars of each constellation are created,\n",
    "# their sizes/heights are proportional to the eigenvalue corresponding to the eigenvector\n",
    "# of the constellation of which they are a part. The radii can't be less than 0.1.\n",
    "god = vpython.sphere(pos=vpython.vector(0,0,0), radius=1, color=vpython.color.blue, opacity=0.4)\n",
    "vessels = shatter(state)\n",
    "purities, impurities = vessels\n",
    "pure_stars = [vpython.sphere(pos=vpython.vector(*star), radius=0.1,\\\n",
    "                color=vpython.color.black, opacity=0.6, emissive=True )\\\n",
    "                    for star in purities]\n",
    "impure_spheres = []\n",
    "for n, impurity in enumerate(impurities):\n",
    "    heights, heavens = impurity\n",
    "    colors = [0, 0, 0]\n",
    "    levels = []\n",
    "    for i in range(len(heavens)):\n",
    "        height = heights[i]\n",
    "        constellation = heavens[i]\n",
    "        this_color = [float(n)/float(len(impurities)),\\\n",
    "                     float(len(heavens)-i)/len(heavens),\\\n",
    "                     1]\n",
    "        impure_stars = []\n",
    "        for j, star in enumerate(constellation):\n",
    "            impure_star = vpython.sphere(pos=vpython.vector(*star), radius=0.05+abs(height**2),\\\n",
    "                    color=vpython.color.hsv_to_rgb(vpython.vector(*this_color)), opacity=0.8, emissive=True)\n",
    "            curve = None\n",
    "            if j == len(constellation)-1:\n",
    "                curve = vpython.curve(radius=1, color=vpython.color.red, pos=[vpython.vector(*constellation[j]), vpython.vector(*constellation[0])])\n",
    "            else:\n",
    "                curve = vpython.curve(radius=1, color=vpython.color.red, pos=[vpython.vector(*constellation[j]), vpython.vector(*constellation[j+1])])\n",
    "            curve.visible = True\n",
    "            impure_stars.append((impure_star, curve))\n",
    "        levels.append(impure_stars)\n",
    "    impure_spheres.append(levels)\n",
    "\n",
    "# Free will interface\n",
    "# Mouse click callback\n",
    "def click(event):\n",
    "    pick = vpython.scene.mouse.pick\n",
    "    if pick.emissive:\n",
    "        pick.emissive=False\n",
    "    else:\n",
    "        pick.emissive=True\n",
    "        \n",
    "vpython.scene.bind('click', click)\n",
    "    \n",
    "# Time evolution:\n",
    "# Exponentiates the hamiltonian, integrating up to the current\n",
    "# time step, giving a unitary transformation implementing\n",
    "# continuous time evolution up to now. The unitary time evolution\n",
    "# operator is applied to the original state to get the next.\n",
    "# This resulting state is shattered, and the locations of all the stars,\n",
    "# in their separate constellations and in their separate spheres, impure,\n",
    "# and pure, are updated, along with their radii.\n",
    "# Adjust: \n",
    "#  dt gives the width of a timestep in the simulation\n",
    "#  rate(f) sets the frequency of updates in real time\n",
    "#    to increase the effect of verisimilitude.\n",
    "t = 0\n",
    "dt = 0.002\n",
    "while False:\n",
    "    vpython.rate(10000)\n",
    "    time_step = scipy.linalg.expm(-2*math.pi*complex(0,1)*hamiltonian*t)\n",
    "    tomorrows_vessels = shatter(time_step.dot(state))\n",
    "    tomorrows_purities, tomorrows_impurities = tomorrows_vessels\n",
    "    for i in range(len(pure_stars)):\n",
    "        pure_stars[i].pos = vpython.vector(*tomorrows_purities[i])\n",
    "    for i in range(len(tomorrows_impurities)):\n",
    "        tomorrows_heights = tomorrows_impurities[i][0]\n",
    "        tomorrows_heavens = tomorrows_impurities[i][1]\n",
    "        for j in range(len(tomorrows_heavens)):\n",
    "            tomorrows_height = tomorrows_heights[j]\n",
    "            tomorrows_constellation = tomorrows_heavens[j]\n",
    "            stars = impure_spheres[i][j]\n",
    "            for k in range(len(stars)):\n",
    "                star, line = stars[k][0], stars[k][1]\n",
    "                stars[k][0].pos = vpython.vector(*tomorrows_constellation[k])\n",
    "                stars[k][0].radius = 0.05+float(abs(tomorrows_height)**2)\n",
    "                stars[k][1].clear()\n",
    "                if k > 0:\n",
    "                    if k == len(stars)-1:\n",
    "                        stars[k][1].append([stars[0][0].pos, stars[k][0].pos])\n",
    "                    else:   \n",
    "                        stars[k][1].append([stars[k-1][0].pos, stars[k][0].pos])\n",
    "                else:\n",
    "                    stars[0][1].append([vpython.vector(*tomorrows_constellation[-1]), stars[k][0].pos])\n",
    "    t += dt"
   ]
  },
  {
   "cell_type": "code",
   "execution_count": null,
   "metadata": {
    "collapsed": true
   },
   "outputs": [],
   "source": []
  }
 ],
 "metadata": {
  "kernelspec": {
   "display_name": "VPython",
   "language": "python",
   "name": "vpython"
  },
  "language_info": {
   "codemirror_mode": {
    "name": "ipython",
    "version": 2
   },
   "file_extension": ".py",
   "mimetype": "text/x-python",
   "name": "python",
   "nbconvert_exporter": "python",
   "pygments_lexer": "ipython2",
   "version": "2.7.12"
  }
 },
 "nbformat": 4,
 "nbformat_minor": 2
}
