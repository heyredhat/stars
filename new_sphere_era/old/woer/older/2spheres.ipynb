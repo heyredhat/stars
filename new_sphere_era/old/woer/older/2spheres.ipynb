{
 "cells": [
  {
   "cell_type": "code",
   "execution_count": 2,
   "metadata": {},
   "outputs": [
    {
     "data": {
      "text/plain": [
       "array([-0.33989234+0.14612743j, -0.02211679+0.31712515j,\n",
       "        0.52090311+0.5273848j , -0.16073830+0.43214683j])"
      ]
     },
     "execution_count": 2,
     "metadata": {},
     "output_type": "execute_result"
    }
   ],
   "source": [
    "import numpy as np\n",
    "import qutip\n",
    "\n",
    "def im():\n",
    "    return complex(0,1)\n",
    "\n",
    "def quaternion(a, b, c, d):\n",
    "    return np.array([[a+b*im(), c+d*im()],\\\n",
    "                     [-1*c+d*im(), a-b*im()]])\n",
    "\n",
    "I = quaternion(0, 1, 0, 0)\n",
    "J = quaternion(0, 0, 1, 0)\n",
    "K = quaternion(0, 0, 0, 1)\n",
    "\n",
    "two_qubits = qutip.rand_ket(4).full().T[0]\n",
    "alpha, beta, gamma, delta = two_qubits\n",
    "\n",
    "q1 = alpha + beta*J\n",
    "q2 = gamme + delta*J\n",
    "\n",
    "def h1(q1, q2):\n",
    "    \n"
   ]
  },
  {
   "cell_type": "code",
   "execution_count": null,
   "metadata": {
    "collapsed": true
   },
   "outputs": [],
   "source": []
  }
 ],
 "metadata": {
  "kernelspec": {
   "display_name": "VPython",
   "language": "python",
   "name": "vpython"
  },
  "language_info": {
   "codemirror_mode": {
    "name": "ipython",
    "version": 3
   },
   "file_extension": ".py",
   "mimetype": "text/x-python",
   "name": "python",
   "nbconvert_exporter": "python",
   "pygments_lexer": "ipython3",
   "version": "3.6.3"
  }
 },
 "nbformat": 4,
 "nbformat_minor": 2
}
