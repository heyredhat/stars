{
 "cells": [
  {
   "cell_type": "code",
   "execution_count": null,
   "metadata": {
    "collapsed": true
   },
   "outputs": [],
   "source": [
    "class Converter:\n",
    "    def __init__(self):\n",
    "\n",
    "\n",
    "\n",
    "\n",
    "\n",
    "class Sphere:\n",
    "    def __init__(self):\n",
    "        self.center\n",
    "        self.radius\n",
    "        self.color\n",
    "        \n",
    "        ...\n",
    "        \n",
    "        self.state\n",
    "        self.X, self.Y, self.Z\n",
    "        self.spin_axis\n",
    "        \n",
    "        ...\n",
    "        \n",
    "        self.scale\n",
    "        self.polynomial\n",
    "        self.roots\n",
    "        self.xyz_stars\n",
    "        self.altaz_stars\n",
    "        self.qubit_stars\n",
    "        \n",
    "        self.qubitX, self.qubitY, self.qubitZ\n",
    "        self.qubit_creators\n",
    "        self.qubit_annihilators\n",
    "        \n",
    "        self.field\n",
    "        self.star_creators\n",
    "        self.star_annhilators\n",
    "        self.star_numbers\n",
    "        self.star_number\n",
    "        \n",
    "        ...\n",
    "        \n",
    "        self.energy\n",
    "        self.dt\n",
    "        \n",
    "        ...\n",
    "        \n",
    "        mobius transformations\n",
    "        \n",
    "        ...\n",
    "        \n",
    "        spheres within spheres\n",
    "        \n",
    "        ..\n",
    "        \n",
    "        release of particles\n",
    "        \n",
    "        "
   ]
  }
 ],
 "metadata": {
  "kernelspec": {
   "display_name": "VPython",
   "language": "python",
   "name": "vpython"
  },
  "language_info": {
   "codemirror_mode": {
    "name": "ipython",
    "version": 3
   },
   "file_extension": ".py",
   "mimetype": "text/x-python",
   "name": "python",
   "nbconvert_exporter": "python",
   "pygments_lexer": "ipython3",
   "version": "3.6.3"
  }
 },
 "nbformat": 4,
 "nbformat_minor": 2
}
