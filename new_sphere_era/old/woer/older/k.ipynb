{
 "cells": [
  {
   "cell_type": "code",
   "execution_count": 5,
   "metadata": {},
   "outputs": [],
   "source": [
    "import numpy as np\n",
    "import qutip\n",
    "import operator\n",
    "import functools\n",
    "\n",
    "class Sphere:\n",
    "    def __init__(self, state=None, energy=None, parent=None):\n",
    "        self.state = state\n",
    "        self.energy = energy\n",
    "        self.parent = parent\n",
    "        self.children = None\n",
    "        self.bear_children()\n",
    "        \n",
    "    def bear_children(self):\n",
    "        distinguishable_subspaces = functools.reduce(operator.mul, state.dims[0], 1)\n",
    "        if distinguishable_subspaces > 1:\n",
    "            child_states = [self.state.ptrace(i) for i in range(distinguishable_subspaces)]\n",
    "            if self.children == None:\n",
    "                self.children = [Sphere(state=child_states[i], parent=self)\\\n",
    "                                     for i in range(distinguishable_subspaces)]\n",
    "            else:\n",
    "                for i in range(distinguishable_subspaces):\n",
    "                    self.children[i].state = child_states[i]\n",
    "    \n",
    "    def total_spin(self):\n",
    "        T = qutip.identity(n)\n",
    "        X, Y, Z = qutip.jmat((self.n-1.)/2.)\n",
    "        t = qutip.expect(t, self.state)\n",
    "        x = qutip.expect(x, self.state)\n",
    "        y = qutip.expect(y, self.state)\n",
    "        z = qutip.expect(z, self.state)\n",
    "        spin = np.array([t, x, y, z])\n",
    "        magnitude = np.linalg.norm(spin)\n",
    "        if magnitude != 0:\n",
    "            spin = spin / magnitude\n",
    "        return spin\n",
    "\n",
    "##################################################################################################################\n",
    "pure_state = qutip.tensor(qutip.rand_ket(2), qutip.rand_ket(2), qutip.rand_ket(2))\n",
    "state = qutip.tensor(pure_state, pure_state.dag())\n",
    "energy = qutip.rand_herm(8)\n",
    "\n",
    "sphere = Sphere(state, energy)"
   ]
  },
  {
   "cell_type": "code",
   "execution_count": 6,
   "metadata": {},
   "outputs": [
    {
     "name": "stdout",
     "output_type": "stream",
     "text": [
      "[<__main__.Sphere object at 0x117e7d748>, <__main__.Sphere object at 0x117e7d7b8>, <__main__.Sphere object at 0x117e7d780>, <__main__.Sphere object at 0x117e7d7f0>, <__main__.Sphere object at 0x117e7d828>, <__main__.Sphere object at 0x117e7d860>]\n"
     ]
    }
   ],
   "source": []
  },
  {
   "cell_type": "code",
   "execution_count": null,
   "metadata": {
    "collapsed": true
   },
   "outputs": [],
   "source": []
  }
 ],
 "metadata": {
  "kernelspec": {
   "display_name": "VPython",
   "language": "python",
   "name": "vpython"
  },
  "language_info": {
   "codemirror_mode": {
    "name": "ipython",
    "version": 3
   },
   "file_extension": ".py",
   "mimetype": "text/x-python",
   "name": "python",
   "nbconvert_exporter": "python",
   "pygments_lexer": "ipython3",
   "version": "3.6.3"
  }
 },
 "nbformat": 4,
 "nbformat_minor": 2
}
