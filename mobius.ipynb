{
 "cells": [
  {
   "cell_type": "code",
   "execution_count": null,
   "metadata": {
    "scrolled": false
   },
   "outputs": [
    {
     "data": {
      "application/javascript": [
       "require.undef(\"nbextensions/vpython_libraries/glow.min\");"
      ],
      "text/plain": [
       "<IPython.core.display.Javascript object>"
      ]
     },
     "metadata": {},
     "output_type": "display_data"
    },
    {
     "data": {
      "application/javascript": [
       "require.undef(\"nbextensions/vpython_libraries/glowcomm\");"
      ],
      "text/plain": [
       "<IPython.core.display.Javascript object>"
      ]
     },
     "metadata": {},
     "output_type": "display_data"
    },
    {
     "data": {
      "application/javascript": [
       "require.undef(\"nbextensions/vpython_libraries/jquery-ui.custom.min\");"
      ],
      "text/plain": [
       "<IPython.core.display.Javascript object>"
      ]
     },
     "metadata": {},
     "output_type": "display_data"
    },
    {
     "data": {
      "application/javascript": [
       "require([\"nbextensions/vpython_libraries/glow.min\"], function(){console.log(\"GLOW LOADED\");})"
      ],
      "text/plain": [
       "<IPython.core.display.Javascript object>"
      ]
     },
     "metadata": {},
     "output_type": "display_data"
    },
    {
     "data": {
      "application/javascript": [
       "require([\"nbextensions/vpython_libraries/glowcomm\"], function(){console.log(\"GLOWCOMM LOADED\");})"
      ],
      "text/plain": [
       "<IPython.core.display.Javascript object>"
      ]
     },
     "metadata": {},
     "output_type": "display_data"
    },
    {
     "data": {
      "application/javascript": [
       "require([\"nbextensions/vpython_libraries/jquery-ui.custom.min\"], function(){console.log(\"JQUERY LOADED\");})"
      ],
      "text/plain": [
       "<IPython.core.display.Javascript object>"
      ]
     },
     "metadata": {},
     "output_type": "display_data"
    },
    {
     "data": {
      "text/html": [
       "<div id=\"glowscript\" class=\"glowscript\"></div>"
      ],
      "text/plain": [
       "<IPython.core.display.HTML object>"
      ]
     },
     "metadata": {},
     "output_type": "display_data"
    },
    {
     "data": {
      "application/javascript": [
       "window.__context = { glowscript_container: $(\"#glowscript\").removeAttr(\"id\")}"
      ],
      "text/plain": [
       "<IPython.core.display.Javascript object>"
      ]
     },
     "metadata": {},
     "output_type": "display_data"
    }
   ],
   "source": [
    "import vpython\n",
    "import qutip\n",
    "import random\n",
    "import math\n",
    "import numpy as np\n",
    "import cmath\n",
    "import mpmath\n",
    "\n",
    "#\n",
    "\n",
    "def combos(a,b):\n",
    "    f = math.factorial\n",
    "    return f(a) / f(b) / f(a-b)\n",
    "\n",
    "def state_polynomial(v):\n",
    "    polynomial = v.T.tolist()\n",
    "    return [(((-1)**i) * math.sqrt(combos(len(polynomial)-1,i))) * polynomial[i] for i in range(len(polynomial))]\n",
    "\n",
    "def polynomial_roots(polynomial):\n",
    "    try:\n",
    "        roots = [complex(root) for root in mpmath.polyroots(polynomial)]\n",
    "    except:\n",
    "        return [complex(0,0) for i in range(len(polynomial)-1)]\n",
    "    return roots\n",
    "\n",
    "def c_xyz(c):\n",
    "    if c == float('inf'):\n",
    "        return [0,0,1]\n",
    "    x = c.real\n",
    "    y = c.imag\n",
    "    return [(2*x)/(1.+(x**2)+(y**2)), \\\n",
    "           (2*y)/(1.+(x**2)+(y**2)), \\\n",
    "           (-1.+(x**2)+(y**2))/(1.+(x**2)+(y**2))]\n",
    "\n",
    "def state_xyz(state):\n",
    "    return c_xyz(polynomial_roots(state_polynomial(state))[0])\n",
    "\n",
    "#\n",
    "\n",
    "def A(t):\n",
    "    return np.array([[np.cosh(t), np.sinh(t)], [np.sinh(t), np.cosh(t)]])\n",
    "\n",
    "def N(t):\n",
    "    return np.array([[1, 0], [t, 1]])\n",
    "\n",
    "def K(t):\n",
    "    return np.array([[np.cos(t), -1*np.sin(t)],[np.sin(t), np.cos(t)]])\n",
    "\n",
    "#\n",
    "\n",
    "def mobius_rotate(m, latitude, longitude):\n",
    "    state = spherical_state(latitude, longitude)\n",
    "    arrow = np.outer(state, np.conjugate(state.T))\n",
    "    return np.dot(np.conjugate(arrow.T), np.dot(m, arrow))\n",
    "\n",
    "def apply_mobius(m, states):\n",
    "    return [np.dot(m, state) for state in states]\n",
    "\n",
    "#\n",
    "    \n",
    "def spherical_state(theta, phi):\n",
    "    return np.array([math.cos(theta/2), cmath.exp(complex(0,1)*phi)*theta/2])\n",
    "\n",
    "def spherical_xyz(theta, phi):\n",
    "    x = math.sin(theta)*math.cos(phi)\n",
    "    y = math.sin(theta)*math.sin(phi)\n",
    "    z = math.cos(theta)\n",
    "    return [x, y, z]\n",
    "\n",
    "#\n",
    "\n",
    "def random_stars(n):\n",
    "    return [[random.uniform(0, math.pi), random.uniform(0, 2*math.pi)] for i in range(n)]\n",
    "\n",
    "#\n",
    "\n",
    "vpython.scene.width = 1000\n",
    "vpython.scene.height = 1000\n",
    "vpython.scene.range = 1.5\n",
    "vpython.scene.forward = vpython.vector(0, 1, 0)\n",
    "vpython.scene.up = vpython.vector(-1, 0, 0)\n",
    "vsphere = vpython.sphere(pos=vpython.vector(0,0,0), radius=1, color=vpython.color.blue, opacity=0.5)\n",
    "vearth = vpython.sphere(pos=vpython.vector(0,0,0), radius=0.1, color=vpython.color.cyan, opacity=0.5, emissive=True)\n",
    "vobserver = vpython.sphere(pos=vpython.vector(0,0,0), radius=0.01, color=vpython.color.yellow, opacity=0.5, emissive=True, make_trail=True)\n",
    "        \n",
    "vstars = []\n",
    "\n",
    "#\n",
    "\n",
    "n = 25\n",
    "states = []\n",
    "for i in range(n):\n",
    "    theta, phi = random.uniform(0, math.pi), random.uniform(0, 2*math.pi)\n",
    "\n",
    "    state = spherical_state(theta, phi)\n",
    "    states.append(state)\n",
    "\n",
    "    x, y, z = spherical_xyz(theta, phi)\n",
    "    vstars.append(vpython.sphere(pos=vpython.vector(x, y, z),\\\n",
    "                                 radius=0.01, emissive=True, make_trail=True))\n",
    "    \n",
    "#\n",
    "latitude = 0\n",
    "longitude = 0\n",
    "\n",
    "flag = False\n",
    "step = 0.01\n",
    "\n",
    "def keyboard(event):\n",
    "    global mobius\n",
    "    global states\n",
    "    global flag\n",
    "    global vstars\n",
    "    global step\n",
    "    global latitude\n",
    "    global longitude\n",
    "    key = event.key\n",
    "    if key == \"a\":\n",
    "        latitude -= step\n",
    "    elif key == \"d\":\n",
    "        latitude += step\n",
    "    elif key == \"w\":\n",
    "        longitude += step\n",
    "    elif key == \"s\":\n",
    "        longitude -= step\n",
    "    elif key == \"z\":\n",
    "        step -= 0.01\n",
    "    elif key == \"x\":\n",
    "        step += 0.01\n",
    "    elif key == \"f\":\n",
    "        states = apply_mobius(mobius_rotate(A(-1*step), latitude, longitude), states)\n",
    "    elif key == \"h\":\n",
    "        states = apply_mobius(mobius_rotate(A(step), latitude, longitude), states)\n",
    "    elif key == \"t\":\n",
    "        states = apply_mobius(mobius_rotate(N(step), latitude, longitude), states)\n",
    "    elif key == \"g\":\n",
    "        states = apply_mobius(mobius_rotate(N(-1*step), latitude, longitude), states)\n",
    "    elif key == \"v\":\n",
    "        states = apply_mobius(mobius_rotate(K(-1*step), latitude, longitude), states)\n",
    "    elif key == \"b\":\n",
    "        states = apply_mobius(mobius_rotate(K(step), latitude, longitude), states)\n",
    "    elif key == \"y\":\n",
    "        states = []\n",
    "        new_stars = random_stars(n)\n",
    "        for i in range(n):\n",
    "            theta, phi = new_stars[i]\n",
    "            state = spherical_state(theta, phi)\n",
    "            states.append(state)\n",
    "    elif key == \"p\":\n",
    "        for vstar in vstars:\n",
    "            vstar.clear_trail()\n",
    "    flag = True\n",
    "        \n",
    "vpython.scene.bind('keydown', keyboard)\n",
    "\n",
    "#\n",
    "\n",
    "while True:\n",
    "    vpython.rate(20)\n",
    "    if flag:\n",
    "        for i in range(n):\n",
    "            x, y, z = state_xyz(states[i])\n",
    "            vstars[i].pos = vpython.vector(x, y, z)\n",
    "        vobserver.pos = vpython.vector(*[0.1*coord for coord in spherical_xyz(latitude, longitude)])\n",
    "        flag = False"
   ]
  },
  {
   "cell_type": "code",
   "execution_count": null,
   "metadata": {
    "collapsed": true
   },
   "outputs": [],
   "source": []
  }
 ],
 "metadata": {
  "kernelspec": {
   "display_name": "VPython",
   "language": "python",
   "name": "vpython"
  },
  "language_info": {
   "codemirror_mode": {
    "name": "ipython",
    "version": 3
   },
   "file_extension": ".py",
   "mimetype": "text/x-python",
   "name": "python",
   "nbconvert_exporter": "python",
   "pygments_lexer": "ipython3",
   "version": "3.6.3"
  }
 },
 "nbformat": 4,
 "nbformat_minor": 2
}
